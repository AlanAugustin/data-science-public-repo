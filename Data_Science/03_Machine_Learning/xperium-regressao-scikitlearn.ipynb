{
 "cells": [
  {
   "cell_type": "markdown",
   "id": "1a858e58-2215-4b7c-8649-f75757f797bc",
   "metadata": {
    "nteract": {
     "transient": {
      "deleting": false
     }
    }
   },
   "source": [
    "## Regressão para Preços de Seguros com Scikit Learn\n"
   ]
  },
  {
   "cell_type": "markdown",
   "id": "67814739-5d0f-41ff-8e3c-055a024e6268",
   "metadata": {
    "microsoft": {
     "language": "python",
     "language_group": "synapse_pyspark"
    },
    "nteract": {
     "transient": {
      "deleting": false
     }
    }
   },
   "source": [
    "### Importar Funções e Variáveis Globais"
   ]
  },
  {
   "cell_type": "code",
   "execution_count": 1,
   "id": "f65b6f19-b8d2-4190-854b-a2e3acaf7091",
   "metadata": {
    "jupyter": {
     "outputs_hidden": false,
     "source_hidden": false
    },
    "microsoft": {
     "language": "python",
     "language_group": "synapse_pyspark"
    },
    "nteract": {
     "transient": {
      "deleting": false
     }
    }
   },
   "outputs": [
    {
     "data": {
      "application/vnd.livy.statement-meta+json": {
       "execution_finish_time": "2024-05-26T17:39:54.5590658Z",
       "execution_start_time": "2024-05-26T17:39:54.5589101Z",
       "livy_statement_state": "available",
       "parent_msg_id": "d7c9c432-720f-46d2-a7ac-a9cc9e7c4b37",
       "queued_time": "2024-05-26T17:39:40.990385Z",
       "session_id": "7a5450d8-69d2-4a57-abca-aa777cd97915",
       "session_start_time": "2024-05-26T17:39:41.2215845Z",
       "spark_pool": null,
       "state": "finished",
       "statement_id": 4,
       "statement_ids": [
        3,
        4
       ]
      },
      "text/plain": [
       "StatementMeta(, 7a5450d8-69d2-4a57-abca-aa777cd97915, 4, Finished, Available)"
      ]
     },
     "metadata": {},
     "output_type": "display_data"
    },
    {
     "name": "stdout",
     "output_type": "stream",
     "text": [
      "Variáveis globais importadas\n"
     ]
    }
   ],
   "source": [
    "%run Variaveis_xperium_lh"
   ]
  },
  {
   "cell_type": "code",
   "execution_count": 2,
   "id": "db67f5dd-1fdf-47e9-8e99-608f67db347e",
   "metadata": {
    "jupyter": {
     "outputs_hidden": false,
     "source_hidden": false
    },
    "microsoft": {
     "language": "python",
     "language_group": "synapse_pyspark"
    },
    "nteract": {
     "transient": {
      "deleting": false
     }
    }
   },
   "outputs": [
    {
     "data": {
      "application/vnd.livy.statement-meta+json": {
       "execution_finish_time": "2024-05-26T17:39:57.266643Z",
       "execution_start_time": "2024-05-26T17:39:57.2664828Z",
       "livy_statement_state": "available",
       "parent_msg_id": "5c63369d-e164-4cc5-8df0-566f6f91c408",
       "queued_time": "2024-05-26T17:39:39.8567389Z",
       "session_id": "7a5450d8-69d2-4a57-abca-aa777cd97915",
       "session_start_time": null,
       "spark_pool": null,
       "state": "finished",
       "statement_id": 7,
       "statement_ids": [
        5,
        6,
        7
       ]
      },
      "text/plain": [
       "StatementMeta(, 7a5450d8-69d2-4a57-abca-aa777cd97915, 7, Finished, Available)"
      ]
     },
     "metadata": {},
     "output_type": "display_data"
    },
    {
     "name": "stdout",
     "output_type": "stream",
     "text": [
      "Funções Globais Importadas\n"
     ]
    }
   ],
   "source": [
    "%run Funcoes"
   ]
  },
  {
   "cell_type": "code",
   "execution_count": 3,
   "id": "9045d4a4-02e0-48fe-aace-713a53b1ca2b",
   "metadata": {
    "jupyter": {
     "outputs_hidden": false,
     "source_hidden": false
    },
    "microsoft": {
     "language": "python",
     "language_group": "synapse_pyspark"
    },
    "nteract": {
     "transient": {
      "deleting": false
     }
    }
   },
   "outputs": [
    {
     "data": {
      "application/vnd.livy.statement-meta+json": {
       "execution_finish_time": "2024-05-26T17:40:07.7708158Z",
       "execution_start_time": "2024-05-26T17:39:57.7124916Z",
       "livy_statement_state": "available",
       "parent_msg_id": "512f5886-f1ca-49ca-8eb2-31479c08b5ad",
       "queued_time": "2024-05-26T17:39:39.8663577Z",
       "session_id": "7a5450d8-69d2-4a57-abca-aa777cd97915",
       "session_start_time": null,
       "spark_pool": null,
       "state": "finished",
       "statement_id": 8,
       "statement_ids": [
        8
       ]
      },
      "text/plain": [
       "StatementMeta(, 7a5450d8-69d2-4a57-abca-aa777cd97915, 8, Finished, Available)"
      ]
     },
     "metadata": {},
     "output_type": "display_data"
    }
   ],
   "source": [
    "import os\n",
    "import numpy as np\n",
    "import pandas as pd\n",
    "import matplotlib.pyplot as plt\n",
    "import seaborn as sns\n",
    "#from sklearn.linear_model import LinearRegression\n",
    "#from sklearn.model_selection import train_test_split"
   ]
  },
  {
   "cell_type": "code",
   "execution_count": 4,
   "id": "0e1bcd59-f6a3-4eee-a260-744a0276b011",
   "metadata": {
    "jupyter": {
     "outputs_hidden": false,
     "source_hidden": false
    },
    "microsoft": {
     "language": "python",
     "language_group": "synapse_pyspark"
    },
    "nteract": {
     "transient": {
      "deleting": false
     }
    }
   },
   "outputs": [
    {
     "data": {
      "application/vnd.livy.statement-meta+json": {
       "execution_finish_time": "2024-05-26T17:40:08.4893722Z",
       "execution_start_time": "2024-05-26T17:40:08.2320665Z",
       "livy_statement_state": "available",
       "parent_msg_id": "16a4c4f3-3093-4396-9dce-905a87f36efc",
       "queued_time": "2024-05-26T17:39:39.86703Z",
       "session_id": "7a5450d8-69d2-4a57-abca-aa777cd97915",
       "session_start_time": null,
       "spark_pool": null,
       "state": "finished",
       "statement_id": 9,
       "statement_ids": [
        9
       ]
      },
      "text/plain": [
       "StatementMeta(, 7a5450d8-69d2-4a57-abca-aa777cd97915, 9, Finished, Available)"
      ]
     },
     "metadata": {},
     "output_type": "display_data"
    }
   ],
   "source": [
    "# Configurando Pandas para mostrar duas casas depois da virgula e nao usar notação científica\n",
    "pd.set_option('display.float_format', lambda x: '%.2f' % x)"
   ]
  },
  {
   "cell_type": "markdown",
   "id": "c8d39be0-894e-4d3f-bb7c-11e25113df52",
   "metadata": {
    "microsoft": {
     "language": "python",
     "language_group": "synapse_pyspark"
    },
    "nteract": {
     "transient": {
      "deleting": false
     }
    }
   },
   "source": [
    "### Carregando os Dados"
   ]
  },
  {
   "cell_type": "code",
   "execution_count": 5,
   "id": "d65cc3f0-37bc-4204-9ae6-e64fe6f83c7e",
   "metadata": {
    "jupyter": {
     "outputs_hidden": false,
     "source_hidden": false
    },
    "microsoft": {
     "language": "python",
     "language_group": "synapse_pyspark"
    },
    "nteract": {
     "transient": {
      "deleting": false
     }
    }
   },
   "outputs": [
    {
     "data": {
      "application/vnd.livy.statement-meta+json": {
       "execution_finish_time": "2024-05-26T17:40:12.5040648Z",
       "execution_start_time": "2024-05-26T17:40:08.9300101Z",
       "livy_statement_state": "available",
       "parent_msg_id": "a9dc23c6-cf54-4dab-a2af-ded72ee87d7f",
       "queued_time": "2024-05-26T17:39:39.8676446Z",
       "session_id": "7a5450d8-69d2-4a57-abca-aa777cd97915",
       "session_start_time": null,
       "spark_pool": null,
       "state": "finished",
       "statement_id": 10,
       "statement_ids": [
        10
       ]
      },
      "text/plain": [
       "StatementMeta(, 7a5450d8-69d2-4a57-abca-aa777cd97915, 10, Finished, Available)"
      ]
     },
     "metadata": {},
     "output_type": "display_data"
    }
   ],
   "source": [
    "#df_seguro_pd = pd.read_csv('abfss://e5ceae3a-60a1-4152-a54a-aabdd8a401c9@onelake.dfs.fabric.microsoft.com/8501efaa-d562-4a06-be28-483380a3147b/Files/1. Bronze')\n",
    "\n",
    "path = f\"{camada_bronze}/insurance.csv\"\n",
    "df_seguro = spark.read.options(delimiter = \",\", header = True, enconding = \"UTF-8\", inferSchema = True).csv(path)\n",
    "df_seguro_pd = df_seguro.toPandas()"
   ]
  },
  {
   "cell_type": "code",
   "execution_count": 6,
   "id": "b8eef420-9485-474b-b2c7-bd0728d68d3c",
   "metadata": {
    "jupyter": {
     "outputs_hidden": false,
     "source_hidden": false
    },
    "microsoft": {
     "language": "python",
     "language_group": "synapse_pyspark"
    },
    "nteract": {
     "transient": {
      "deleting": false
     }
    }
   },
   "outputs": [
    {
     "data": {
      "application/vnd.livy.statement-meta+json": {
       "execution_finish_time": "2024-05-26T17:40:13.2133051Z",
       "execution_start_time": "2024-05-26T17:40:12.9544937Z",
       "livy_statement_state": "available",
       "parent_msg_id": "5803c1b8-f8ed-4c6e-843f-5b30a4543116",
       "queued_time": "2024-05-26T17:39:39.8682374Z",
       "session_id": "7a5450d8-69d2-4a57-abca-aa777cd97915",
       "session_start_time": null,
       "spark_pool": null,
       "state": "finished",
       "statement_id": 11,
       "statement_ids": [
        11
       ]
      },
      "text/plain": [
       "StatementMeta(, 7a5450d8-69d2-4a57-abca-aa777cd97915, 11, Finished, Available)"
      ]
     },
     "metadata": {},
     "output_type": "display_data"
    },
    {
     "data": {
      "text/html": [
       "<div>\n",
       "<style scoped>\n",
       "    .dataframe tbody tr th:only-of-type {\n",
       "        vertical-align: middle;\n",
       "    }\n",
       "\n",
       "    .dataframe tbody tr th {\n",
       "        vertical-align: top;\n",
       "    }\n",
       "\n",
       "    .dataframe thead th {\n",
       "        text-align: right;\n",
       "    }\n",
       "</style>\n",
       "<table border=\"1\" class=\"dataframe\">\n",
       "  <thead>\n",
       "    <tr style=\"text-align: right;\">\n",
       "      <th></th>\n",
       "      <th>age</th>\n",
       "      <th>sex</th>\n",
       "      <th>bmi</th>\n",
       "      <th>children</th>\n",
       "      <th>smoker</th>\n",
       "      <th>region</th>\n",
       "      <th>charges</th>\n",
       "    </tr>\n",
       "  </thead>\n",
       "  <tbody>\n",
       "    <tr>\n",
       "      <th>0</th>\n",
       "      <td>19</td>\n",
       "      <td>female</td>\n",
       "      <td>27.90</td>\n",
       "      <td>0</td>\n",
       "      <td>yes</td>\n",
       "      <td>southwest</td>\n",
       "      <td>16884.92</td>\n",
       "    </tr>\n",
       "    <tr>\n",
       "      <th>1</th>\n",
       "      <td>18</td>\n",
       "      <td>male</td>\n",
       "      <td>33.77</td>\n",
       "      <td>1</td>\n",
       "      <td>no</td>\n",
       "      <td>southeast</td>\n",
       "      <td>1725.55</td>\n",
       "    </tr>\n",
       "    <tr>\n",
       "      <th>2</th>\n",
       "      <td>28</td>\n",
       "      <td>male</td>\n",
       "      <td>33.00</td>\n",
       "      <td>3</td>\n",
       "      <td>no</td>\n",
       "      <td>southeast</td>\n",
       "      <td>4449.46</td>\n",
       "    </tr>\n",
       "    <tr>\n",
       "      <th>3</th>\n",
       "      <td>33</td>\n",
       "      <td>male</td>\n",
       "      <td>22.70</td>\n",
       "      <td>0</td>\n",
       "      <td>no</td>\n",
       "      <td>northwest</td>\n",
       "      <td>21984.47</td>\n",
       "    </tr>\n",
       "    <tr>\n",
       "      <th>4</th>\n",
       "      <td>32</td>\n",
       "      <td>male</td>\n",
       "      <td>28.88</td>\n",
       "      <td>0</td>\n",
       "      <td>no</td>\n",
       "      <td>northwest</td>\n",
       "      <td>3866.86</td>\n",
       "    </tr>\n",
       "  </tbody>\n",
       "</table>\n",
       "</div>"
      ],
      "text/plain": [
       "   age     sex   bmi  children smoker     region  charges\n",
       "0   19  female 27.90         0    yes  southwest 16884.92\n",
       "1   18    male 33.77         1     no  southeast  1725.55\n",
       "2   28    male 33.00         3     no  southeast  4449.46\n",
       "3   33    male 22.70         0     no  northwest 21984.47\n",
       "4   32    male 28.88         0     no  northwest  3866.86"
      ]
     },
     "execution_count": 32,
     "metadata": {},
     "output_type": "execute_result"
    }
   ],
   "source": [
    "df_seguro_pd.head()"
   ]
  },
  {
   "cell_type": "code",
   "execution_count": 7,
   "id": "e4afe0fb-1caf-4454-979a-4b82ca3deff4",
   "metadata": {
    "jupyter": {
     "outputs_hidden": false,
     "source_hidden": false
    },
    "microsoft": {
     "language": "python",
     "language_group": "synapse_pyspark"
    },
    "nteract": {
     "transient": {
      "deleting": false
     }
    }
   },
   "outputs": [
    {
     "data": {
      "application/vnd.livy.statement-meta+json": {
       "execution_finish_time": "2024-05-26T17:40:13.9205673Z",
       "execution_start_time": "2024-05-26T17:40:13.6798868Z",
       "livy_statement_state": "available",
       "parent_msg_id": "1b2d190c-658b-406e-a5c9-e8ab7c29f8ae",
       "queued_time": "2024-05-26T17:39:39.8688048Z",
       "session_id": "7a5450d8-69d2-4a57-abca-aa777cd97915",
       "session_start_time": null,
       "spark_pool": null,
       "state": "finished",
       "statement_id": 12,
       "statement_ids": [
        12
       ]
      },
      "text/plain": [
       "StatementMeta(, 7a5450d8-69d2-4a57-abca-aa777cd97915, 12, Finished, Available)"
      ]
     },
     "metadata": {},
     "output_type": "display_data"
    },
    {
     "data": {
      "text/plain": [
       "(1338, 7)"
      ]
     },
     "execution_count": 35,
     "metadata": {},
     "output_type": "execute_result"
    }
   ],
   "source": [
    "#qtd de linhas e colunas\n",
    "df_seguro_pd.shape"
   ]
  },
  {
   "cell_type": "code",
   "execution_count": 8,
   "id": "ac133fb9-bfde-4269-8234-e13ed6bc132c",
   "metadata": {
    "jupyter": {
     "outputs_hidden": false,
     "source_hidden": false
    },
    "microsoft": {
     "language": "python",
     "language_group": "synapse_pyspark"
    },
    "nteract": {
     "transient": {
      "deleting": false
     }
    }
   },
   "outputs": [
    {
     "data": {
      "application/vnd.livy.statement-meta+json": {
       "execution_finish_time": "2024-05-26T17:40:14.6347802Z",
       "execution_start_time": "2024-05-26T17:40:14.3599456Z",
       "livy_statement_state": "available",
       "parent_msg_id": "b155a795-0d72-4c19-a4ec-6ff4d86ca783",
       "queued_time": "2024-05-26T17:39:39.8693839Z",
       "session_id": "7a5450d8-69d2-4a57-abca-aa777cd97915",
       "session_start_time": null,
       "spark_pool": null,
       "state": "finished",
       "statement_id": 13,
       "statement_ids": [
        13
       ]
      },
      "text/plain": [
       "StatementMeta(, 7a5450d8-69d2-4a57-abca-aa777cd97915, 13, Finished, Available)"
      ]
     },
     "metadata": {},
     "output_type": "display_data"
    },
    {
     "data": {
      "text/plain": [
       "age           int32\n",
       "sex          object\n",
       "bmi         float64\n",
       "children      int32\n",
       "smoker       object\n",
       "region       object\n",
       "charges     float64\n",
       "dtype: object"
      ]
     },
     "execution_count": 38,
     "metadata": {},
     "output_type": "execute_result"
    }
   ],
   "source": [
    "#tipagem dos dados\n",
    "df_seguro_pd.dtypes"
   ]
  },
  {
   "cell_type": "code",
   "execution_count": 9,
   "id": "e67d4644-e4b1-4e1f-9538-ed1334c32d24",
   "metadata": {
    "jupyter": {
     "outputs_hidden": false,
     "source_hidden": false
    },
    "microsoft": {
     "language": "python",
     "language_group": "synapse_pyspark"
    },
    "nteract": {
     "transient": {
      "deleting": false
     }
    }
   },
   "outputs": [
    {
     "data": {
      "application/vnd.livy.statement-meta+json": {
       "execution_finish_time": "2024-05-26T17:40:15.3098798Z",
       "execution_start_time": "2024-05-26T17:40:15.0617526Z",
       "livy_statement_state": "available",
       "parent_msg_id": "47fbfd7c-e352-4312-a7df-b31dc17b3e29",
       "queued_time": "2024-05-26T17:39:39.8758825Z",
       "session_id": "7a5450d8-69d2-4a57-abca-aa777cd97915",
       "session_start_time": null,
       "spark_pool": null,
       "state": "finished",
       "statement_id": 14,
       "statement_ids": [
        14
       ]
      },
      "text/plain": [
       "StatementMeta(, 7a5450d8-69d2-4a57-abca-aa777cd97915, 14, Finished, Available)"
      ]
     },
     "metadata": {},
     "output_type": "display_data"
    },
    {
     "name": "stdout",
     "output_type": "stream",
     "text": [
      "<class 'pandas.core.frame.DataFrame'>\n",
      "RangeIndex: 1338 entries, 0 to 1337\n",
      "Data columns (total 7 columns):\n",
      " #   Column    Non-Null Count  Dtype  \n",
      "---  ------    --------------  -----  \n",
      " 0   age       1338 non-null   int32  \n",
      " 1   sex       1338 non-null   object \n",
      " 2   bmi       1338 non-null   float64\n",
      " 3   children  1338 non-null   int32  \n",
      " 4   smoker    1338 non-null   object \n",
      " 5   region    1338 non-null   object \n",
      " 6   charges   1338 non-null   float64\n",
      "dtypes: float64(2), int32(2), object(3)\n",
      "memory usage: 62.8+ KB\n"
     ]
    }
   ],
   "source": [
    "#informações\n",
    "#sem dados nulos\n",
    "df_seguro_pd.info()"
   ]
  },
  {
   "cell_type": "markdown",
   "id": "4ef861d9-b42d-42bf-a5e5-d1b3d8cb3680",
   "metadata": {
    "nteract": {
     "transient": {
      "deleting": false
     }
    }
   },
   "source": [
    "## EDA\n",
    "### Estatistica descritiva\n"
   ]
  },
  {
   "cell_type": "code",
   "execution_count": 10,
   "id": "a71ec6bc-c115-472b-b75e-621a366ef3d0",
   "metadata": {
    "jupyter": {
     "outputs_hidden": false,
     "source_hidden": false
    },
    "microsoft": {
     "language": "python",
     "language_group": "synapse_pyspark"
    },
    "nteract": {
     "transient": {
      "deleting": false
     }
    }
   },
   "outputs": [
    {
     "data": {
      "application/vnd.livy.statement-meta+json": {
       "execution_finish_time": "2024-05-26T17:40:16.0197742Z",
       "execution_start_time": "2024-05-26T17:40:15.7644406Z",
       "livy_statement_state": "available",
       "parent_msg_id": "47533354-52ba-4c12-b651-03cf539a9cb2",
       "queued_time": "2024-05-26T17:39:39.8764911Z",
       "session_id": "7a5450d8-69d2-4a57-abca-aa777cd97915",
       "session_start_time": null,
       "spark_pool": null,
       "state": "finished",
       "statement_id": 15,
       "statement_ids": [
        15
       ]
      },
      "text/plain": [
       "StatementMeta(, 7a5450d8-69d2-4a57-abca-aa777cd97915, 15, Finished, Available)"
      ]
     },
     "metadata": {},
     "output_type": "display_data"
    },
    {
     "data": {
      "text/html": [
       "<div>\n",
       "<style scoped>\n",
       "    .dataframe tbody tr th:only-of-type {\n",
       "        vertical-align: middle;\n",
       "    }\n",
       "\n",
       "    .dataframe tbody tr th {\n",
       "        vertical-align: top;\n",
       "    }\n",
       "\n",
       "    .dataframe thead th {\n",
       "        text-align: right;\n",
       "    }\n",
       "</style>\n",
       "<table border=\"1\" class=\"dataframe\">\n",
       "  <thead>\n",
       "    <tr style=\"text-align: right;\">\n",
       "      <th></th>\n",
       "      <th>age</th>\n",
       "      <th>bmi</th>\n",
       "      <th>children</th>\n",
       "      <th>charges</th>\n",
       "    </tr>\n",
       "  </thead>\n",
       "  <tbody>\n",
       "    <tr>\n",
       "      <th>count</th>\n",
       "      <td>1338.00</td>\n",
       "      <td>1338.00</td>\n",
       "      <td>1338.00</td>\n",
       "      <td>1338.00</td>\n",
       "    </tr>\n",
       "    <tr>\n",
       "      <th>mean</th>\n",
       "      <td>39.21</td>\n",
       "      <td>30.66</td>\n",
       "      <td>1.09</td>\n",
       "      <td>13270.42</td>\n",
       "    </tr>\n",
       "    <tr>\n",
       "      <th>std</th>\n",
       "      <td>14.05</td>\n",
       "      <td>6.10</td>\n",
       "      <td>1.21</td>\n",
       "      <td>12110.01</td>\n",
       "    </tr>\n",
       "    <tr>\n",
       "      <th>min</th>\n",
       "      <td>18.00</td>\n",
       "      <td>15.96</td>\n",
       "      <td>0.00</td>\n",
       "      <td>1121.87</td>\n",
       "    </tr>\n",
       "    <tr>\n",
       "      <th>25%</th>\n",
       "      <td>27.00</td>\n",
       "      <td>26.30</td>\n",
       "      <td>0.00</td>\n",
       "      <td>4740.29</td>\n",
       "    </tr>\n",
       "    <tr>\n",
       "      <th>50%</th>\n",
       "      <td>39.00</td>\n",
       "      <td>30.40</td>\n",
       "      <td>1.00</td>\n",
       "      <td>9382.03</td>\n",
       "    </tr>\n",
       "    <tr>\n",
       "      <th>75%</th>\n",
       "      <td>51.00</td>\n",
       "      <td>34.69</td>\n",
       "      <td>2.00</td>\n",
       "      <td>16639.91</td>\n",
       "    </tr>\n",
       "    <tr>\n",
       "      <th>max</th>\n",
       "      <td>64.00</td>\n",
       "      <td>53.13</td>\n",
       "      <td>5.00</td>\n",
       "      <td>63770.43</td>\n",
       "    </tr>\n",
       "  </tbody>\n",
       "</table>\n",
       "</div>"
      ],
      "text/plain": [
       "          age     bmi  children  charges\n",
       "count 1338.00 1338.00   1338.00  1338.00\n",
       "mean    39.21   30.66      1.09 13270.42\n",
       "std     14.05    6.10      1.21 12110.01\n",
       "min     18.00   15.96      0.00  1121.87\n",
       "25%     27.00   26.30      0.00  4740.29\n",
       "50%     39.00   30.40      1.00  9382.03\n",
       "75%     51.00   34.69      2.00 16639.91\n",
       "max     64.00   53.13      5.00 63770.43"
      ]
     },
     "execution_count": 44,
     "metadata": {},
     "output_type": "execute_result"
    }
   ],
   "source": [
    "#analise variaveis numéricas\n",
    "df_seguro_pd.describe()"
   ]
  },
  {
   "cell_type": "markdown",
   "id": "11b7eda6-1c50-4d8c-a91c-0cab599f85c6",
   "metadata": {
    "microsoft": {
     "language": "python",
     "language_group": "synapse_pyspark"
    },
    "nteract": {
     "transient": {
      "deleting": false
     }
    }
   },
   "source": [
    "Média de cobranças acima da mediana. Valores mais altos estão puxando a média para cima."
   ]
  },
  {
   "cell_type": "code",
   "execution_count": 11,
   "id": "6d0c99b2-9ece-4348-b876-ae1ff9cde1ed",
   "metadata": {
    "jupyter": {
     "outputs_hidden": false,
     "source_hidden": false
    },
    "microsoft": {
     "language": "python",
     "language_group": "synapse_pyspark"
    },
    "nteract": {
     "transient": {
      "deleting": false
     }
    }
   },
   "outputs": [
    {
     "data": {
      "application/vnd.livy.statement-meta+json": {
       "execution_finish_time": "2024-05-26T17:40:17.2795946Z",
       "execution_start_time": "2024-05-26T17:40:16.492276Z",
       "livy_statement_state": "available",
       "parent_msg_id": "5eb5cce9-6e1a-403f-8f05-3b9bde8dd631",
       "queued_time": "2024-05-26T17:39:39.8770908Z",
       "session_id": "7a5450d8-69d2-4a57-abca-aa777cd97915",
       "session_start_time": null,
       "spark_pool": null,
       "state": "finished",
       "statement_id": 16,
       "statement_ids": [
        16
       ]
      },
      "text/plain": [
       "StatementMeta(, 7a5450d8-69d2-4a57-abca-aa777cd97915, 16, Finished, Available)"
      ]
     },
     "metadata": {},
     "output_type": "display_data"
    },
    {
     "data": {
      "image/png": "[encoded data removed]",
      "text/plain": [
       "<Figure size 640x480 with 1 Axes>"
      ]
     },
     "metadata": {},
     "output_type": "display_data"
    }
   ],
   "source": [
    "#Analisando distribuição de idades\n",
    "sns.set_style('darkgrid')\n",
    "\n",
    "#ajusta espaçamento do gráfico\n",
    "plt.tight_layout()\n",
    "\n",
    "#histograma\n",
    "sns.histplot(data=df_seguro_pd, x='age');"
   ]
  },
  {
   "cell_type": "code",
   "execution_count": 12,
   "id": "af810150-daa0-4213-b479-cedbc827b423",
   "metadata": {
    "jupyter": {
     "outputs_hidden": false,
     "source_hidden": false
    },
    "microsoft": {
     "language": "python",
     "language_group": "synapse_pyspark"
    },
    "nteract": {
     "transient": {
      "deleting": false
     }
    }
   },
   "outputs": [
    {
     "data": {
      "application/vnd.livy.statement-meta+json": {
       "execution_finish_time": "2024-05-26T17:40:18.5643197Z",
       "execution_start_time": "2024-05-26T17:40:17.7458366Z",
       "livy_statement_state": "available",
       "parent_msg_id": "948edf50-3f27-47d3-ae49-e6cec982a0df",
       "queued_time": "2024-05-26T17:39:39.8777768Z",
       "session_id": "7a5450d8-69d2-4a57-abca-aa777cd97915",
       "session_start_time": null,
       "spark_pool": null,
       "state": "finished",
       "statement_id": 17,
       "statement_ids": [
        17
       ]
      },
      "text/plain": [
       "StatementMeta(, 7a5450d8-69d2-4a57-abca-aa777cd97915, 17, Finished, Available)"
      ]
     },
     "metadata": {},
     "output_type": "display_data"
    },
    {
     "data": {
      "image/png": "[encoded data removed]",
      "text/plain": [
       "<Figure size 640x480 with 1 Axes>"
      ]
     },
     "metadata": {},
     "output_type": "display_data"
    }
   ],
   "source": [
    "#Analisando distribuição de indice de massa corporal\n",
    "sns.set_style('darkgrid')\n",
    "\n",
    "#ajusta espaçamento do gráfico\n",
    "plt.tight_layout()\n",
    "\n",
    "#histograma\n",
    "sns.histplot(data=df_seguro_pd, x='bmi');"
   ]
  },
  {
   "cell_type": "code",
   "execution_count": 13,
   "id": "66a7c540-7e82-4876-855c-bac2d9f57b24",
   "metadata": {
    "jupyter": {
     "outputs_hidden": false,
     "source_hidden": false
    },
    "microsoft": {
     "language": "python",
     "language_group": "synapse_pyspark"
    },
    "nteract": {
     "transient": {
      "deleting": false
     }
    }
   },
   "outputs": [
    {
     "data": {
      "application/vnd.livy.statement-meta+json": {
       "execution_finish_time": "2024-05-26T17:40:19.8211512Z",
       "execution_start_time": "2024-05-26T17:40:19.0068736Z",
       "livy_statement_state": "available",
       "parent_msg_id": "c11ff1e6-4349-426b-985d-996ce098f7fb",
       "queued_time": "2024-05-26T17:39:39.8784228Z",
       "session_id": "7a5450d8-69d2-4a57-abca-aa777cd97915",
       "session_start_time": null,
       "spark_pool": null,
       "state": "finished",
       "statement_id": 18,
       "statement_ids": [
        18
       ]
      },
      "text/plain": [
       "StatementMeta(, 7a5450d8-69d2-4a57-abca-aa777cd97915, 18, Finished, Available)"
      ]
     },
     "metadata": {},
     "output_type": "display_data"
    },
    {
     "data": {
      "image/png": "[encoded data removed]",
      "text/plain": [
       "<Figure size 640x480 with 1 Axes>"
      ]
     },
     "metadata": {},
     "output_type": "display_data"
    }
   ],
   "source": [
    "#Analisando distribuição de qtd de criancas\n",
    "sns.set_style('darkgrid')\n",
    "\n",
    "#ajusta espaçamento do gráfico\n",
    "plt.tight_layout()\n",
    "\n",
    "#countplot para numeros inteiros\n",
    "sns.countplot(data=df_seguro_pd, x='children');"
   ]
  },
  {
   "cell_type": "code",
   "execution_count": 14,
   "id": "4d658c57-ec45-4b72-9dc7-33a1baec6b03",
   "metadata": {
    "jupyter": {
     "outputs_hidden": false,
     "source_hidden": false
    },
    "microsoft": {
     "language": "python",
     "language_group": "synapse_pyspark"
    },
    "nteract": {
     "transient": {
      "deleting": false
     }
    }
   },
   "outputs": [
    {
     "data": {
      "application/vnd.livy.statement-meta+json": {
       "execution_finish_time": "2024-05-26T17:40:21.1171498Z",
       "execution_start_time": "2024-05-26T17:40:20.2774192Z",
       "livy_statement_state": "available",
       "parent_msg_id": "1239bd97-a9ea-4a53-a92b-3cb1f14eb3c7",
       "queued_time": "2024-05-26T17:39:39.8790883Z",
       "session_id": "7a5450d8-69d2-4a57-abca-aa777cd97915",
       "session_start_time": null,
       "spark_pool": null,
       "state": "finished",
       "statement_id": 19,
       "statement_ids": [
        19
       ]
      },
      "text/plain": [
       "StatementMeta(, 7a5450d8-69d2-4a57-abca-aa777cd97915, 19, Finished, Available)"
      ]
     },
     "metadata": {},
     "output_type": "display_data"
    },
    {
     "data": {
      "image/png": "[encoded data removed]",
      "text/plain": [
       "<Figure size 640x480 with 1 Axes>"
      ]
     },
     "metadata": {},
     "output_type": "display_data"
    }
   ],
   "source": [
    "#Analisando distribuição do valor do seguro (target)\n",
    "sns.set_style('darkgrid')\n",
    "\n",
    "#ajusta espaçamento do gráfico\n",
    "plt.tight_layout()\n",
    "\n",
    "#histograma\n",
    "sns.histplot(data=df_seguro_pd, x='charges');"
   ]
  },
  {
   "cell_type": "markdown",
   "id": "ecece310-d75d-43c4-b16e-34229827a26d",
   "metadata": {
    "nteract": {
     "transient": {
      "deleting": false
     }
    }
   },
   "source": [
    "### Relação entre as variáveis preditoras e a variável target\n",
    "\n",
    "Analisar as dispersões das variáveis preditoras com a variável target(valor)"
   ]
  },
  {
   "cell_type": "code",
   "execution_count": 15,
   "id": "b6ec0983-3580-4375-a3c8-b72799471c95",
   "metadata": {
    "jupyter": {
     "outputs_hidden": false,
     "source_hidden": false
    },
    "microsoft": {
     "language": "python",
     "language_group": "synapse_pyspark"
    },
    "nteract": {
     "transient": {
      "deleting": false
     }
    }
   },
   "outputs": [
    {
     "data": {
      "application/vnd.livy.statement-meta+json": {
       "execution_finish_time": "2024-05-26T17:40:25.3462094Z",
       "execution_start_time": "2024-05-26T17:40:21.5815016Z",
       "livy_statement_state": "available",
       "parent_msg_id": "2e239fa5-cd69-4893-9180-317571c59e88",
       "queued_time": "2024-05-26T17:39:39.8797377Z",
       "session_id": "7a5450d8-69d2-4a57-abca-aa777cd97915",
       "session_start_time": null,
       "spark_pool": null,
       "state": "finished",
       "statement_id": 20,
       "statement_ids": [
        20
       ]
      },
      "text/plain": [
       "StatementMeta(, 7a5450d8-69d2-4a57-abca-aa777cd97915, 20, Finished, Available)"
      ]
     },
     "metadata": {},
     "output_type": "display_data"
    },
    {
     "name": "stderr",
     "output_type": "stream",
     "text": [
      "/home/trusted-service-user/cluster-env/trident_env/lib/python3.10/site-packages/seaborn/axisgrid.py:118: UserWarning: The figure layout has changed to tight\n",
      "  self._figure.tight_layout(*args, **kwargs)\n"
     ]
    },
    {
     "data": {
      "image/png": "[encoded data removed]",
      "text/plain": [
       "<Figure size 1000x1000 with 20 Axes>"
      ]
     },
     "metadata": {},
     "output_type": "display_data"
    }
   ],
   "source": [
    "# pairplot cria gráficos de dispersão entre as variáveis e na diagonal principal mostra o histograma\n",
    "sns.pairplot(data = df_seguro_pd);"
   ]
  },
  {
   "cell_type": "markdown",
   "id": "4e07fe53-5a0b-43cc-9bd8-e126b9e527a5",
   "metadata": {
    "nteract": {
     "transient": {
      "deleting": false
     }
    }
   },
   "source": [
    "Existe uma correlação entre as idades e o valor do plano de saúde. Provavelmente idade será uma variável importante para o modelo preditivo.\n",
    "\n",
    "Caso as variáveis preditoras apresentem correlação entre elas. Devemos escolher uma delas para não termos colinearidade. Visto que estamos utilizando um modelo linear."
   ]
  },
  {
   "cell_type": "markdown",
   "id": "1bb15624-6e14-445a-8103-399f41fbd688",
   "metadata": {
    "nteract": {
     "transient": {
      "deleting": false
     }
    }
   },
   "source": [
    "### Codificação de Variáveis categóricas\n",
    "\n",
    "Transformar variáveis categóricas em variáveis numéricas"
   ]
  },
  {
   "cell_type": "code",
   "execution_count": 16,
   "id": "f5066eed-786c-4098-8b43-a892b5475a52",
   "metadata": {
    "jupyter": {
     "outputs_hidden": false,
     "source_hidden": false
    },
    "microsoft": {
     "language": "python",
     "language_group": "synapse_pyspark"
    },
    "nteract": {
     "transient": {
      "deleting": false
     }
    }
   },
   "outputs": [
    {
     "data": {
      "application/vnd.livy.statement-meta+json": {
       "execution_finish_time": "2024-05-26T17:40:26.0988332Z",
       "execution_start_time": "2024-05-26T17:40:25.803244Z",
       "livy_statement_state": "available",
       "parent_msg_id": "ed640ce8-57aa-46f3-8abe-e439d070ef2a",
       "queued_time": "2024-05-26T17:39:42.8683882Z",
       "session_id": "7a5450d8-69d2-4a57-abca-aa777cd97915",
       "session_start_time": null,
       "spark_pool": null,
       "state": "finished",
       "statement_id": 21,
       "statement_ids": [
        21
       ]
      },
      "text/plain": [
       "StatementMeta(, 7a5450d8-69d2-4a57-abca-aa777cd97915, 21, Finished, Available)"
      ]
     },
     "metadata": {},
     "output_type": "display_data"
    },
    {
     "data": {
      "text/html": [
       "<div>\n",
       "<style scoped>\n",
       "    .dataframe tbody tr th:only-of-type {\n",
       "        vertical-align: middle;\n",
       "    }\n",
       "\n",
       "    .dataframe tbody tr th {\n",
       "        vertical-align: top;\n",
       "    }\n",
       "\n",
       "    .dataframe thead th {\n",
       "        text-align: right;\n",
       "    }\n",
       "</style>\n",
       "<table border=\"1\" class=\"dataframe\">\n",
       "  <thead>\n",
       "    <tr style=\"text-align: right;\">\n",
       "      <th></th>\n",
       "      <th>age</th>\n",
       "      <th>sex</th>\n",
       "      <th>bmi</th>\n",
       "      <th>children</th>\n",
       "      <th>smoker</th>\n",
       "      <th>region</th>\n",
       "      <th>charges</th>\n",
       "    </tr>\n",
       "  </thead>\n",
       "  <tbody>\n",
       "    <tr>\n",
       "      <th>0</th>\n",
       "      <td>19</td>\n",
       "      <td>female</td>\n",
       "      <td>27.90</td>\n",
       "      <td>0</td>\n",
       "      <td>yes</td>\n",
       "      <td>southwest</td>\n",
       "      <td>16884.92</td>\n",
       "    </tr>\n",
       "    <tr>\n",
       "      <th>1</th>\n",
       "      <td>18</td>\n",
       "      <td>male</td>\n",
       "      <td>33.77</td>\n",
       "      <td>1</td>\n",
       "      <td>no</td>\n",
       "      <td>southeast</td>\n",
       "      <td>1725.55</td>\n",
       "    </tr>\n",
       "    <tr>\n",
       "      <th>2</th>\n",
       "      <td>28</td>\n",
       "      <td>male</td>\n",
       "      <td>33.00</td>\n",
       "      <td>3</td>\n",
       "      <td>no</td>\n",
       "      <td>southeast</td>\n",
       "      <td>4449.46</td>\n",
       "    </tr>\n",
       "    <tr>\n",
       "      <th>3</th>\n",
       "      <td>33</td>\n",
       "      <td>male</td>\n",
       "      <td>22.70</td>\n",
       "      <td>0</td>\n",
       "      <td>no</td>\n",
       "      <td>northwest</td>\n",
       "      <td>21984.47</td>\n",
       "    </tr>\n",
       "    <tr>\n",
       "      <th>4</th>\n",
       "      <td>32</td>\n",
       "      <td>male</td>\n",
       "      <td>28.88</td>\n",
       "      <td>0</td>\n",
       "      <td>no</td>\n",
       "      <td>northwest</td>\n",
       "      <td>3866.86</td>\n",
       "    </tr>\n",
       "  </tbody>\n",
       "</table>\n",
       "</div>"
      ],
      "text/plain": [
       "   age     sex   bmi  children smoker     region  charges\n",
       "0   19  female 27.90         0    yes  southwest 16884.92\n",
       "1   18    male 33.77         1     no  southeast  1725.55\n",
       "2   28    male 33.00         3     no  southeast  4449.46\n",
       "3   33    male 22.70         0     no  northwest 21984.47\n",
       "4   32    male 28.88         0     no  northwest  3866.86"
      ]
     },
     "execution_count": 62,
     "metadata": {},
     "output_type": "execute_result"
    }
   ],
   "source": [
    "df_seguro_pd.head()"
   ]
  },
  {
   "cell_type": "code",
   "execution_count": 17,
   "id": "e65b3f15-024b-4470-8640-96ee151d4e2c",
   "metadata": {
    "jupyter": {
     "outputs_hidden": false,
     "source_hidden": false
    },
    "microsoft": {
     "language": "python",
     "language_group": "synapse_pyspark"
    },
    "nteract": {
     "transient": {
      "deleting": false
     }
    }
   },
   "outputs": [
    {
     "data": {
      "application/vnd.livy.statement-meta+json": {
       "execution_finish_time": "2024-05-26T17:40:26.8150594Z",
       "execution_start_time": "2024-05-26T17:40:26.5516663Z",
       "livy_statement_state": "available",
       "parent_msg_id": "d8e568b2-714e-4ea9-b970-6152d347bf46",
       "queued_time": "2024-05-26T17:39:43.8556346Z",
       "session_id": "7a5450d8-69d2-4a57-abca-aa777cd97915",
       "session_start_time": null,
       "spark_pool": null,
       "state": "finished",
       "statement_id": 22,
       "statement_ids": [
        22
       ]
      },
      "text/plain": [
       "StatementMeta(, 7a5450d8-69d2-4a57-abca-aa777cd97915, 22, Finished, Available)"
      ]
     },
     "metadata": {},
     "output_type": "display_data"
    },
    {
     "data": {
      "text/html": [
       "<div>\n",
       "<style scoped>\n",
       "    .dataframe tbody tr th:only-of-type {\n",
       "        vertical-align: middle;\n",
       "    }\n",
       "\n",
       "    .dataframe tbody tr th {\n",
       "        vertical-align: top;\n",
       "    }\n",
       "\n",
       "    .dataframe thead th {\n",
       "        text-align: right;\n",
       "    }\n",
       "</style>\n",
       "<table border=\"1\" class=\"dataframe\">\n",
       "  <thead>\n",
       "    <tr style=\"text-align: right;\">\n",
       "      <th></th>\n",
       "      <th>age</th>\n",
       "      <th>bmi</th>\n",
       "      <th>children</th>\n",
       "      <th>smoker</th>\n",
       "      <th>region</th>\n",
       "      <th>charges</th>\n",
       "      <th>female</th>\n",
       "    </tr>\n",
       "  </thead>\n",
       "  <tbody>\n",
       "    <tr>\n",
       "      <th>0</th>\n",
       "      <td>19</td>\n",
       "      <td>27.90</td>\n",
       "      <td>0</td>\n",
       "      <td>1</td>\n",
       "      <td>southwest</td>\n",
       "      <td>16884.92</td>\n",
       "      <td>1</td>\n",
       "    </tr>\n",
       "    <tr>\n",
       "      <th>1</th>\n",
       "      <td>18</td>\n",
       "      <td>33.77</td>\n",
       "      <td>1</td>\n",
       "      <td>0</td>\n",
       "      <td>southeast</td>\n",
       "      <td>1725.55</td>\n",
       "      <td>0</td>\n",
       "    </tr>\n",
       "    <tr>\n",
       "      <th>2</th>\n",
       "      <td>28</td>\n",
       "      <td>33.00</td>\n",
       "      <td>3</td>\n",
       "      <td>0</td>\n",
       "      <td>southeast</td>\n",
       "      <td>4449.46</td>\n",
       "      <td>0</td>\n",
       "    </tr>\n",
       "    <tr>\n",
       "      <th>3</th>\n",
       "      <td>33</td>\n",
       "      <td>22.70</td>\n",
       "      <td>0</td>\n",
       "      <td>0</td>\n",
       "      <td>northwest</td>\n",
       "      <td>21984.47</td>\n",
       "      <td>0</td>\n",
       "    </tr>\n",
       "    <tr>\n",
       "      <th>4</th>\n",
       "      <td>32</td>\n",
       "      <td>28.88</td>\n",
       "      <td>0</td>\n",
       "      <td>0</td>\n",
       "      <td>northwest</td>\n",
       "      <td>3866.86</td>\n",
       "      <td>0</td>\n",
       "    </tr>\n",
       "  </tbody>\n",
       "</table>\n",
       "</div>"
      ],
      "text/plain": [
       "   age   bmi  children  smoker     region  charges  female\n",
       "0   19 27.90         0       1  southwest 16884.92       1\n",
       "1   18 33.77         1       0  southeast  1725.55       0\n",
       "2   28 33.00         3       0  southeast  4449.46       0\n",
       "3   33 22.70         0       0  northwest 21984.47       0\n",
       "4   32 28.88         0       0  northwest  3866.86       0"
      ]
     },
     "execution_count": 65,
     "metadata": {},
     "output_type": "execute_result"
    }
   ],
   "source": [
    "# Como temos somente variáveis nominais (categorias sem ordem de preferencia), utilizamos o One Hot Encoder\n",
    "# Podemos utilizar o get_dummies do Pandas ou utilizar o OneHotEncoder do ScikitLearn\n",
    "# Para variaveis com duas classes (sex e smoker), podemos fazer mapeamento direto\n",
    "\n",
    "df_seguro_pd['female'] = df_seguro_pd['sex'].map({'female':1, 'male':0})\n",
    "df_seguro_pd['smoker'] = df_seguro_pd['smoker'].map({'yes':1, 'no':0})\n",
    "df_seguro_pd = df_seguro_pd.drop('sex', axis = 1)\n",
    "df_seguro_pd.head()"
   ]
  },
  {
   "cell_type": "code",
   "execution_count": 18,
   "id": "e65c991a-2b0f-4450-9833-31ede725460b",
   "metadata": {
    "jupyter": {
     "outputs_hidden": false,
     "source_hidden": false
    },
    "microsoft": {
     "language": "python",
     "language_group": "synapse_pyspark"
    },
    "nteract": {
     "transient": {
      "deleting": false
     }
    }
   },
   "outputs": [
    {
     "data": {
      "application/vnd.livy.statement-meta+json": {
       "execution_finish_time": "2024-05-26T17:40:27.593743Z",
       "execution_start_time": "2024-05-26T17:40:27.3351373Z",
       "livy_statement_state": "available",
       "parent_msg_id": "2273cd54-c42b-40a0-99a2-2f6c1c9af84a",
       "queued_time": "2024-05-26T17:39:44.2265521Z",
       "session_id": "7a5450d8-69d2-4a57-abca-aa777cd97915",
       "session_start_time": null,
       "spark_pool": null,
       "state": "finished",
       "statement_id": 23,
       "statement_ids": [
        23
       ]
      },
      "text/plain": [
       "StatementMeta(, 7a5450d8-69d2-4a57-abca-aa777cd97915, 23, Finished, Available)"
      ]
     },
     "metadata": {},
     "output_type": "display_data"
    },
    {
     "data": {
      "text/plain": [
       "array(['southwest', 'southeast', 'northwest', 'northeast'], dtype=object)"
      ]
     },
     "execution_count": 68,
     "metadata": {},
     "output_type": "execute_result"
    }
   ],
   "source": [
    "# Analisando regioes\n",
    "df_seguro_pd['region'].unique()"
   ]
  },
  {
   "cell_type": "code",
   "execution_count": 19,
   "id": "6f3834cc-e3ba-4cff-8c9f-230422f547f8",
   "metadata": {
    "jupyter": {
     "outputs_hidden": false,
     "source_hidden": false
    },
    "microsoft": {
     "language": "python",
     "language_group": "synapse_pyspark"
    },
    "nteract": {
     "transient": {
      "deleting": false
     }
    }
   },
   "outputs": [
    {
     "data": {
      "application/vnd.livy.statement-meta+json": {
       "execution_finish_time": "2024-05-26T17:40:28.3314259Z",
       "execution_start_time": "2024-05-26T17:40:28.0812788Z",
       "livy_statement_state": "available",
       "parent_msg_id": "4e39abf8-c5ee-4dc5-9993-f03523476043",
       "queued_time": "2024-05-26T17:39:44.4782674Z",
       "session_id": "7a5450d8-69d2-4a57-abca-aa777cd97915",
       "session_start_time": null,
       "spark_pool": null,
       "state": "finished",
       "statement_id": 24,
       "statement_ids": [
        24
       ]
      },
      "text/plain": [
       "StatementMeta(, 7a5450d8-69d2-4a57-abca-aa777cd97915, 24, Finished, Available)"
      ]
     },
     "metadata": {},
     "output_type": "display_data"
    },
    {
     "data": {
      "text/html": [
       "<div>\n",
       "<style scoped>\n",
       "    .dataframe tbody tr th:only-of-type {\n",
       "        vertical-align: middle;\n",
       "    }\n",
       "\n",
       "    .dataframe tbody tr th {\n",
       "        vertical-align: top;\n",
       "    }\n",
       "\n",
       "    .dataframe thead th {\n",
       "        text-align: right;\n",
       "    }\n",
       "</style>\n",
       "<table border=\"1\" class=\"dataframe\">\n",
       "  <thead>\n",
       "    <tr style=\"text-align: right;\">\n",
       "      <th></th>\n",
       "      <th>northwest</th>\n",
       "      <th>southeast</th>\n",
       "      <th>southwest</th>\n",
       "    </tr>\n",
       "  </thead>\n",
       "  <tbody>\n",
       "    <tr>\n",
       "      <th>0</th>\n",
       "      <td>False</td>\n",
       "      <td>False</td>\n",
       "      <td>True</td>\n",
       "    </tr>\n",
       "    <tr>\n",
       "      <th>1</th>\n",
       "      <td>False</td>\n",
       "      <td>True</td>\n",
       "      <td>False</td>\n",
       "    </tr>\n",
       "    <tr>\n",
       "      <th>2</th>\n",
       "      <td>False</td>\n",
       "      <td>True</td>\n",
       "      <td>False</td>\n",
       "    </tr>\n",
       "    <tr>\n",
       "      <th>3</th>\n",
       "      <td>True</td>\n",
       "      <td>False</td>\n",
       "      <td>False</td>\n",
       "    </tr>\n",
       "    <tr>\n",
       "      <th>4</th>\n",
       "      <td>True</td>\n",
       "      <td>False</td>\n",
       "      <td>False</td>\n",
       "    </tr>\n",
       "  </tbody>\n",
       "</table>\n",
       "</div>"
      ],
      "text/plain": [
       "   northwest  southeast  southwest\n",
       "0      False      False       True\n",
       "1      False       True      False\n",
       "2      False       True      False\n",
       "3       True      False      False\n",
       "4       True      False      False"
      ]
     },
     "execution_count": 71,
     "metadata": {},
     "output_type": "execute_result"
    }
   ],
   "source": [
    "# Para as regioes vamos usar o One Hot Encoder\n",
    "colunas_regiao = pd.get_dummies(df_seguro_pd['region'], drop_first = True)\n",
    "colunas_regiao.head()"
   ]
  },
  {
   "cell_type": "code",
   "execution_count": 20,
   "id": "20a6554a-a1c5-49c7-ae8d-38ffab5f11bd",
   "metadata": {
    "jupyter": {
     "outputs_hidden": false,
     "source_hidden": false
    },
    "microsoft": {
     "language": "python",
     "language_group": "synapse_pyspark"
    },
    "nteract": {
     "transient": {
      "deleting": false
     }
    }
   },
   "outputs": [
    {
     "data": {
      "application/vnd.livy.statement-meta+json": {
       "execution_finish_time": "2024-05-26T17:40:29.0604602Z",
       "execution_start_time": "2024-05-26T17:40:28.7994562Z",
       "livy_statement_state": "available",
       "parent_msg_id": "d84511e8-1d0f-4b98-97f2-4442e9413bd5",
       "queued_time": "2024-05-26T17:39:44.8065178Z",
       "session_id": "7a5450d8-69d2-4a57-abca-aa777cd97915",
       "session_start_time": null,
       "spark_pool": null,
       "state": "finished",
       "statement_id": 25,
       "statement_ids": [
        25
       ]
      },
      "text/plain": [
       "StatementMeta(, 7a5450d8-69d2-4a57-abca-aa777cd97915, 25, Finished, Available)"
      ]
     },
     "metadata": {},
     "output_type": "display_data"
    }
   ],
   "source": [
    "# Concatenar colunas na tabela df_seguro_pd\n",
    "#axis = 1 junta colunas, axis = 0 junta linhas\n",
    "df_seguro_pd = pd.concat([df_seguro_pd, colunas_regiao], axis = 1)\n",
    "df_seguro_pd = df_seguro_pd.drop('region', axis = 1)"
   ]
  },
  {
   "cell_type": "code",
   "execution_count": 21,
   "id": "4448efc2-2914-4dbd-839e-7bf4457af615",
   "metadata": {
    "jupyter": {
     "outputs_hidden": false,
     "source_hidden": false
    },
    "microsoft": {
     "language": "python",
     "language_group": "synapse_pyspark"
    },
    "nteract": {
     "transient": {
      "deleting": false
     }
    }
   },
   "outputs": [
    {
     "data": {
      "application/vnd.livy.statement-meta+json": {
       "execution_finish_time": "2024-05-26T17:40:29.845372Z",
       "execution_start_time": "2024-05-26T17:40:29.5818027Z",
       "livy_statement_state": "available",
       "parent_msg_id": "b1d50d27-cdc1-46cc-acd8-89e26d2ef8dc",
       "queued_time": "2024-05-26T17:39:45.0490393Z",
       "session_id": "7a5450d8-69d2-4a57-abca-aa777cd97915",
       "session_start_time": null,
       "spark_pool": null,
       "state": "finished",
       "statement_id": 26,
       "statement_ids": [
        26
       ]
      },
      "text/plain": [
       "StatementMeta(, 7a5450d8-69d2-4a57-abca-aa777cd97915, 26, Finished, Available)"
      ]
     },
     "metadata": {},
     "output_type": "display_data"
    },
    {
     "data": {
      "text/html": [
       "<div>\n",
       "<style scoped>\n",
       "    .dataframe tbody tr th:only-of-type {\n",
       "        vertical-align: middle;\n",
       "    }\n",
       "\n",
       "    .dataframe tbody tr th {\n",
       "        vertical-align: top;\n",
       "    }\n",
       "\n",
       "    .dataframe thead th {\n",
       "        text-align: right;\n",
       "    }\n",
       "</style>\n",
       "<table border=\"1\" class=\"dataframe\">\n",
       "  <thead>\n",
       "    <tr style=\"text-align: right;\">\n",
       "      <th></th>\n",
       "      <th>age</th>\n",
       "      <th>bmi</th>\n",
       "      <th>children</th>\n",
       "      <th>smoker</th>\n",
       "      <th>charges</th>\n",
       "      <th>female</th>\n",
       "      <th>northwest</th>\n",
       "      <th>southeast</th>\n",
       "      <th>southwest</th>\n",
       "    </tr>\n",
       "  </thead>\n",
       "  <tbody>\n",
       "    <tr>\n",
       "      <th>0</th>\n",
       "      <td>19</td>\n",
       "      <td>27.90</td>\n",
       "      <td>0</td>\n",
       "      <td>1</td>\n",
       "      <td>16884.92</td>\n",
       "      <td>1</td>\n",
       "      <td>False</td>\n",
       "      <td>False</td>\n",
       "      <td>True</td>\n",
       "    </tr>\n",
       "    <tr>\n",
       "      <th>1</th>\n",
       "      <td>18</td>\n",
       "      <td>33.77</td>\n",
       "      <td>1</td>\n",
       "      <td>0</td>\n",
       "      <td>1725.55</td>\n",
       "      <td>0</td>\n",
       "      <td>False</td>\n",
       "      <td>True</td>\n",
       "      <td>False</td>\n",
       "    </tr>\n",
       "    <tr>\n",
       "      <th>2</th>\n",
       "      <td>28</td>\n",
       "      <td>33.00</td>\n",
       "      <td>3</td>\n",
       "      <td>0</td>\n",
       "      <td>4449.46</td>\n",
       "      <td>0</td>\n",
       "      <td>False</td>\n",
       "      <td>True</td>\n",
       "      <td>False</td>\n",
       "    </tr>\n",
       "    <tr>\n",
       "      <th>3</th>\n",
       "      <td>33</td>\n",
       "      <td>22.70</td>\n",
       "      <td>0</td>\n",
       "      <td>0</td>\n",
       "      <td>21984.47</td>\n",
       "      <td>0</td>\n",
       "      <td>True</td>\n",
       "      <td>False</td>\n",
       "      <td>False</td>\n",
       "    </tr>\n",
       "    <tr>\n",
       "      <th>4</th>\n",
       "      <td>32</td>\n",
       "      <td>28.88</td>\n",
       "      <td>0</td>\n",
       "      <td>0</td>\n",
       "      <td>3866.86</td>\n",
       "      <td>0</td>\n",
       "      <td>True</td>\n",
       "      <td>False</td>\n",
       "      <td>False</td>\n",
       "    </tr>\n",
       "  </tbody>\n",
       "</table>\n",
       "</div>"
      ],
      "text/plain": [
       "   age   bmi  children  smoker  charges  female  northwest  southeast  \\\n",
       "0   19 27.90         0       1 16884.92       1      False      False   \n",
       "1   18 33.77         1       0  1725.55       0      False       True   \n",
       "2   28 33.00         3       0  4449.46       0      False       True   \n",
       "3   33 22.70         0       0 21984.47       0       True      False   \n",
       "4   32 28.88         0       0  3866.86       0       True      False   \n",
       "\n",
       "   southwest  \n",
       "0       True  \n",
       "1      False  \n",
       "2      False  \n",
       "3      False  \n",
       "4      False  "
      ]
     },
     "execution_count": 77,
     "metadata": {},
     "output_type": "execute_result"
    }
   ],
   "source": [
    "df_seguro_pd.head()"
   ]
  },
  {
   "cell_type": "markdown",
   "id": "f8626908-5d96-495b-abde-ea3bcd91d484",
   "metadata": {
    "nteract": {
     "transient": {
      "deleting": false
     }
    }
   },
   "source": [
    "### Definindo Variaveis preditoras e Target\n",
    "x -> Preditoras\n",
    "\n",
    "y -> Target"
   ]
  },
  {
   "cell_type": "code",
   "execution_count": 22,
   "id": "d21aff59-9038-4c33-99fc-7ea9e3d18db8",
   "metadata": {
    "jupyter": {
     "outputs_hidden": false,
     "source_hidden": false
    },
    "microsoft": {
     "language": "python",
     "language_group": "synapse_pyspark"
    },
    "nteract": {
     "transient": {
      "deleting": false
     }
    }
   },
   "outputs": [
    {
     "data": {
      "application/vnd.livy.statement-meta+json": {
       "execution_finish_time": "2024-05-26T17:40:30.5536128Z",
       "execution_start_time": "2024-05-26T17:40:30.3066042Z",
       "livy_statement_state": "available",
       "parent_msg_id": "2f4e5ee6-7aa2-4474-9027-450f0abee158",
       "queued_time": "2024-05-26T17:39:45.2792564Z",
       "session_id": "7a5450d8-69d2-4a57-abca-aa777cd97915",
       "session_start_time": null,
       "spark_pool": null,
       "state": "finished",
       "statement_id": 27,
       "statement_ids": [
        27
       ]
      },
      "text/plain": [
       "StatementMeta(, 7a5450d8-69d2-4a57-abca-aa777cd97915, 27, Finished, Available)"
      ]
     },
     "metadata": {},
     "output_type": "display_data"
    }
   ],
   "source": [
    "X = df_seguro_pd.drop('charges', axis = 1)\n",
    "y = df_seguro_pd[['charges']]"
   ]
  },
  {
   "cell_type": "code",
   "execution_count": 23,
   "id": "559b86ea-650f-4d45-a3fe-94d706dcbc23",
   "metadata": {
    "jupyter": {
     "outputs_hidden": false,
     "source_hidden": false
    },
    "microsoft": {
     "language": "python",
     "language_group": "synapse_pyspark"
    },
    "nteract": {
     "transient": {
      "deleting": false
     }
    }
   },
   "outputs": [
    {
     "data": {
      "application/vnd.livy.statement-meta+json": {
       "execution_finish_time": "2024-05-26T17:40:31.2511667Z",
       "execution_start_time": "2024-05-26T17:40:30.9938671Z",
       "livy_statement_state": "available",
       "parent_msg_id": "69220663-37c2-4cf5-a71b-4747105cf841",
       "queued_time": "2024-05-26T17:39:45.5257114Z",
       "session_id": "7a5450d8-69d2-4a57-abca-aa777cd97915",
       "session_start_time": null,
       "spark_pool": null,
       "state": "finished",
       "statement_id": 28,
       "statement_ids": [
        28
       ]
      },
      "text/plain": [
       "StatementMeta(, 7a5450d8-69d2-4a57-abca-aa777cd97915, 28, Finished, Available)"
      ]
     },
     "metadata": {},
     "output_type": "display_data"
    },
    {
     "data": {
      "text/html": [
       "<div>\n",
       "<style scoped>\n",
       "    .dataframe tbody tr th:only-of-type {\n",
       "        vertical-align: middle;\n",
       "    }\n",
       "\n",
       "    .dataframe tbody tr th {\n",
       "        vertical-align: top;\n",
       "    }\n",
       "\n",
       "    .dataframe thead th {\n",
       "        text-align: right;\n",
       "    }\n",
       "</style>\n",
       "<table border=\"1\" class=\"dataframe\">\n",
       "  <thead>\n",
       "    <tr style=\"text-align: right;\">\n",
       "      <th></th>\n",
       "      <th>age</th>\n",
       "      <th>bmi</th>\n",
       "      <th>children</th>\n",
       "      <th>smoker</th>\n",
       "      <th>female</th>\n",
       "      <th>northwest</th>\n",
       "      <th>southeast</th>\n",
       "      <th>southwest</th>\n",
       "    </tr>\n",
       "  </thead>\n",
       "  <tbody>\n",
       "    <tr>\n",
       "      <th>0</th>\n",
       "      <td>19</td>\n",
       "      <td>27.90</td>\n",
       "      <td>0</td>\n",
       "      <td>1</td>\n",
       "      <td>1</td>\n",
       "      <td>False</td>\n",
       "      <td>False</td>\n",
       "      <td>True</td>\n",
       "    </tr>\n",
       "    <tr>\n",
       "      <th>1</th>\n",
       "      <td>18</td>\n",
       "      <td>33.77</td>\n",
       "      <td>1</td>\n",
       "      <td>0</td>\n",
       "      <td>0</td>\n",
       "      <td>False</td>\n",
       "      <td>True</td>\n",
       "      <td>False</td>\n",
       "    </tr>\n",
       "    <tr>\n",
       "      <th>2</th>\n",
       "      <td>28</td>\n",
       "      <td>33.00</td>\n",
       "      <td>3</td>\n",
       "      <td>0</td>\n",
       "      <td>0</td>\n",
       "      <td>False</td>\n",
       "      <td>True</td>\n",
       "      <td>False</td>\n",
       "    </tr>\n",
       "    <tr>\n",
       "      <th>3</th>\n",
       "      <td>33</td>\n",
       "      <td>22.70</td>\n",
       "      <td>0</td>\n",
       "      <td>0</td>\n",
       "      <td>0</td>\n",
       "      <td>True</td>\n",
       "      <td>False</td>\n",
       "      <td>False</td>\n",
       "    </tr>\n",
       "    <tr>\n",
       "      <th>4</th>\n",
       "      <td>32</td>\n",
       "      <td>28.88</td>\n",
       "      <td>0</td>\n",
       "      <td>0</td>\n",
       "      <td>0</td>\n",
       "      <td>True</td>\n",
       "      <td>False</td>\n",
       "      <td>False</td>\n",
       "    </tr>\n",
       "  </tbody>\n",
       "</table>\n",
       "</div>"
      ],
      "text/plain": [
       "   age   bmi  children  smoker  female  northwest  southeast  southwest\n",
       "0   19 27.90         0       1       1      False      False       True\n",
       "1   18 33.77         1       0       0      False       True      False\n",
       "2   28 33.00         3       0       0      False       True      False\n",
       "3   33 22.70         0       0       0       True      False      False\n",
       "4   32 28.88         0       0       0       True      False      False"
      ]
     },
     "execution_count": 83,
     "metadata": {},
     "output_type": "execute_result"
    }
   ],
   "source": [
    "# Variaveis Preditoras / Independentes / Features\n",
    "X.head()"
   ]
  },
  {
   "cell_type": "code",
   "execution_count": 24,
   "id": "050d8060-a98e-4bc8-b631-26b3da4caad1",
   "metadata": {
    "jupyter": {
     "outputs_hidden": false,
     "source_hidden": false
    },
    "microsoft": {
     "language": "python",
     "language_group": "synapse_pyspark"
    },
    "nteract": {
     "transient": {
      "deleting": false
     }
    }
   },
   "outputs": [
    {
     "data": {
      "application/vnd.livy.statement-meta+json": {
       "execution_finish_time": "2024-05-26T17:40:31.9869753Z",
       "execution_start_time": "2024-05-26T17:40:31.7253231Z",
       "livy_statement_state": "available",
       "parent_msg_id": "02de8400-530d-4301-b8c9-200da0c23362",
       "queued_time": "2024-05-26T17:39:45.7782677Z",
       "session_id": "7a5450d8-69d2-4a57-abca-aa777cd97915",
       "session_start_time": null,
       "spark_pool": null,
       "state": "finished",
       "statement_id": 29,
       "statement_ids": [
        29
       ]
      },
      "text/plain": [
       "StatementMeta(, 7a5450d8-69d2-4a57-abca-aa777cd97915, 29, Finished, Available)"
      ]
     },
     "metadata": {},
     "output_type": "display_data"
    },
    {
     "data": {
      "text/html": [
       "<div>\n",
       "<style scoped>\n",
       "    .dataframe tbody tr th:only-of-type {\n",
       "        vertical-align: middle;\n",
       "    }\n",
       "\n",
       "    .dataframe tbody tr th {\n",
       "        vertical-align: top;\n",
       "    }\n",
       "\n",
       "    .dataframe thead th {\n",
       "        text-align: right;\n",
       "    }\n",
       "</style>\n",
       "<table border=\"1\" class=\"dataframe\">\n",
       "  <thead>\n",
       "    <tr style=\"text-align: right;\">\n",
       "      <th></th>\n",
       "      <th>charges</th>\n",
       "    </tr>\n",
       "  </thead>\n",
       "  <tbody>\n",
       "    <tr>\n",
       "      <th>0</th>\n",
       "      <td>16884.92</td>\n",
       "    </tr>\n",
       "    <tr>\n",
       "      <th>1</th>\n",
       "      <td>1725.55</td>\n",
       "    </tr>\n",
       "    <tr>\n",
       "      <th>2</th>\n",
       "      <td>4449.46</td>\n",
       "    </tr>\n",
       "    <tr>\n",
       "      <th>3</th>\n",
       "      <td>21984.47</td>\n",
       "    </tr>\n",
       "    <tr>\n",
       "      <th>4</th>\n",
       "      <td>3866.86</td>\n",
       "    </tr>\n",
       "  </tbody>\n",
       "</table>\n",
       "</div>"
      ],
      "text/plain": [
       "   charges\n",
       "0 16884.92\n",
       "1  1725.55\n",
       "2  4449.46\n",
       "3 21984.47\n",
       "4  3866.86"
      ]
     },
     "execution_count": 86,
     "metadata": {},
     "output_type": "execute_result"
    }
   ],
   "source": [
    "# Variaveis Dependente / Target / Alvo / Label\n",
    "y.head()"
   ]
  },
  {
   "cell_type": "markdown",
   "id": "3401fc1f-d704-44bc-aa4d-c6238e686c7b",
   "metadata": {
    "nteract": {
     "transient": {
      "deleting": false
     }
    }
   },
   "source": [
    "### Separação de Bases\n",
    "Separar base de treino e teste para evitar data leakage (sobreajuste) porque vamos fazer feature scalling, por exemplo, e tais transformações devem ser realizadas depois do SPLI(separação)."
   ]
  },
  {
   "cell_type": "code",
   "execution_count": 25,
   "id": "eef25abb-6788-4826-ae14-6bb81fded636",
   "metadata": {
    "jupyter": {
     "outputs_hidden": false,
     "source_hidden": false
    },
    "microsoft": {
     "language": "python",
     "language_group": "synapse_pyspark"
    },
    "nteract": {
     "transient": {
      "deleting": false
     }
    }
   },
   "outputs": [
    {
     "data": {
      "application/vnd.livy.statement-meta+json": {
       "execution_finish_time": "2024-05-26T17:40:38.8770032Z",
       "execution_start_time": "2024-05-26T17:40:32.475246Z",
       "livy_statement_state": "available",
       "parent_msg_id": "f1636876-6cfd-454d-92ee-a718b078e920",
       "queued_time": "2024-05-26T17:39:46.0473535Z",
       "session_id": "7a5450d8-69d2-4a57-abca-aa777cd97915",
       "session_start_time": null,
       "spark_pool": null,
       "state": "finished",
       "statement_id": 30,
       "statement_ids": [
        30
       ]
      },
      "text/plain": [
       "StatementMeta(, 7a5450d8-69d2-4a57-abca-aa777cd97915, 30, Finished, Available)"
      ]
     },
     "metadata": {},
     "output_type": "display_data"
    },
    {
     "data": {
      "text/plain": [
       "((1070, 8), (1070, 1), (268, 8), (268, 1))"
      ]
     },
     "execution_count": 89,
     "metadata": {},
     "output_type": "execute_result"
    }
   ],
   "source": [
    "# Função que separa a base de treino e teste\n",
    "# Depois será feito cross validation com a base de treino\n",
    "\n",
    "from sklearn.model_selection import train_test_split\n",
    "\n",
    "#devolve uma tupla de 4 elementos: X_treino, X_teste, y_treino, y_teste\n",
    "# 20% para teste\n",
    "# random = 42 para fixar a aleatoriedade e conseguir reproduzir esses resultados\n",
    "X_treino, X_teste, y_treino, y_teste = train_test_split(X, y, test_size= .2, random_state= 42)\n",
    "\n",
    "#ver qtd de linhas em cada parte\n",
    "X_treino.shape, y_treino.shape, X_teste.shape, y_teste.shape"
   ]
  },
  {
   "cell_type": "markdown",
   "id": "f14ec319-919b-41c4-9c86-e6572003b884",
   "metadata": {
    "nteract": {
     "transient": {
      "deleting": false
     }
    }
   },
   "source": [
    "### Feature Scaling - Padronizando escala das variáveis\n",
    "Como usaremos modelos lineares é importante realizar o Scaling das Features para mante-las numa mesma ordem de grandeza. Utilizaremos MinMaxScaler, onde os valores mínimos serão definidos como 0 e os valores máximos serão definidos como 1. Os demais serão posicionados nessa escala.\n",
    "\n",
    "Isso é feito APENAS NOS DADOS DE TESTE para não termos sobreajuste."
   ]
  },
  {
   "cell_type": "code",
   "execution_count": 26,
   "id": "be03f832-1017-495d-8618-74f5b15dd192",
   "metadata": {
    "jupyter": {
     "outputs_hidden": false,
     "source_hidden": false
    },
    "microsoft": {
     "language": "python",
     "language_group": "synapse_pyspark"
    },
    "nteract": {
     "transient": {
      "deleting": false
     }
    }
   },
   "outputs": [
    {
     "data": {
      "application/vnd.livy.statement-meta+json": {
       "execution_finish_time": "2024-05-26T17:40:39.563044Z",
       "execution_start_time": "2024-05-26T17:40:39.3160043Z",
       "livy_statement_state": "available",
       "parent_msg_id": "bba88fc0-b4c2-4173-b9d4-44dd57a7b1c3",
       "queued_time": "2024-05-26T17:39:46.4213475Z",
       "session_id": "7a5450d8-69d2-4a57-abca-aa777cd97915",
       "session_start_time": null,
       "spark_pool": null,
       "state": "finished",
       "statement_id": 31,
       "statement_ids": [
        31
       ]
      },
      "text/plain": [
       "StatementMeta(, 7a5450d8-69d2-4a57-abca-aa777cd97915, 31, Finished, Available)"
      ]
     },
     "metadata": {},
     "output_type": "display_data"
    },
    {
     "data": {
      "text/html": [
       "<div>\n",
       "<style scoped>\n",
       "    .dataframe tbody tr th:only-of-type {\n",
       "        vertical-align: middle;\n",
       "    }\n",
       "\n",
       "    .dataframe tbody tr th {\n",
       "        vertical-align: top;\n",
       "    }\n",
       "\n",
       "    .dataframe thead th {\n",
       "        text-align: right;\n",
       "    }\n",
       "</style>\n",
       "<table border=\"1\" class=\"dataframe\">\n",
       "  <thead>\n",
       "    <tr style=\"text-align: right;\">\n",
       "      <th></th>\n",
       "      <th>age</th>\n",
       "      <th>bmi</th>\n",
       "      <th>children</th>\n",
       "      <th>smoker</th>\n",
       "      <th>charges</th>\n",
       "      <th>female</th>\n",
       "    </tr>\n",
       "  </thead>\n",
       "  <tbody>\n",
       "    <tr>\n",
       "      <th>count</th>\n",
       "      <td>1338.00</td>\n",
       "      <td>1338.00</td>\n",
       "      <td>1338.00</td>\n",
       "      <td>1338.00</td>\n",
       "      <td>1338.00</td>\n",
       "      <td>1338.00</td>\n",
       "    </tr>\n",
       "    <tr>\n",
       "      <th>mean</th>\n",
       "      <td>39.21</td>\n",
       "      <td>30.66</td>\n",
       "      <td>1.09</td>\n",
       "      <td>0.20</td>\n",
       "      <td>13270.42</td>\n",
       "      <td>0.49</td>\n",
       "    </tr>\n",
       "    <tr>\n",
       "      <th>std</th>\n",
       "      <td>14.05</td>\n",
       "      <td>6.10</td>\n",
       "      <td>1.21</td>\n",
       "      <td>0.40</td>\n",
       "      <td>12110.01</td>\n",
       "      <td>0.50</td>\n",
       "    </tr>\n",
       "    <tr>\n",
       "      <th>min</th>\n",
       "      <td>18.00</td>\n",
       "      <td>15.96</td>\n",
       "      <td>0.00</td>\n",
       "      <td>0.00</td>\n",
       "      <td>1121.87</td>\n",
       "      <td>0.00</td>\n",
       "    </tr>\n",
       "    <tr>\n",
       "      <th>25%</th>\n",
       "      <td>27.00</td>\n",
       "      <td>26.30</td>\n",
       "      <td>0.00</td>\n",
       "      <td>0.00</td>\n",
       "      <td>4740.29</td>\n",
       "      <td>0.00</td>\n",
       "    </tr>\n",
       "    <tr>\n",
       "      <th>50%</th>\n",
       "      <td>39.00</td>\n",
       "      <td>30.40</td>\n",
       "      <td>1.00</td>\n",
       "      <td>0.00</td>\n",
       "      <td>9382.03</td>\n",
       "      <td>0.00</td>\n",
       "    </tr>\n",
       "    <tr>\n",
       "      <th>75%</th>\n",
       "      <td>51.00</td>\n",
       "      <td>34.69</td>\n",
       "      <td>2.00</td>\n",
       "      <td>0.00</td>\n",
       "      <td>16639.91</td>\n",
       "      <td>1.00</td>\n",
       "    </tr>\n",
       "    <tr>\n",
       "      <th>max</th>\n",
       "      <td>64.00</td>\n",
       "      <td>53.13</td>\n",
       "      <td>5.00</td>\n",
       "      <td>1.00</td>\n",
       "      <td>63770.43</td>\n",
       "      <td>1.00</td>\n",
       "    </tr>\n",
       "  </tbody>\n",
       "</table>\n",
       "</div>"
      ],
      "text/plain": [
       "          age     bmi  children  smoker  charges  female\n",
       "count 1338.00 1338.00   1338.00 1338.00  1338.00 1338.00\n",
       "mean    39.21   30.66      1.09    0.20 13270.42    0.49\n",
       "std     14.05    6.10      1.21    0.40 12110.01    0.50\n",
       "min     18.00   15.96      0.00    0.00  1121.87    0.00\n",
       "25%     27.00   26.30      0.00    0.00  4740.29    0.00\n",
       "50%     39.00   30.40      1.00    0.00  9382.03    0.00\n",
       "75%     51.00   34.69      2.00    0.00 16639.91    1.00\n",
       "max     64.00   53.13      5.00    1.00 63770.43    1.00"
      ]
     },
     "execution_count": 92,
     "metadata": {},
     "output_type": "execute_result"
    }
   ],
   "source": [
    "df_seguro_pd.describe()"
   ]
  },
  {
   "cell_type": "code",
   "execution_count": 27,
   "id": "5e84f803-a299-4fcc-b49c-a245b88ef2ca",
   "metadata": {
    "jupyter": {
     "outputs_hidden": false,
     "source_hidden": false
    },
    "microsoft": {
     "language": "python",
     "language_group": "synapse_pyspark"
    },
    "nteract": {
     "transient": {
      "deleting": false
     }
    }
   },
   "outputs": [
    {
     "data": {
      "application/vnd.livy.statement-meta+json": {
       "execution_finish_time": "2024-05-26T17:40:40.2761335Z",
       "execution_start_time": "2024-05-26T17:40:40.0183905Z",
       "livy_statement_state": "available",
       "parent_msg_id": "f926ea2e-0a5e-4848-afc6-7cc52e578453",
       "queued_time": "2024-05-26T17:39:46.7859282Z",
       "session_id": "7a5450d8-69d2-4a57-abca-aa777cd97915",
       "session_start_time": null,
       "spark_pool": null,
       "state": "finished",
       "statement_id": 32,
       "statement_ids": [
        32
       ]
      },
      "text/plain": [
       "StatementMeta(, 7a5450d8-69d2-4a57-abca-aa777cd97915, 32, Finished, Available)"
      ]
     },
     "metadata": {},
     "output_type": "display_data"
    }
   ],
   "source": [
    "# Normalização - MinMaxScaler; Padronização - StandardScaler\n",
    "from sklearn.preprocessing import MinMaxScaler\n",
    "\n",
    "# Criar scaler\n",
    "scaler = MinMaxScaler()"
   ]
  },
  {
   "cell_type": "code",
   "execution_count": 28,
   "id": "3744a584-9780-4799-a1bc-9a00dc021b80",
   "metadata": {
    "jupyter": {
     "outputs_hidden": false,
     "source_hidden": false
    },
    "microsoft": {
     "language": "python",
     "language_group": "synapse_pyspark"
    },
    "nteract": {
     "transient": {
      "deleting": false
     }
    }
   },
   "outputs": [
    {
     "data": {
      "application/vnd.livy.statement-meta+json": {
       "execution_finish_time": "2024-05-26T17:40:40.9840718Z",
       "execution_start_time": "2024-05-26T17:40:40.734105Z",
       "livy_statement_state": "available",
       "parent_msg_id": "c219362e-b194-43f3-a93b-d188e55b7783",
       "queued_time": "2024-05-26T17:39:47.1612066Z",
       "session_id": "7a5450d8-69d2-4a57-abca-aa777cd97915",
       "session_start_time": null,
       "spark_pool": null,
       "state": "finished",
       "statement_id": 33,
       "statement_ids": [
        33
       ]
      },
      "text/plain": [
       "StatementMeta(, 7a5450d8-69d2-4a57-abca-aa777cd97915, 33, Finished, Available)"
      ]
     },
     "metadata": {},
     "output_type": "display_data"
    },
    {
     "data": {
      "text/plain": [
       "sklearn.preprocessing._data.MinMaxScaler"
      ]
     },
     "execution_count": 98,
     "metadata": {},
     "output_type": "execute_result"
    }
   ],
   "source": [
    "type(scaler)"
   ]
  },
  {
   "cell_type": "code",
   "execution_count": 29,
   "id": "cbbb42cf-0f63-438e-a5e6-50cb8b134a40",
   "metadata": {
    "jupyter": {
     "outputs_hidden": false,
     "source_hidden": false
    },
    "microsoft": {
     "language": "python",
     "language_group": "synapse_pyspark"
    },
    "nteract": {
     "transient": {
      "deleting": false
     }
    }
   },
   "outputs": [
    {
     "data": {
      "application/vnd.livy.statement-meta+json": {
       "execution_finish_time": "2024-05-26T17:40:41.6909477Z",
       "execution_start_time": "2024-05-26T17:40:41.4320571Z",
       "livy_statement_state": "available",
       "parent_msg_id": "02a5c813-e87b-45ae-add2-b088bebbc27d",
       "queued_time": "2024-05-26T17:39:47.4866253Z",
       "session_id": "7a5450d8-69d2-4a57-abca-aa777cd97915",
       "session_start_time": null,
       "spark_pool": null,
       "state": "finished",
       "statement_id": 34,
       "statement_ids": [
        34
       ]
      },
      "text/plain": [
       "StatementMeta(, 7a5450d8-69d2-4a57-abca-aa777cd97915, 34, Finished, Available)"
      ]
     },
     "metadata": {},
     "output_type": "display_data"
    },
    {
     "data": {
      "text/plain": [
       "((1070, 8), (268, 8))"
      ]
     },
     "execution_count": 101,
     "metadata": {},
     "output_type": "execute_result"
    }
   ],
   "source": [
    "colunas = X_treino.columns\n",
    "\n",
    "# IMPORTANTE! Fit no Treino! Transform no teste!\n",
    "X_treino[colunas] = scaler.fit_transform(X_treino)\n",
    "X_teste[colunas] = scaler.transform(X_teste)\n",
    "\n",
    "X_treino.shape , X_teste.shape"
   ]
  },
  {
   "cell_type": "code",
   "execution_count": 30,
   "id": "7615dd8b-c6e1-4a59-bf9d-1f09efe11a4a",
   "metadata": {
    "jupyter": {
     "outputs_hidden": false,
     "source_hidden": false
    },
    "microsoft": {
     "language": "python",
     "language_group": "synapse_pyspark"
    },
    "nteract": {
     "transient": {
      "deleting": false
     }
    }
   },
   "outputs": [
    {
     "data": {
      "application/vnd.livy.statement-meta+json": {
       "execution_finish_time": "2024-05-26T17:40:42.3833792Z",
       "execution_start_time": "2024-05-26T17:40:42.1440238Z",
       "livy_statement_state": "available",
       "parent_msg_id": "216b9daf-1ab9-41bd-9a81-10f053e4954a",
       "queued_time": "2024-05-26T17:39:47.7624022Z",
       "session_id": "7a5450d8-69d2-4a57-abca-aa777cd97915",
       "session_start_time": null,
       "spark_pool": null,
       "state": "finished",
       "statement_id": 35,
       "statement_ids": [
        35
       ]
      },
      "text/plain": [
       "StatementMeta(, 7a5450d8-69d2-4a57-abca-aa777cd97915, 35, Finished, Available)"
      ]
     },
     "metadata": {},
     "output_type": "display_data"
    },
    {
     "data": {
      "text/html": [
       "<div>\n",
       "<style scoped>\n",
       "    .dataframe tbody tr th:only-of-type {\n",
       "        vertical-align: middle;\n",
       "    }\n",
       "\n",
       "    .dataframe tbody tr th {\n",
       "        vertical-align: top;\n",
       "    }\n",
       "\n",
       "    .dataframe thead th {\n",
       "        text-align: right;\n",
       "    }\n",
       "</style>\n",
       "<table border=\"1\" class=\"dataframe\">\n",
       "  <thead>\n",
       "    <tr style=\"text-align: right;\">\n",
       "      <th></th>\n",
       "      <th>age</th>\n",
       "      <th>bmi</th>\n",
       "      <th>children</th>\n",
       "      <th>smoker</th>\n",
       "      <th>female</th>\n",
       "      <th>northwest</th>\n",
       "      <th>southeast</th>\n",
       "      <th>southwest</th>\n",
       "    </tr>\n",
       "  </thead>\n",
       "  <tbody>\n",
       "    <tr>\n",
       "      <th>560</th>\n",
       "      <td>0.61</td>\n",
       "      <td>0.11</td>\n",
       "      <td>0.40</td>\n",
       "      <td>0.00</td>\n",
       "      <td>1.00</td>\n",
       "      <td>1.00</td>\n",
       "      <td>0.00</td>\n",
       "      <td>0.00</td>\n",
       "    </tr>\n",
       "    <tr>\n",
       "      <th>1285</th>\n",
       "      <td>0.63</td>\n",
       "      <td>0.22</td>\n",
       "      <td>0.00</td>\n",
       "      <td>0.00</td>\n",
       "      <td>1.00</td>\n",
       "      <td>0.00</td>\n",
       "      <td>0.00</td>\n",
       "      <td>0.00</td>\n",
       "    </tr>\n",
       "    <tr>\n",
       "      <th>1142</th>\n",
       "      <td>0.74</td>\n",
       "      <td>0.24</td>\n",
       "      <td>0.00</td>\n",
       "      <td>0.00</td>\n",
       "      <td>1.00</td>\n",
       "      <td>0.00</td>\n",
       "      <td>1.00</td>\n",
       "      <td>0.00</td>\n",
       "    </tr>\n",
       "    <tr>\n",
       "      <th>969</th>\n",
       "      <td>0.46</td>\n",
       "      <td>0.49</td>\n",
       "      <td>1.00</td>\n",
       "      <td>0.00</td>\n",
       "      <td>1.00</td>\n",
       "      <td>0.00</td>\n",
       "      <td>1.00</td>\n",
       "      <td>0.00</td>\n",
       "    </tr>\n",
       "    <tr>\n",
       "      <th>486</th>\n",
       "      <td>0.78</td>\n",
       "      <td>0.15</td>\n",
       "      <td>0.60</td>\n",
       "      <td>0.00</td>\n",
       "      <td>1.00</td>\n",
       "      <td>1.00</td>\n",
       "      <td>0.00</td>\n",
       "      <td>0.00</td>\n",
       "    </tr>\n",
       "  </tbody>\n",
       "</table>\n",
       "</div>"
      ],
      "text/plain": [
       "      age  bmi  children  smoker  female  northwest  southeast  southwest\n",
       "560  0.61 0.11      0.40    0.00    1.00       1.00       0.00       0.00\n",
       "1285 0.63 0.22      0.00    0.00    1.00       0.00       0.00       0.00\n",
       "1142 0.74 0.24      0.00    0.00    1.00       0.00       1.00       0.00\n",
       "969  0.46 0.49      1.00    0.00    1.00       0.00       1.00       0.00\n",
       "486  0.78 0.15      0.60    0.00    1.00       1.00       0.00       0.00"
      ]
     },
     "execution_count": 104,
     "metadata": {},
     "output_type": "execute_result"
    }
   ],
   "source": [
    "X_treino.head()"
   ]
  },
  {
   "cell_type": "code",
   "execution_count": 31,
   "id": "34c9504c-6051-4602-bf14-2bdfe5982b46",
   "metadata": {
    "jupyter": {
     "outputs_hidden": false,
     "source_hidden": false
    },
    "microsoft": {
     "language": "python",
     "language_group": "synapse_pyspark"
    },
    "nteract": {
     "transient": {
      "deleting": false
     }
    }
   },
   "outputs": [
    {
     "data": {
      "application/vnd.livy.statement-meta+json": {
       "execution_finish_time": "2024-05-26T17:40:43.1002924Z",
       "execution_start_time": "2024-05-26T17:40:42.8427079Z",
       "livy_statement_state": "available",
       "parent_msg_id": "1e504888-8a68-4b39-a720-cd1752acf028",
       "queued_time": "2024-05-26T17:39:47.9945739Z",
       "session_id": "7a5450d8-69d2-4a57-abca-aa777cd97915",
       "session_start_time": null,
       "spark_pool": null,
       "state": "finished",
       "statement_id": 36,
       "statement_ids": [
        36
       ]
      },
      "text/plain": [
       "StatementMeta(, 7a5450d8-69d2-4a57-abca-aa777cd97915, 36, Finished, Available)"
      ]
     },
     "metadata": {},
     "output_type": "display_data"
    },
    {
     "data": {
      "text/html": [
       "<div>\n",
       "<style scoped>\n",
       "    .dataframe tbody tr th:only-of-type {\n",
       "        vertical-align: middle;\n",
       "    }\n",
       "\n",
       "    .dataframe tbody tr th {\n",
       "        vertical-align: top;\n",
       "    }\n",
       "\n",
       "    .dataframe thead th {\n",
       "        text-align: right;\n",
       "    }\n",
       "</style>\n",
       "<table border=\"1\" class=\"dataframe\">\n",
       "  <thead>\n",
       "    <tr style=\"text-align: right;\">\n",
       "      <th></th>\n",
       "      <th>age</th>\n",
       "      <th>bmi</th>\n",
       "      <th>children</th>\n",
       "      <th>smoker</th>\n",
       "      <th>female</th>\n",
       "      <th>northwest</th>\n",
       "      <th>southeast</th>\n",
       "      <th>southwest</th>\n",
       "    </tr>\n",
       "  </thead>\n",
       "  <tbody>\n",
       "    <tr>\n",
       "      <th>764</th>\n",
       "      <td>0.59</td>\n",
       "      <td>0.25</td>\n",
       "      <td>0.40</td>\n",
       "      <td>0.00</td>\n",
       "      <td>1.00</td>\n",
       "      <td>0.00</td>\n",
       "      <td>0.00</td>\n",
       "      <td>0.00</td>\n",
       "    </tr>\n",
       "    <tr>\n",
       "      <th>887</th>\n",
       "      <td>0.39</td>\n",
       "      <td>0.38</td>\n",
       "      <td>0.00</td>\n",
       "      <td>0.00</td>\n",
       "      <td>1.00</td>\n",
       "      <td>1.00</td>\n",
       "      <td>0.00</td>\n",
       "      <td>0.00</td>\n",
       "    </tr>\n",
       "    <tr>\n",
       "      <th>890</th>\n",
       "      <td>1.00</td>\n",
       "      <td>0.29</td>\n",
       "      <td>0.00</td>\n",
       "      <td>1.00</td>\n",
       "      <td>1.00</td>\n",
       "      <td>1.00</td>\n",
       "      <td>0.00</td>\n",
       "      <td>0.00</td>\n",
       "    </tr>\n",
       "    <tr>\n",
       "      <th>1293</th>\n",
       "      <td>0.61</td>\n",
       "      <td>0.26</td>\n",
       "      <td>0.60</td>\n",
       "      <td>0.00</td>\n",
       "      <td>0.00</td>\n",
       "      <td>1.00</td>\n",
       "      <td>0.00</td>\n",
       "      <td>0.00</td>\n",
       "    </tr>\n",
       "    <tr>\n",
       "      <th>259</th>\n",
       "      <td>0.02</td>\n",
       "      <td>0.43</td>\n",
       "      <td>0.00</td>\n",
       "      <td>1.00</td>\n",
       "      <td>0.00</td>\n",
       "      <td>1.00</td>\n",
       "      <td>0.00</td>\n",
       "      <td>0.00</td>\n",
       "    </tr>\n",
       "  </tbody>\n",
       "</table>\n",
       "</div>"
      ],
      "text/plain": [
       "      age  bmi  children  smoker  female  northwest  southeast  southwest\n",
       "764  0.59 0.25      0.40    0.00    1.00       0.00       0.00       0.00\n",
       "887  0.39 0.38      0.00    0.00    1.00       1.00       0.00       0.00\n",
       "890  1.00 0.29      0.00    1.00    1.00       1.00       0.00       0.00\n",
       "1293 0.61 0.26      0.60    0.00    0.00       1.00       0.00       0.00\n",
       "259  0.02 0.43      0.00    1.00    0.00       1.00       0.00       0.00"
      ]
     },
     "execution_count": 107,
     "metadata": {},
     "output_type": "execute_result"
    }
   ],
   "source": [
    "X_teste.head()"
   ]
  },
  {
   "cell_type": "code",
   "execution_count": 32,
   "id": "bec6c28f-cd8a-44a6-84b8-c17f4730aac0",
   "metadata": {
    "jupyter": {
     "outputs_hidden": false,
     "source_hidden": false
    },
    "microsoft": {
     "language": "python",
     "language_group": "synapse_pyspark"
    },
    "nteract": {
     "transient": {
      "deleting": false
     }
    }
   },
   "outputs": [
    {
     "data": {
      "application/vnd.livy.statement-meta+json": {
       "execution_finish_time": "2024-05-26T17:40:43.8105424Z",
       "execution_start_time": "2024-05-26T17:40:43.5550525Z",
       "livy_statement_state": "available",
       "parent_msg_id": "77d0664a-f037-4db6-b9f9-ccc5aca04512",
       "queued_time": "2024-05-26T17:39:48.2408079Z",
       "session_id": "7a5450d8-69d2-4a57-abca-aa777cd97915",
       "session_start_time": null,
       "spark_pool": null,
       "state": "finished",
       "statement_id": 37,
       "statement_ids": [
        37
       ]
      },
      "text/plain": [
       "StatementMeta(, 7a5450d8-69d2-4a57-abca-aa777cd97915, 37, Finished, Available)"
      ]
     },
     "metadata": {},
     "output_type": "display_data"
    },
    {
     "data": {
      "text/html": [
       "<div>\n",
       "<style scoped>\n",
       "    .dataframe tbody tr th:only-of-type {\n",
       "        vertical-align: middle;\n",
       "    }\n",
       "\n",
       "    .dataframe tbody tr th {\n",
       "        vertical-align: top;\n",
       "    }\n",
       "\n",
       "    .dataframe thead th {\n",
       "        text-align: right;\n",
       "    }\n",
       "</style>\n",
       "<table border=\"1\" class=\"dataframe\">\n",
       "  <thead>\n",
       "    <tr style=\"text-align: right;\">\n",
       "      <th></th>\n",
       "      <th>age</th>\n",
       "      <th>bmi</th>\n",
       "      <th>children</th>\n",
       "      <th>smoker</th>\n",
       "      <th>female</th>\n",
       "      <th>northwest</th>\n",
       "      <th>southeast</th>\n",
       "      <th>southwest</th>\n",
       "    </tr>\n",
       "  </thead>\n",
       "  <tbody>\n",
       "    <tr>\n",
       "      <th>count</th>\n",
       "      <td>1070.00</td>\n",
       "      <td>1070.00</td>\n",
       "      <td>1070.00</td>\n",
       "      <td>1070.00</td>\n",
       "      <td>1070.00</td>\n",
       "      <td>1070.00</td>\n",
       "      <td>1070.00</td>\n",
       "      <td>1070.00</td>\n",
       "    </tr>\n",
       "    <tr>\n",
       "      <th>mean</th>\n",
       "      <td>0.46</td>\n",
       "      <td>0.39</td>\n",
       "      <td>0.22</td>\n",
       "      <td>0.21</td>\n",
       "      <td>0.49</td>\n",
       "      <td>0.24</td>\n",
       "      <td>0.26</td>\n",
       "      <td>0.25</td>\n",
       "    </tr>\n",
       "    <tr>\n",
       "      <th>std</th>\n",
       "      <td>0.31</td>\n",
       "      <td>0.16</td>\n",
       "      <td>0.24</td>\n",
       "      <td>0.40</td>\n",
       "      <td>0.50</td>\n",
       "      <td>0.43</td>\n",
       "      <td>0.44</td>\n",
       "      <td>0.43</td>\n",
       "    </tr>\n",
       "    <tr>\n",
       "      <th>min</th>\n",
       "      <td>0.00</td>\n",
       "      <td>0.00</td>\n",
       "      <td>0.00</td>\n",
       "      <td>0.00</td>\n",
       "      <td>0.00</td>\n",
       "      <td>0.00</td>\n",
       "      <td>0.00</td>\n",
       "      <td>0.00</td>\n",
       "    </tr>\n",
       "    <tr>\n",
       "      <th>25%</th>\n",
       "      <td>0.20</td>\n",
       "      <td>0.28</td>\n",
       "      <td>0.00</td>\n",
       "      <td>0.00</td>\n",
       "      <td>0.00</td>\n",
       "      <td>0.00</td>\n",
       "      <td>0.00</td>\n",
       "      <td>0.00</td>\n",
       "    </tr>\n",
       "    <tr>\n",
       "      <th>50%</th>\n",
       "      <td>0.47</td>\n",
       "      <td>0.38</td>\n",
       "      <td>0.20</td>\n",
       "      <td>0.00</td>\n",
       "      <td>0.00</td>\n",
       "      <td>0.00</td>\n",
       "      <td>0.00</td>\n",
       "      <td>0.00</td>\n",
       "    </tr>\n",
       "    <tr>\n",
       "      <th>75%</th>\n",
       "      <td>0.72</td>\n",
       "      <td>0.50</td>\n",
       "      <td>0.40</td>\n",
       "      <td>0.00</td>\n",
       "      <td>1.00</td>\n",
       "      <td>0.00</td>\n",
       "      <td>1.00</td>\n",
       "      <td>0.00</td>\n",
       "    </tr>\n",
       "    <tr>\n",
       "      <th>max</th>\n",
       "      <td>1.00</td>\n",
       "      <td>1.00</td>\n",
       "      <td>1.00</td>\n",
       "      <td>1.00</td>\n",
       "      <td>1.00</td>\n",
       "      <td>1.00</td>\n",
       "      <td>1.00</td>\n",
       "      <td>1.00</td>\n",
       "    </tr>\n",
       "  </tbody>\n",
       "</table>\n",
       "</div>"
      ],
      "text/plain": [
       "          age     bmi  children  smoker  female  northwest  southeast  \\\n",
       "count 1070.00 1070.00   1070.00 1070.00 1070.00    1070.00    1070.00   \n",
       "mean     0.46    0.39      0.22    0.21    0.49       0.24       0.26   \n",
       "std      0.31    0.16      0.24    0.40    0.50       0.43       0.44   \n",
       "min      0.00    0.00      0.00    0.00    0.00       0.00       0.00   \n",
       "25%      0.20    0.28      0.00    0.00    0.00       0.00       0.00   \n",
       "50%      0.47    0.38      0.20    0.00    0.00       0.00       0.00   \n",
       "75%      0.72    0.50      0.40    0.00    1.00       0.00       1.00   \n",
       "max      1.00    1.00      1.00    1.00    1.00       1.00       1.00   \n",
       "\n",
       "       southwest  \n",
       "count    1070.00  \n",
       "mean        0.25  \n",
       "std         0.43  \n",
       "min         0.00  \n",
       "25%         0.00  \n",
       "50%         0.00  \n",
       "75%         0.00  \n",
       "max         1.00  "
      ]
     },
     "execution_count": 110,
     "metadata": {},
     "output_type": "execute_result"
    }
   ],
   "source": [
    "X_treino.describe()"
   ]
  },
  {
   "cell_type": "code",
   "execution_count": 33,
   "id": "cf56d90a-0f3f-44a3-980d-9abd319c45cc",
   "metadata": {
    "jupyter": {
     "outputs_hidden": false,
     "source_hidden": false
    },
    "microsoft": {
     "language": "python",
     "language_group": "synapse_pyspark"
    },
    "nteract": {
     "transient": {
      "deleting": false
     }
    }
   },
   "outputs": [
    {
     "data": {
      "application/vnd.livy.statement-meta+json": {
       "execution_finish_time": "2024-05-26T17:40:44.5760933Z",
       "execution_start_time": "2024-05-26T17:40:44.3320698Z",
       "livy_statement_state": "available",
       "parent_msg_id": "6ce852b8-6889-4fe0-aca7-ec92ecde3a45",
       "queued_time": "2024-05-26T17:39:48.4962479Z",
       "session_id": "7a5450d8-69d2-4a57-abca-aa777cd97915",
       "session_start_time": null,
       "spark_pool": null,
       "state": "finished",
       "statement_id": 38,
       "statement_ids": [
        38
       ]
      },
      "text/plain": [
       "StatementMeta(, 7a5450d8-69d2-4a57-abca-aa777cd97915, 38, Finished, Available)"
      ]
     },
     "metadata": {},
     "output_type": "display_data"
    },
    {
     "data": {
      "text/html": [
       "<div>\n",
       "<style scoped>\n",
       "    .dataframe tbody tr th:only-of-type {\n",
       "        vertical-align: middle;\n",
       "    }\n",
       "\n",
       "    .dataframe tbody tr th {\n",
       "        vertical-align: top;\n",
       "    }\n",
       "\n",
       "    .dataframe thead th {\n",
       "        text-align: right;\n",
       "    }\n",
       "</style>\n",
       "<table border=\"1\" class=\"dataframe\">\n",
       "  <thead>\n",
       "    <tr style=\"text-align: right;\">\n",
       "      <th></th>\n",
       "      <th>age</th>\n",
       "      <th>bmi</th>\n",
       "      <th>children</th>\n",
       "      <th>smoker</th>\n",
       "      <th>female</th>\n",
       "      <th>northwest</th>\n",
       "      <th>southeast</th>\n",
       "      <th>southwest</th>\n",
       "    </tr>\n",
       "  </thead>\n",
       "  <tbody>\n",
       "    <tr>\n",
       "      <th>count</th>\n",
       "      <td>268.00</td>\n",
       "      <td>268.00</td>\n",
       "      <td>268.00</td>\n",
       "      <td>268.00</td>\n",
       "      <td>268.00</td>\n",
       "      <td>268.00</td>\n",
       "      <td>268.00</td>\n",
       "      <td>268.00</td>\n",
       "    </tr>\n",
       "    <tr>\n",
       "      <th>mean</th>\n",
       "      <td>0.45</td>\n",
       "      <td>0.41</td>\n",
       "      <td>0.21</td>\n",
       "      <td>0.20</td>\n",
       "      <td>0.52</td>\n",
       "      <td>0.26</td>\n",
       "      <td>0.30</td>\n",
       "      <td>0.23</td>\n",
       "    </tr>\n",
       "    <tr>\n",
       "      <th>std</th>\n",
       "      <td>0.30</td>\n",
       "      <td>0.17</td>\n",
       "      <td>0.23</td>\n",
       "      <td>0.40</td>\n",
       "      <td>0.50</td>\n",
       "      <td>0.44</td>\n",
       "      <td>0.46</td>\n",
       "      <td>0.42</td>\n",
       "    </tr>\n",
       "    <tr>\n",
       "      <th>min</th>\n",
       "      <td>0.00</td>\n",
       "      <td>0.02</td>\n",
       "      <td>0.00</td>\n",
       "      <td>0.00</td>\n",
       "      <td>0.00</td>\n",
       "      <td>0.00</td>\n",
       "      <td>0.00</td>\n",
       "      <td>0.00</td>\n",
       "    </tr>\n",
       "    <tr>\n",
       "      <th>25%</th>\n",
       "      <td>0.17</td>\n",
       "      <td>0.29</td>\n",
       "      <td>0.00</td>\n",
       "      <td>0.00</td>\n",
       "      <td>0.00</td>\n",
       "      <td>0.00</td>\n",
       "      <td>0.00</td>\n",
       "      <td>0.00</td>\n",
       "    </tr>\n",
       "    <tr>\n",
       "      <th>50%</th>\n",
       "      <td>0.43</td>\n",
       "      <td>0.40</td>\n",
       "      <td>0.20</td>\n",
       "      <td>0.00</td>\n",
       "      <td>1.00</td>\n",
       "      <td>0.00</td>\n",
       "      <td>0.00</td>\n",
       "      <td>0.00</td>\n",
       "    </tr>\n",
       "    <tr>\n",
       "      <th>75%</th>\n",
       "      <td>0.70</td>\n",
       "      <td>0.52</td>\n",
       "      <td>0.40</td>\n",
       "      <td>0.00</td>\n",
       "      <td>1.00</td>\n",
       "      <td>1.00</td>\n",
       "      <td>1.00</td>\n",
       "      <td>0.00</td>\n",
       "    </tr>\n",
       "    <tr>\n",
       "      <th>max</th>\n",
       "      <td>1.00</td>\n",
       "      <td>0.99</td>\n",
       "      <td>1.00</td>\n",
       "      <td>1.00</td>\n",
       "      <td>1.00</td>\n",
       "      <td>1.00</td>\n",
       "      <td>1.00</td>\n",
       "      <td>1.00</td>\n",
       "    </tr>\n",
       "  </tbody>\n",
       "</table>\n",
       "</div>"
      ],
      "text/plain": [
       "         age    bmi  children  smoker  female  northwest  southeast  southwest\n",
       "count 268.00 268.00    268.00  268.00  268.00     268.00     268.00     268.00\n",
       "mean    0.45   0.41      0.21    0.20    0.52       0.26       0.30       0.23\n",
       "std     0.30   0.17      0.23    0.40    0.50       0.44       0.46       0.42\n",
       "min     0.00   0.02      0.00    0.00    0.00       0.00       0.00       0.00\n",
       "25%     0.17   0.29      0.00    0.00    0.00       0.00       0.00       0.00\n",
       "50%     0.43   0.40      0.20    0.00    1.00       0.00       0.00       0.00\n",
       "75%     0.70   0.52      0.40    0.00    1.00       1.00       1.00       0.00\n",
       "max     1.00   0.99      1.00    1.00    1.00       1.00       1.00       1.00"
      ]
     },
     "execution_count": 113,
     "metadata": {},
     "output_type": "execute_result"
    }
   ],
   "source": [
    "#Possui valores minimos e máximos diferentes de 0 e 1\n",
    "X_teste.describe()"
   ]
  },
  {
   "cell_type": "markdown",
   "id": "f34ddbd6-b318-4f70-ba8a-bc493c383d75",
   "metadata": {
    "nteract": {
     "transient": {
      "deleting": false
     }
    }
   },
   "source": [
    "### Analisando a Correlação entre variáveis\n",
    "Quando utilizamos modelos lineares é importante saber se as variáveis preditoras possuem colinearidade entre si. Caso possuam, convem remover uma das variáveis para não afetar o modelo."
   ]
  },
  {
   "cell_type": "code",
   "execution_count": 34,
   "id": "a8a58139-0c07-47f9-9a88-93bdef2df854",
   "metadata": {
    "jupyter": {
     "outputs_hidden": false,
     "source_hidden": false
    },
    "microsoft": {
     "language": "python",
     "language_group": "synapse_pyspark"
    },
    "nteract": {
     "transient": {
      "deleting": false
     }
    }
   },
   "outputs": [
    {
     "data": {
      "application/vnd.livy.statement-meta+json": {
       "execution_finish_time": "2024-05-26T17:40:45.9231109Z",
       "execution_start_time": "2024-05-26T17:40:45.0355288Z",
       "livy_statement_state": "available",
       "parent_msg_id": "a30b934a-a633-4f7f-8312-5c5ec29102b8",
       "queued_time": "2024-05-26T17:39:48.7165533Z",
       "session_id": "7a5450d8-69d2-4a57-abca-aa777cd97915",
       "session_start_time": null,
       "spark_pool": null,
       "state": "finished",
       "statement_id": 39,
       "statement_ids": [
        39
       ]
      },
      "text/plain": [
       "StatementMeta(, 7a5450d8-69d2-4a57-abca-aa777cd97915, 39, Finished, Available)"
      ]
     },
     "metadata": {},
     "output_type": "display_data"
    },
    {
     "data": {
      "image/png": "[encoded data removed]",
      "text/plain": [
       "<Figure size 1000x800 with 2 Axes>"
      ]
     },
     "metadata": {},
     "output_type": "display_data"
    }
   ],
   "source": [
    "figura, graficos = plt.subplots(figsize = (10,8))\n",
    "corr = df_seguro_pd.corr()\n",
    "\n",
    "sns.heatmap(corr, mask=np.zeros_like(corr, dtype = bool)\n",
    "                                    , square= True\n",
    "                                    , ax= graficos);"
   ]
  },
  {
   "cell_type": "markdown",
   "id": "0b1f3225-3339-49e5-ad22-30efb303c134",
   "metadata": {
    "nteract": {
     "transient": {
      "deleting": false
     }
    }
   },
   "source": [
    "## Modelos de Machine Learning\n",
    "### Regressão Linear - ML\n",
    "Primeiro Modelo que vamos treinar é o de Regressão Linear.\n",
    "\n",
    "Iremos utilizar Cross Validation para evitar overfit e ter uma base de comparação com outros modelos."
   ]
  },
  {
   "cell_type": "code",
   "execution_count": 35,
   "id": "e2718285-56d6-4d60-868b-dc8929436f17",
   "metadata": {
    "jupyter": {
     "outputs_hidden": false,
     "source_hidden": false
    },
    "microsoft": {
     "language": "python",
     "language_group": "synapse_pyspark"
    },
    "nteract": {
     "transient": {
      "deleting": false
     }
    }
   },
   "outputs": [
    {
     "data": {
      "application/vnd.livy.statement-meta+json": {
       "execution_finish_time": "2024-05-26T17:40:47.1945771Z",
       "execution_start_time": "2024-05-26T17:40:46.3747208Z",
       "livy_statement_state": "available",
       "parent_msg_id": "65638f5f-6c13-43ce-8954-f058055c0e76",
       "queued_time": "2024-05-26T17:39:48.9726806Z",
       "session_id": "7a5450d8-69d2-4a57-abca-aa777cd97915",
       "session_start_time": null,
       "spark_pool": null,
       "state": "finished",
       "statement_id": 40,
       "statement_ids": [
        40
       ]
      },
      "text/plain": [
       "StatementMeta(, 7a5450d8-69d2-4a57-abca-aa777cd97915, 40, Finished, Available)"
      ]
     },
     "metadata": {},
     "output_type": "display_data"
    },
    {
     "data": {
      "text/plain": [
       "array([-6073.99997254, -6580.87166754, -5233.82683473, -6045.25239632,\n",
       "       -5836.4647871 , -6127.43525895, -7281.08373608, -6321.52706355,\n",
       "       -6193.3145481 , -5637.06299714])"
      ]
     },
     "execution_count": 119,
     "metadata": {},
     "output_type": "execute_result"
    }
   ],
   "source": [
    "from sklearn.linear_model import LinearRegression\n",
    "from sklearn.model_selection import cross_val_score\n",
    "\n",
    "# criando o modelo / preditor / regressor / estimador\n",
    "regressao_linear = LinearRegression()\n",
    "\n",
    "# Vamos Treinar utilizando Cross Validation\n",
    "# Valores Root Mean Squared Error da Regressao Linear\n",
    "valores_rmse_rl = cross_val_score(estimator = regressao_linear\n",
    "                                , X = X_treino\n",
    "                                , y = y_treino\n",
    "                                , cv = 10 # 10 partes de cross validação\n",
    "                                , scoring= 'neg_root_mean_squared_error') # neg para pegar o menor erro\n",
    "\n",
    "#Retorna os 10 valores de Erro encontrados\n",
    "valores_rmse_rl"
   ]
  },
  {
   "cell_type": "code",
   "execution_count": 36,
   "id": "630dc540-0807-4574-8e47-1205e214fb64",
   "metadata": {
    "jupyter": {
     "outputs_hidden": false,
     "source_hidden": false
    },
    "microsoft": {
     "language": "python",
     "language_group": "synapse_pyspark"
    },
    "nteract": {
     "transient": {
      "deleting": false
     }
    }
   },
   "outputs": [
    {
     "data": {
      "application/vnd.livy.statement-meta+json": {
       "execution_finish_time": "2024-05-26T17:40:47.8844479Z",
       "execution_start_time": "2024-05-26T17:40:47.6357553Z",
       "livy_statement_state": "available",
       "parent_msg_id": "779cb8cf-52d9-439a-845c-b1301631c687",
       "queued_time": "2024-05-26T17:39:49.2118867Z",
       "session_id": "7a5450d8-69d2-4a57-abca-aa777cd97915",
       "session_start_time": null,
       "spark_pool": null,
       "state": "finished",
       "statement_id": 41,
       "statement_ids": [
        41
       ]
      },
      "text/plain": [
       "StatementMeta(, 7a5450d8-69d2-4a57-abca-aa777cd97915, 41, Finished, Available)"
      ]
     },
     "metadata": {},
     "output_type": "display_data"
    },
    {
     "data": {
      "text/plain": [
       "array([6073.99997254, 6580.87166754, 5233.82683473, 6045.25239632,\n",
       "       5836.4647871 , 6127.43525895, 7281.08373608, 6321.52706355,\n",
       "       6193.3145481 , 5637.06299714])"
      ]
     },
     "execution_count": 122,
     "metadata": {},
     "output_type": "execute_result"
    }
   ],
   "source": [
    "# Transformando os erros de predição para valores positivos\n",
    "valores_rmse_rl = valores_rmse_rl * -1\n",
    "valores_rmse_rl"
   ]
  },
  {
   "cell_type": "code",
   "execution_count": 37,
   "id": "68189cb4-d44d-4197-9b3b-96302d569367",
   "metadata": {
    "jupyter": {
     "outputs_hidden": false,
     "source_hidden": false
    },
    "microsoft": {
     "language": "python",
     "language_group": "synapse_pyspark"
    },
    "nteract": {
     "transient": {
      "deleting": false
     }
    }
   },
   "outputs": [
    {
     "data": {
      "application/vnd.livy.statement-meta+json": {
       "execution_finish_time": "2024-05-26T17:40:48.5970314Z",
       "execution_start_time": "2024-05-26T17:40:48.3276043Z",
       "livy_statement_state": "available",
       "parent_msg_id": "b48fd1f2-f672-4d27-b8cc-1cc507fdab0d",
       "queued_time": "2024-05-26T17:39:49.4526839Z",
       "session_id": "7a5450d8-69d2-4a57-abca-aa777cd97915",
       "session_start_time": null,
       "spark_pool": null,
       "state": "finished",
       "statement_id": 42,
       "statement_ids": [
        42
       ]
      },
      "text/plain": [
       "StatementMeta(, 7a5450d8-69d2-4a57-abca-aa777cd97915, 42, Finished, Available)"
      ]
     },
     "metadata": {},
     "output_type": "display_data"
    },
    {
     "data": {
      "text/plain": [
       "6133.0839262055"
      ]
     },
     "execution_count": 125,
     "metadata": {},
     "output_type": "execute_result"
    }
   ],
   "source": [
    "# Erro médio\n",
    "media_rmse_rl = valores_rmse_rl.mean()\n",
    "media_rmse_rl"
   ]
  },
  {
   "cell_type": "markdown",
   "id": "ddcb052b-ee2b-4b78-ac44-cc5e00ca7478",
   "metadata": {
    "nteract": {
     "transient": {
      "deleting": false
     }
    }
   },
   "source": [
    "### Árvore de Regressão"
   ]
  },
  {
   "cell_type": "code",
   "execution_count": 38,
   "id": "f9aa72f8-a00b-4a41-ac35-ae6ba86b2d20",
   "metadata": {
    "jupyter": {
     "outputs_hidden": false,
     "source_hidden": false
    },
    "microsoft": {
     "language": "python",
     "language_group": "synapse_pyspark"
    },
    "nteract": {
     "transient": {
      "deleting": false
     }
    }
   },
   "outputs": [
    {
     "data": {
      "application/vnd.livy.statement-meta+json": {
       "execution_finish_time": "2024-05-26T17:40:49.2870174Z",
       "execution_start_time": "2024-05-26T17:40:49.0462814Z",
       "livy_statement_state": "available",
       "parent_msg_id": "e1704468-6636-4f78-8947-20d3bfb2df62",
       "queued_time": "2024-05-26T17:39:49.7132214Z",
       "session_id": "7a5450d8-69d2-4a57-abca-aa777cd97915",
       "session_start_time": null,
       "spark_pool": null,
       "state": "finished",
       "statement_id": 43,
       "statement_ids": [
        43
       ]
      },
      "text/plain": [
       "StatementMeta(, 7a5450d8-69d2-4a57-abca-aa777cd97915, 43, Finished, Available)"
      ]
     },
     "metadata": {},
     "output_type": "display_data"
    },
    {
     "data": {
      "text/plain": [
       "array([-6895.29937477, -7528.00886544, -6572.98449571, -7414.65868   ,\n",
       "       -6940.2394958 , -5619.08169613, -6978.56817088, -6965.94448217,\n",
       "       -6644.66193768, -5922.46108072])"
      ]
     },
     "execution_count": 128,
     "metadata": {},
     "output_type": "execute_result"
    }
   ],
   "source": [
    "from sklearn.tree import DecisionTreeRegressor\n",
    "\n",
    "arvore_regressao = DecisionTreeRegressor()\n",
    "\n",
    "# Vamos treinar utilizando cross validation (sempre!!)\n",
    "valores_rmse_arvore = cross_val_score(\n",
    "                            estimator = arvore_regressao\n",
    "                            , X = X_treino\n",
    "                            , y = y_treino\n",
    "                            , cv = 10 # cross validation\n",
    "                            , scoring = 'neg_root_mean_squared_error'\n",
    ")\n",
    "\n",
    "valores_rmse_arvore"
   ]
  },
  {
   "cell_type": "code",
   "execution_count": 39,
   "id": "aadd4a57-b682-49ad-9a82-9e84c8c16550",
   "metadata": {
    "jupyter": {
     "outputs_hidden": false,
     "source_hidden": false
    },
    "microsoft": {
     "language": "python",
     "language_group": "synapse_pyspark"
    },
    "nteract": {
     "transient": {
      "deleting": false
     }
    }
   },
   "outputs": [
    {
     "data": {
      "application/vnd.livy.statement-meta+json": {
       "execution_finish_time": "2024-05-26T17:40:50.030379Z",
       "execution_start_time": "2024-05-26T17:40:49.7556333Z",
       "livy_statement_state": "available",
       "parent_msg_id": "6ee70a19-42a6-4482-b349-5e34ce337622",
       "queued_time": "2024-05-26T17:39:50.0307952Z",
       "session_id": "7a5450d8-69d2-4a57-abca-aa777cd97915",
       "session_start_time": null,
       "spark_pool": null,
       "state": "finished",
       "statement_id": 44,
       "statement_ids": [
        44
       ]
      },
      "text/plain": [
       "StatementMeta(, 7a5450d8-69d2-4a57-abca-aa777cd97915, 44, Finished, Available)"
      ]
     },
     "metadata": {},
     "output_type": "display_data"
    },
    {
     "data": {
      "text/plain": [
       "array([6895.29937477, 7528.00886544, 6572.98449571, 7414.65868   ,\n",
       "       6940.2394958 , 5619.08169613, 6978.56817088, 6965.94448217,\n",
       "       6644.66193768, 5922.46108072])"
      ]
     },
     "execution_count": 131,
     "metadata": {},
     "output_type": "execute_result"
    }
   ],
   "source": [
    "# Transformando os erros de predição para valores positivos\n",
    "valores_rmse_arvore = valores_rmse_arvore * -1\n",
    "valores_rmse_arvore"
   ]
  },
  {
   "cell_type": "code",
   "execution_count": 40,
   "id": "6753c295-29a0-4afd-bb0d-907cf1603dd0",
   "metadata": {
    "jupyter": {
     "outputs_hidden": false,
     "source_hidden": false
    },
    "microsoft": {
     "language": "python",
     "language_group": "synapse_pyspark"
    },
    "nteract": {
     "transient": {
      "deleting": false
     }
    }
   },
   "outputs": [
    {
     "data": {
      "application/vnd.livy.statement-meta+json": {
       "execution_finish_time": "2024-05-26T17:40:50.7822009Z",
       "execution_start_time": "2024-05-26T17:40:50.5130251Z",
       "livy_statement_state": "available",
       "parent_msg_id": "9278c679-00fb-4057-be4c-3b4d15a39004",
       "queued_time": "2024-05-26T17:39:50.2929753Z",
       "session_id": "7a5450d8-69d2-4a57-abca-aa777cd97915",
       "session_start_time": null,
       "spark_pool": null,
       "state": "finished",
       "statement_id": 45,
       "statement_ids": [
        45
       ]
      },
      "text/plain": [
       "StatementMeta(, 7a5450d8-69d2-4a57-abca-aa777cd97915, 45, Finished, Available)"
      ]
     },
     "metadata": {},
     "output_type": "display_data"
    },
    {
     "data": {
      "text/plain": [
       "6133.0839262055"
      ]
     },
     "execution_count": 134,
     "metadata": {},
     "output_type": "execute_result"
    }
   ],
   "source": [
    "media_rmse_arvore = valores_rmse_rl.mean()\n",
    "media_rmse_arvore"
   ]
  },
  {
   "cell_type": "markdown",
   "id": "2b5f3748-25f8-4b03-b26d-efa3a0d2bf8c",
   "metadata": {
    "nteract": {
     "transient": {
      "deleting": false
     }
    }
   },
   "source": [
    "Considerando a média dos erros, o modelo de regressão linear foi melhor que o modelo de arvore de regressão."
   ]
  },
  {
   "cell_type": "markdown",
   "id": "84008d79-a65d-4aa0-a5f5-813011475cbe",
   "metadata": {
    "nteract": {
     "transient": {
      "deleting": false
     }
    }
   },
   "source": [
    "#### E se retirarmos as colunas de região. Na análise de correlação elas não mostraram muita influência na variável target."
   ]
  },
  {
   "cell_type": "code",
   "execution_count": 41,
   "id": "e8e0cc62-215e-416b-a94d-697b3e718a5e",
   "metadata": {
    "jupyter": {
     "outputs_hidden": false,
     "source_hidden": false
    },
    "microsoft": {
     "language": "python",
     "language_group": "synapse_pyspark"
    },
    "nteract": {
     "transient": {
      "deleting": false
     }
    }
   },
   "outputs": [
    {
     "data": {
      "application/vnd.livy.statement-meta+json": {
       "execution_finish_time": "2024-05-26T17:40:51.4985097Z",
       "execution_start_time": "2024-05-26T17:40:51.2347394Z",
       "livy_statement_state": "available",
       "parent_msg_id": "2471bf9e-d448-47cb-9ba2-c75b5cf25bcc",
       "queued_time": "2024-05-26T17:39:50.6330114Z",
       "session_id": "7a5450d8-69d2-4a57-abca-aa777cd97915",
       "session_start_time": null,
       "spark_pool": null,
       "state": "finished",
       "statement_id": 46,
       "statement_ids": [
        46
       ]
      },
      "text/plain": [
       "StatementMeta(, 7a5450d8-69d2-4a57-abca-aa777cd97915, 46, Finished, Available)"
      ]
     },
     "metadata": {},
     "output_type": "display_data"
    },
    {
     "data": {
      "text/plain": [
       "Index(['age', 'bmi', 'children', 'smoker', 'female', 'northwest', 'southeast',\n",
       "       'southwest'],\n",
       "      dtype='object')"
      ]
     },
     "execution_count": 137,
     "metadata": {},
     "output_type": "execute_result"
    }
   ],
   "source": [
    "X_treino.columns"
   ]
  },
  {
   "cell_type": "code",
   "execution_count": 42,
   "id": "b42e8b09-a775-4450-b9c2-25cffa4641d0",
   "metadata": {
    "jupyter": {
     "outputs_hidden": false,
     "source_hidden": false
    },
    "microsoft": {
     "language": "python",
     "language_group": "synapse_pyspark"
    },
    "nteract": {
     "transient": {
      "deleting": false
     }
    }
   },
   "outputs": [
    {
     "data": {
      "application/vnd.livy.statement-meta+json": {
       "execution_finish_time": "2024-05-26T17:40:53.2452474Z",
       "execution_start_time": "2024-05-26T17:40:51.9602625Z",
       "livy_statement_state": "available",
       "parent_msg_id": "6bd0dcba-2027-450c-a2c8-f4d20811111a",
       "queued_time": "2024-05-26T17:39:51.0967557Z",
       "session_id": "7a5450d8-69d2-4a57-abca-aa777cd97915",
       "session_start_time": null,
       "spark_pool": null,
       "state": "finished",
       "statement_id": 47,
       "statement_ids": [
        47
       ]
      },
      "text/plain": [
       "StatementMeta(, 7a5450d8-69d2-4a57-abca-aa777cd97915, 47, Finished, Available)"
      ]
     },
     "metadata": {},
     "output_type": "display_data"
    },
    {
     "data": {
      "text/plain": [
       "6121.545062597131"
      ]
     },
     "execution_count": 140,
     "metadata": {},
     "output_type": "execute_result"
    }
   ],
   "source": [
    "colunas_regiao = ['northwest', 'southeast', 'southwest']\n",
    "\n",
    "# Vamos treinar utilizando cross validation (sempre!!)\n",
    "valores_rmse_rl_sem_regiao = cross_val_score(\n",
    "                            estimator = regressao_linear\n",
    "                            , X = X_treino.drop(colunas_regiao, axis = 1)\n",
    "                            , y = y_treino\n",
    "                            , cv = 10 # cross validation\n",
    "                            , scoring = 'neg_root_mean_squared_error'\n",
    ")\n",
    "\n",
    "valores_rmse_rl_sem_regiao.mean() * -1"
   ]
  },
  {
   "cell_type": "code",
   "execution_count": 43,
   "id": "ed28450c-b7be-4e2c-9bff-b613f2e1134b",
   "metadata": {
    "jupyter": {
     "outputs_hidden": false,
     "source_hidden": false
    },
    "microsoft": {
     "language": "python",
     "language_group": "synapse_pyspark"
    },
    "nteract": {
     "transient": {
      "deleting": false
     }
    }
   },
   "outputs": [
    {
     "data": {
      "application/vnd.livy.statement-meta+json": {
       "execution_finish_time": "2024-05-26T17:40:53.9433283Z",
       "execution_start_time": "2024-05-26T17:40:53.7042044Z",
       "livy_statement_state": "available",
       "parent_msg_id": "4848668f-e0e8-441a-b776-5f952a78aadc",
       "queued_time": "2024-05-26T17:39:51.3657049Z",
       "session_id": "7a5450d8-69d2-4a57-abca-aa777cd97915",
       "session_start_time": null,
       "spark_pool": null,
       "state": "finished",
       "statement_id": 48,
       "statement_ids": [
        48
       ]
      },
      "text/plain": [
       "StatementMeta(, 7a5450d8-69d2-4a57-abca-aa777cd97915, 48, Finished, Available)"
      ]
     },
     "metadata": {},
     "output_type": "display_data"
    },
    {
     "data": {
      "text/plain": [
       "6840.223812084881"
      ]
     },
     "execution_count": 143,
     "metadata": {},
     "output_type": "execute_result"
    }
   ],
   "source": [
    "#Arvore\n",
    "# Vamos treinar utilizando cross validation (sempre!!)\n",
    "valores_rmse_arvore_sem_regiao = cross_val_score(\n",
    "                            estimator = arvore_regressao\n",
    "                            , X = X_treino.drop(colunas_regiao, axis = 1)\n",
    "                            , y = y_treino\n",
    "                            , cv = 10 # cross validation\n",
    "                            , scoring = 'neg_root_mean_squared_error'\n",
    ")\n",
    "\n",
    "valores_rmse_arvore_sem_regiao.mean() * -1"
   ]
  },
  {
   "cell_type": "code",
   "execution_count": 44,
   "id": "42e49921-f448-43ac-a57a-8fb6e15c45e4",
   "metadata": {
    "jupyter": {
     "outputs_hidden": false,
     "source_hidden": false
    },
    "microsoft": {
     "language": "python",
     "language_group": "synapse_pyspark"
    },
    "nteract": {
     "transient": {
      "deleting": false
     }
    }
   },
   "outputs": [
    {
     "data": {
      "application/vnd.livy.statement-meta+json": {
       "execution_finish_time": "2024-05-26T17:40:55.2480377Z",
       "execution_start_time": "2024-05-26T17:40:54.388128Z",
       "livy_statement_state": "available",
       "parent_msg_id": "8e824fa8-43d9-432a-b4ec-509a2f2be6ee",
       "queued_time": "2024-05-26T17:39:51.743699Z",
       "session_id": "7a5450d8-69d2-4a57-abca-aa777cd97915",
       "session_start_time": null,
       "spark_pool": null,
       "state": "finished",
       "statement_id": 49,
       "statement_ids": [
        49
       ]
      },
      "text/plain": [
       "StatementMeta(, 7a5450d8-69d2-4a57-abca-aa777cd97915, 49, Finished, Available)"
      ]
     },
     "metadata": {},
     "output_type": "display_data"
    },
    {
     "data": {
      "text/plain": [
       "Text(0.5, 1.0, 'Comparação RMSE')"
      ]
     },
     "execution_count": 146,
     "metadata": {},
     "output_type": "execute_result"
    },
    {
     "data": {
      "image/png": "[encoded data removed]",
      "text/plain": [
       "<Figure size 640x480 with 1 Axes>"
      ]
     },
     "metadata": {},
     "output_type": "display_data"
    }
   ],
   "source": [
    "rmse = pd.DataFrame({'regressao_linear': valores_rmse_rl_sem_regiao*-1, 'arvore_regressao': valores_rmse_arvore})\n",
    "\n",
    "sns.boxplot(data=rmse).set_title('Comparação RMSE')"
   ]
  },
  {
   "cell_type": "markdown",
   "id": "b7401683-a16d-4f32-a08b-626bbd7fe850",
   "metadata": {
    "nteract": {
     "transient": {
      "deleting": false
     }
    }
   },
   "source": [
    "Regressão linear apresenta o erro menos distribuído que o da árvore de regressão e com valores menores. Pode ser necessário analisar estatisticamente para garantir que isso é verdadeiro, pois as curvas ainda se sobrepoe em alguns valores."
   ]
  },
  {
   "cell_type": "markdown",
   "id": "5997bebd-41ea-4fb0-aef6-87453c096d66",
   "metadata": {
    "nteract": {
     "transient": {
      "deleting": false
     }
    }
   },
   "source": [
    "### Modelo Campeão - Regressão Linear sem regiões.\n",
    "\n",
    "Agora vamos treinar o modelo em toda base de treinamento."
   ]
  },
  {
   "cell_type": "code",
   "execution_count": 45,
   "id": "b71bc192-5b04-4520-aeec-dd87895469e6",
   "metadata": {
    "jupyter": {
     "outputs_hidden": false,
     "source_hidden": false
    },
    "microsoft": {
     "language": "python",
     "language_group": "synapse_pyspark"
    },
    "nteract": {
     "transient": {
      "deleting": false
     }
    }
   },
   "outputs": [
    {
     "data": {
      "application/vnd.livy.statement-meta+json": {
       "execution_finish_time": "2024-05-26T17:41:14.5111707Z",
       "execution_start_time": "2024-05-26T17:40:55.7058679Z",
       "livy_statement_state": "available",
       "parent_msg_id": "05048439-f130-4033-982f-89e938188c2f",
       "queued_time": "2024-05-26T17:39:52.0232744Z",
       "session_id": "7a5450d8-69d2-4a57-abca-aa777cd97915",
       "session_start_time": null,
       "spark_pool": null,
       "state": "finished",
       "statement_id": 50,
       "statement_ids": [
        50
       ]
      },
      "text/plain": [
       "StatementMeta(, 7a5450d8-69d2-4a57-abca-aa777cd97915, 50, Finished, Available)"
      ]
     },
     "metadata": {},
     "output_type": "display_data"
    },
    {
     "name": "stderr",
     "output_type": "stream",
     "text": [
      "2024-05-26:17:41:00,300 WARNING  [tracking_store.py:153] log_inputs not supported\n"
     ]
    },
    {
     "data": {
      "application/vnd.mlflow.run-widget+json": {
       "data": {
        "metrics": {
         "training_mean_absolute_error": 4210.693655802025,
         "training_mean_squared_error": 37369582.735319406,
         "training_r2_score": 0.7410888590280913,
         "training_root_mean_squared_error": 6113.066557409579,
         "training_score": 0.7410888590280913
        },
        "params": {
         "copy_X": "True",
         "fit_intercept": "True",
         "n_jobs": "None",
         "positive": "False"
        },
        "tags": {
         "estimator_class": "sklearn.linear_model._base.LinearRegression",
         "estimator_name": "LinearRegression",
         "mlflow.autologging": "sklearn",
         "mlflow.rootRunId": "a8adaae0-c850-40f1-97d0-e11ab1be4eae",
         "mlflow.runName": "silver_rabbit_l3yg0q1r",
         "mlflow.user": "4b3a56ea-6f42-450e-b7c3-fb2932c7ac32",
         "synapseml.experiment.artifactId": "eea575f6-5927-47f2-a176-fe50485b41e9",
         "synapseml.experimentName": "xperium-regressao-scikitlearn",
         "synapseml.livy.id": "7a5450d8-69d2-4a57-abca-aa777cd97915",
         "synapseml.notebook.artifactId": "300ec07d-5075-4074-b963-4263df18a073",
         "synapseml.user.id": "bee2a360-1ca6-4554-9a64-7efdd181640c",
         "synapseml.user.name": "Alan de Lima Augustin"
        }
       },
       "info": {
        "artifact_uri": "sds://onelakebrazilsouth.pbidedicated.windows.net/e5ceae3a-60a1-4152-a54a-aabdd8a401c9/eea575f6-5927-47f2-a176-fe50485b41e9/a8adaae0-c850-40f1-97d0-e11ab1be4eae/artifacts",
        "end_time": 1716745272,
        "experiment_id": "7bef9807-eced-45fb-ba7d-18b3e773ada8",
        "lifecycle_stage": "active",
        "run_id": "a8adaae0-c850-40f1-97d0-e11ab1be4eae",
        "run_name": "",
        "run_uuid": "a8adaae0-c850-40f1-97d0-e11ab1be4eae",
        "start_time": 1716745258,
        "status": "FINISHED",
        "user_id": "7ebfac85-3ebb-440f-a743-e52052051f6a"
       },
       "inputs": {
        "dataset_inputs": []
       }
      }
     },
     "metadata": {},
     "output_type": "display_data"
    },
    {
     "data": {
      "text/html": [
       "<style>#sk-container-id-2 {color: black;}#sk-container-id-2 pre{padding: 0;}#sk-container-id-2 div.sk-toggleable {background-color: white;}#sk-container-id-2 label.sk-toggleable__label {cursor: pointer;display: block;width: 100%;margin-bottom: 0;padding: 0.3em;box-sizing: border-box;text-align: center;}#sk-container-id-2 label.sk-toggleable__label-arrow:before {content: \"▸\";float: left;margin-right: 0.25em;color: #696969;}#sk-container-id-2 label.sk-toggleable__label-arrow:hover:before {color: black;}#sk-container-id-2 div.sk-estimator:hover label.sk-toggleable__label-arrow:before {color: black;}#sk-container-id-2 div.sk-toggleable__content {max-height: 0;max-width: 0;overflow: hidden;text-align: left;background-color: #f0f8ff;}#sk-container-id-2 div.sk-toggleable__content pre {margin: 0.2em;color: black;border-radius: 0.25em;background-color: #f0f8ff;}#sk-container-id-2 input.sk-toggleable__control:checked~div.sk-toggleable__content {max-height: 200px;max-width: 100%;overflow: auto;}#sk-container-id-2 input.sk-toggleable__control:checked~label.sk-toggleable__label-arrow:before {content: \"▾\";}#sk-container-id-2 div.sk-estimator input.sk-toggleable__control:checked~label.sk-toggleable__label {background-color: #d4ebff;}#sk-container-id-2 div.sk-label input.sk-toggleable__control:checked~label.sk-toggleable__label {background-color: #d4ebff;}#sk-container-id-2 input.sk-hidden--visually {border: 0;clip: rect(1px 1px 1px 1px);clip: rect(1px, 1px, 1px, 1px);height: 1px;margin: -1px;overflow: hidden;padding: 0;position: absolute;width: 1px;}#sk-container-id-2 div.sk-estimator {font-family: monospace;background-color: #f0f8ff;border: 1px dotted black;border-radius: 0.25em;box-sizing: border-box;margin-bottom: 0.5em;}#sk-container-id-2 div.sk-estimator:hover {background-color: #d4ebff;}#sk-container-id-2 div.sk-parallel-item::after {content: \"\";width: 100%;border-bottom: 1px solid gray;flex-grow: 1;}#sk-container-id-2 div.sk-label:hover label.sk-toggleable__label {background-color: #d4ebff;}#sk-container-id-2 div.sk-serial::before {content: \"\";position: absolute;border-left: 1px solid gray;box-sizing: border-box;top: 0;bottom: 0;left: 50%;z-index: 0;}#sk-container-id-2 div.sk-serial {display: flex;flex-direction: column;align-items: center;background-color: white;padding-right: 0.2em;padding-left: 0.2em;position: relative;}#sk-container-id-2 div.sk-item {position: relative;z-index: 1;}#sk-container-id-2 div.sk-parallel {display: flex;align-items: stretch;justify-content: center;background-color: white;position: relative;}#sk-container-id-2 div.sk-item::before, #sk-container-id-2 div.sk-parallel-item::before {content: \"\";position: absolute;border-left: 1px solid gray;box-sizing: border-box;top: 0;bottom: 0;left: 50%;z-index: -1;}#sk-container-id-2 div.sk-parallel-item {display: flex;flex-direction: column;z-index: 1;position: relative;background-color: white;}#sk-container-id-2 div.sk-parallel-item:first-child::after {align-self: flex-end;width: 50%;}#sk-container-id-2 div.sk-parallel-item:last-child::after {align-self: flex-start;width: 50%;}#sk-container-id-2 div.sk-parallel-item:only-child::after {width: 0;}#sk-container-id-2 div.sk-dashed-wrapped {border: 1px dashed gray;margin: 0 0.4em 0.5em 0.4em;box-sizing: border-box;padding-bottom: 0.4em;background-color: white;}#sk-container-id-2 div.sk-label label {font-family: monospace;font-weight: bold;display: inline-block;line-height: 1.2em;}#sk-container-id-2 div.sk-label-container {text-align: center;}#sk-container-id-2 div.sk-container {/* jupyter's `normalize.less` sets `[hidden] { display: none; }` but bootstrap.min.css set `[hidden] { display: none !important; }` so we also need the `!important` here to be able to override the default hidden behavior on the sphinx rendered scikit-learn.org. See: https://github.com/scikit-learn/scikit-learn/issues/21755 */display: inline-block !important;position: relative;}#sk-container-id-2 div.sk-text-repr-fallback {display: none;}</style><div id=\"sk-container-id-2\" class=\"sk-top-container\"><div class=\"sk-text-repr-fallback\"><pre>LinearRegression()</pre><b>In a Jupyter environment, please rerun this cell to show the HTML representation or trust the notebook. <br />On GitHub, the HTML representation is unable to render, please try loading this page with nbviewer.org.</b></div><div class=\"sk-container\" hidden><div class=\"sk-item\"><div class=\"sk-estimator sk-toggleable\"><input class=\"sk-toggleable__control sk-hidden--visually\" id=\"sk-estimator-id-2\" type=\"checkbox\" checked><label for=\"sk-estimator-id-2\" class=\"sk-toggleable__label sk-toggleable__label-arrow\">LinearRegression</label><div class=\"sk-toggleable__content\"><pre>LinearRegression()</pre></div></div></div></div></div>"
      ],
      "text/plain": [
       "LinearRegression()"
      ]
     },
     "execution_count": 149,
     "metadata": {},
     "output_type": "execute_result"
    }
   ],
   "source": [
    "regressao_linear.fit(X_treino.drop(colunas_regiao, axis = 1), y_treino)"
   ]
  },
  {
   "cell_type": "code",
   "execution_count": 46,
   "id": "4f458d41-6f94-4cf5-b1d1-b78590b3be76",
   "metadata": {
    "jupyter": {
     "outputs_hidden": false,
     "source_hidden": false
    },
    "microsoft": {
     "language": "python",
     "language_group": "synapse_pyspark"
    },
    "nteract": {
     "transient": {
      "deleting": false
     }
    }
   },
   "outputs": [
    {
     "data": {
      "application/vnd.livy.statement-meta+json": {
       "execution_finish_time": "2024-05-26T17:41:15.6134518Z",
       "execution_start_time": "2024-05-26T17:41:15.3220003Z",
       "livy_statement_state": "available",
       "parent_msg_id": "dab71639-4aa7-43a4-ac20-bb2fa3805c3b",
       "queued_time": "2024-05-26T17:39:52.2831956Z",
       "session_id": "7a5450d8-69d2-4a57-abca-aa777cd97915",
       "session_start_time": null,
       "spark_pool": null,
       "state": "finished",
       "statement_id": 51,
       "statement_ids": [
        51
       ]
      },
      "text/plain": [
       "StatementMeta(, 7a5450d8-69d2-4a57-abca-aa777cd97915, 51, Finished, Available)"
      ]
     },
     "metadata": {},
     "output_type": "display_data"
    },
    {
     "data": {
      "text/plain": [
       "array([[1.18251723e+04, 1.21744207e+04, 2.13627215e+03, 2.36539033e+04,\n",
       "        7.95178837e+00]])"
      ]
     },
     "execution_count": 152,
     "metadata": {},
     "output_type": "execute_result"
    }
   ],
   "source": [
    "regressao_linear.coef_"
   ]
  },
  {
   "cell_type": "code",
   "execution_count": 47,
   "id": "9a9d15e9-3deb-4b0e-a46a-03c07ec3a6f8",
   "metadata": {
    "jupyter": {
     "outputs_hidden": false,
     "source_hidden": false
    },
    "microsoft": {
     "language": "python",
     "language_group": "synapse_pyspark"
    },
    "nteract": {
     "transient": {
      "deleting": false
     }
    }
   },
   "outputs": [
    {
     "data": {
      "application/vnd.livy.statement-meta+json": {
       "execution_finish_time": "2024-05-26T17:41:16.3927553Z",
       "execution_start_time": "2024-05-26T17:41:16.1351475Z",
       "livy_statement_state": "available",
       "parent_msg_id": "5877f720-e175-4bb0-8bab-28e02afc4cee",
       "queued_time": "2024-05-26T17:39:52.5463191Z",
       "session_id": "7a5450d8-69d2-4a57-abca-aa777cd97915",
       "session_start_time": null,
       "spark_pool": null,
       "state": "finished",
       "statement_id": 52,
       "statement_ids": [
        52
       ]
      },
      "text/plain": [
       "StatementMeta(, 7a5450d8-69d2-4a57-abca-aa777cd97915, 52, Finished, Available)"
      ]
     },
     "metadata": {},
     "output_type": "display_data"
    },
    {
     "data": {
      "text/html": [
       "<div>\n",
       "<style scoped>\n",
       "    .dataframe tbody tr th:only-of-type {\n",
       "        vertical-align: middle;\n",
       "    }\n",
       "\n",
       "    .dataframe tbody tr th {\n",
       "        vertical-align: top;\n",
       "    }\n",
       "\n",
       "    .dataframe thead th {\n",
       "        text-align: right;\n",
       "    }\n",
       "</style>\n",
       "<table border=\"1\" class=\"dataframe\">\n",
       "  <thead>\n",
       "    <tr style=\"text-align: right;\">\n",
       "      <th></th>\n",
       "      <th>age</th>\n",
       "      <th>bmi</th>\n",
       "      <th>children</th>\n",
       "      <th>smoker</th>\n",
       "      <th>female</th>\n",
       "    </tr>\n",
       "  </thead>\n",
       "  <tbody>\n",
       "    <tr>\n",
       "      <th>0</th>\n",
       "      <td>11825.17</td>\n",
       "      <td>12174.42</td>\n",
       "      <td>2136.27</td>\n",
       "      <td>23653.90</td>\n",
       "      <td>7.95</td>\n",
       "    </tr>\n",
       "  </tbody>\n",
       "</table>\n",
       "</div>"
      ],
      "text/plain": [
       "       age      bmi  children   smoker  female\n",
       "0 11825.17 12174.42   2136.27 23653.90    7.95"
      ]
     },
     "execution_count": 155,
     "metadata": {},
     "output_type": "execute_result"
    }
   ],
   "source": [
    "df_coeficientes = pd.DataFrame(regressao_linear.coef_)\n",
    "df_coeficientes.columns = regressao_linear.feature_names_in_\n",
    "df_coeficientes\n",
    "\n",
    "# esses são os coeficientes da regressão linear. A cada um ano a mais de idade o custo do seguro aumenta 11825.17.\n",
    "# O mesmo vale para os outros coeficientes"
   ]
  },
  {
   "cell_type": "markdown",
   "id": "9428c11a-23de-4fe0-a330-2b27f8768569",
   "metadata": {
    "nteract": {
     "transient": {
      "deleting": false
     }
    }
   },
   "source": [
    "Podemos calcular o p-valor dos coeficientes (significancia estatistica) dos coeficientes de cada regressão usando o statsmodels"
   ]
  },
  {
   "cell_type": "code",
   "execution_count": 48,
   "id": "d3aba6bf-2544-4043-a0cc-ea0d5a1e3904",
   "metadata": {
    "jupyter": {
     "outputs_hidden": false,
     "source_hidden": false
    },
    "microsoft": {
     "language": "python",
     "language_group": "synapse_pyspark"
    },
    "nteract": {
     "transient": {
      "deleting": false
     }
    }
   },
   "outputs": [
    {
     "data": {
      "application/vnd.livy.statement-meta+json": {
       "execution_finish_time": "2024-05-26T17:41:17.0852013Z",
       "execution_start_time": "2024-05-26T17:41:16.8489964Z",
       "livy_statement_state": "available",
       "parent_msg_id": "023116bc-12bf-4703-bcdf-a1dce00ca51d",
       "queued_time": "2024-05-26T17:39:52.7720947Z",
       "session_id": "7a5450d8-69d2-4a57-abca-aa777cd97915",
       "session_start_time": null,
       "spark_pool": null,
       "state": "finished",
       "statement_id": 53,
       "statement_ids": [
        53
       ]
      },
      "text/plain": [
       "StatementMeta(, 7a5450d8-69d2-4a57-abca-aa777cd97915, 53, Finished, Available)"
      ]
     },
     "metadata": {},
     "output_type": "display_data"
    }
   ],
   "source": [
    "import statsmodels.api as sm"
   ]
  },
  {
   "cell_type": "code",
   "execution_count": 49,
   "id": "7cc8abf3-d515-42d5-bc0b-ea90e7985c5d",
   "metadata": {
    "jupyter": {
     "outputs_hidden": false,
     "source_hidden": false
    },
    "microsoft": {
     "language": "python",
     "language_group": "synapse_pyspark"
    },
    "nteract": {
     "transient": {
      "deleting": false
     }
    }
   },
   "outputs": [
    {
     "data": {
      "application/vnd.livy.statement-meta+json": {
       "execution_finish_time": "2024-05-26T17:41:23.9535219Z",
       "execution_start_time": "2024-05-26T17:41:17.5861226Z",
       "livy_statement_state": "available",
       "parent_msg_id": "acf6d66b-8f21-4900-970d-7c5dfde2472c",
       "queued_time": "2024-05-26T17:39:53.0259555Z",
       "session_id": "7a5450d8-69d2-4a57-abca-aa777cd97915",
       "session_start_time": null,
       "spark_pool": null,
       "state": "finished",
       "statement_id": 54,
       "statement_ids": [
        54
       ]
      },
      "text/plain": [
       "StatementMeta(, 7a5450d8-69d2-4a57-abca-aa777cd97915, 54, Finished, Available)"
      ]
     },
     "metadata": {},
     "output_type": "display_data"
    },
    {
     "data": {
      "application/vnd.mlflow.run-widget+json": {
       "data": {
        "metrics": {
         "aic": 21717.305018747484,
         "bic": 21742.182088384765,
         "centered_tss": 154436975468.46814,
         "condition_number": 4.585433933476752,
         "df_model": 5,
         "df_resid": 1065,
         "ess": 304516468837.29535,
         "f_pvalue": 0,
         "fvalue": 1601.2588178466985,
         "llf": -10853.652509373742,
         "mse_model": 60903293767.45907,
         "mse_resid": 38034634.431777306,
         "mse_total": 322451733.1842413,
         "rsquared": 0.8825966847151363,
         "rsquared_adj": 0.8820454954414985,
         "scale": 38034634.431777306,
         "ssr": 40506885669.84283,
         "uncentered_tss": 345023354507.1382
        },
        "params": {
         "cov_kwds": "None",
         "cov_type": "nonrobust",
         "kwargs": "<class 'inspect._empty'>",
         "method": "pinv",
         "use_t": "None"
        },
        "tags": {
         "mlflow.autologging": "statsmodels",
         "mlflow.rootRunId": "cbd75575-b058-43aa-9b1d-8d4f1511f4a0",
         "mlflow.runName": "icy_fly_8z1520z9",
         "mlflow.user": "4b3a56ea-6f42-450e-b7c3-fb2932c7ac32",
         "synapseml.experiment.artifactId": "eea575f6-5927-47f2-a176-fe50485b41e9",
         "synapseml.experimentName": "xperium-regressao-scikitlearn",
         "synapseml.livy.id": "7a5450d8-69d2-4a57-abca-aa777cd97915",
         "synapseml.notebook.artifactId": "300ec07d-5075-4074-b963-4263df18a073",
         "synapseml.user.id": "bee2a360-1ca6-4554-9a64-7efdd181640c",
         "synapseml.user.name": "Alan de Lima Augustin"
        }
       },
       "info": {
        "artifact_uri": "sds://onelakebrazilsouth.pbidedicated.windows.net/e5ceae3a-60a1-4152-a54a-aabdd8a401c9/eea575f6-5927-47f2-a176-fe50485b41e9/cbd75575-b058-43aa-9b1d-8d4f1511f4a0/artifacts",
        "end_time": 1716745282,
        "experiment_id": "7bef9807-eced-45fb-ba7d-18b3e773ada8",
        "lifecycle_stage": "active",
        "run_id": "cbd75575-b058-43aa-9b1d-8d4f1511f4a0",
        "run_name": "",
        "run_uuid": "cbd75575-b058-43aa-9b1d-8d4f1511f4a0",
        "start_time": 1716745278,
        "status": "FINISHED",
        "user_id": "7ebfac85-3ebb-440f-a743-e52052051f6a"
       },
       "inputs": {
        "dataset_inputs": []
       }
      }
     },
     "metadata": {},
     "output_type": "display_data"
    },
    {
     "name": "stdout",
     "output_type": "stream",
     "text": [
      "                                 OLS Regression Results                                \n",
      "=======================================================================================\n",
      "Dep. Variable:                charges   R-squared (uncentered):                   0.883\n",
      "Model:                            OLS   Adj. R-squared (uncentered):              0.882\n",
      "Method:                 Least Squares   F-statistic:                              1601.\n",
      "Date:                Sun, 26 May 2024   Prob (F-statistic):                        0.00\n",
      "Time:                        17:41:22   Log-Likelihood:                         -10854.\n",
      "No. Observations:                1070   AIC:                                  2.172e+04\n",
      "Df Residuals:                    1065   BIC:                                  2.174e+04\n",
      "Df Model:                           5                                                  \n",
      "Covariance Type:            nonrobust                                                  \n",
      "==============================================================================\n",
      "                 coef    std err          t      P>|t|      [0.025      0.975]\n",
      "------------------------------------------------------------------------------\n",
      "age         1.097e+04    578.381     18.964      0.000    9833.403    1.21e+04\n",
      "bmi         9137.4596    832.386     10.977      0.000    7504.156    1.08e+04\n",
      "children    1377.8496    749.867      1.837      0.066     -93.534    2849.233\n",
      "smoker      2.331e+04    459.161     50.770      0.000    2.24e+04    2.42e+04\n",
      "female      -448.4098    357.600     -1.254      0.210   -1150.091     253.271\n",
      "==============================================================================\n",
      "Omnibus:                      259.492   Durbin-Watson:                   2.074\n",
      "Prob(Omnibus):                  0.000   Jarque-Bera (JB):              634.768\n",
      "Skew:                           1.286   Prob(JB):                    1.45e-138\n",
      "Kurtosis:                       5.761   Cond. No.                         4.59\n",
      "==============================================================================\n",
      "\n",
      "Notes:\n",
      "[1] R² is computed without centering (uncentered) since the model does not contain a constant.\n",
      "[2] Standard Errors assume that the covariance matrix of the errors is correctly specified.\n"
     ]
    }
   ],
   "source": [
    "#Modelo OLS (Ordinary Least Squares)\n",
    "rl_statsmodels = sm.OLS(y_treino, X_treino.drop(colunas_regiao, axis = 1))\n",
    "resultado_fit = rl_statsmodels.fit()\n",
    "print(resultado_fit.summary())"
   ]
  },
  {
   "cell_type": "markdown",
   "id": "610cde0f-2e19-4522-808f-225fead73b47",
   "metadata": {
    "microsoft": {
     "language": "python",
     "language_group": "synapse_pyspark"
    },
    "nteract": {
     "transient": {
      "deleting": false
     }
    }
   },
   "source": [
    "Os coeficientes com p-valores < 0,05 são considerados válidos. As variáveis de crianças e sexo não são estatísticamente válidos, devemos ter cautela ao analisar seu impacto no preço."
   ]
  },
  {
   "cell_type": "markdown",
   "id": "0f33f8ef-a8e4-488a-9aa1-98a4c7aa1cca",
   "metadata": {
    "nteract": {
     "transient": {
      "deleting": false
     }
    }
   },
   "source": [
    "### Avaliando o modelo na base de teste"
   ]
  },
  {
   "cell_type": "code",
   "execution_count": 50,
   "id": "259453ff-28c4-4cff-8c53-d8281ff0e710",
   "metadata": {
    "jupyter": {
     "outputs_hidden": false,
     "source_hidden": false
    },
    "microsoft": {
     "language": "python",
     "language_group": "synapse_pyspark"
    },
    "nteract": {
     "transient": {
      "deleting": false
     }
    }
   },
   "outputs": [
    {
     "data": {
      "application/vnd.livy.statement-meta+json": {
       "execution_finish_time": "2024-05-26T17:41:24.6509234Z",
       "execution_start_time": "2024-05-26T17:41:24.4068937Z",
       "livy_statement_state": "available",
       "parent_msg_id": "38fc0cd1-c300-4161-be19-84885a9f6de4",
       "queued_time": "2024-05-26T17:39:53.2831022Z",
       "session_id": "7a5450d8-69d2-4a57-abca-aa777cd97915",
       "session_start_time": null,
       "spark_pool": null,
       "state": "finished",
       "statement_id": 55,
       "statement_ids": [
        55
       ]
      },
      "text/plain": [
       "StatementMeta(, 7a5450d8-69d2-4a57-abca-aa777cd97915, 55, Finished, Available)"
      ]
     },
     "metadata": {},
     "output_type": "display_data"
    },
    {
     "name": "stderr",
     "output_type": "stream",
     "text": [
      "2024-05-26:17:41:24,346 WARNING  [tracking_store.py:153] log_inputs not supported\n"
     ]
    },
    {
     "data": {
      "text/plain": [
       "array([[ 8554.81711589],\n",
       "       [ 6973.58746745],\n",
       "       [36798.60416104],\n",
       "       [ 9417.88282303],\n",
       "       [26871.68031081]])"
      ]
     },
     "execution_count": 164,
     "metadata": {},
     "output_type": "execute_result"
    }
   ],
   "source": [
    "# Ver estimadores sickit Learn\n",
    "# estimador é ajustado com fit()\n",
    "# estimador prediz com predict()\n",
    "precos_preditos = regressao_linear.predict(X_teste.drop(colunas_regiao, axis = 1))\n",
    "precos_preditos[:5]"
   ]
  },
  {
   "cell_type": "code",
   "execution_count": 51,
   "id": "4864b60c-f579-4146-bd75-b67f2e1ce357",
   "metadata": {
    "jupyter": {
     "outputs_hidden": false,
     "source_hidden": false
    },
    "microsoft": {
     "language": "python",
     "language_group": "synapse_pyspark"
    },
    "nteract": {
     "transient": {
      "deleting": false
     }
    }
   },
   "outputs": [
    {
     "data": {
      "application/vnd.livy.statement-meta+json": {
       "execution_finish_time": "2024-05-26T17:41:25.3955912Z",
       "execution_start_time": "2024-05-26T17:41:25.0902367Z",
       "livy_statement_state": "available",
       "parent_msg_id": "356a6e2e-a184-4bc3-b885-5ee93b379026",
       "queued_time": "2024-05-26T17:39:53.5458332Z",
       "session_id": "7a5450d8-69d2-4a57-abca-aa777cd97915",
       "session_start_time": null,
       "spark_pool": null,
       "state": "finished",
       "statement_id": 56,
       "statement_ids": [
        56
       ]
      },
      "text/plain": [
       "StatementMeta(, 7a5450d8-69d2-4a57-abca-aa777cd97915, 56, Finished, Available)"
      ]
     },
     "metadata": {},
     "output_type": "display_data"
    },
    {
     "data": {
      "text/plain": [
       "268"
      ]
     },
     "execution_count": 167,
     "metadata": {},
     "output_type": "execute_result"
    }
   ],
   "source": [
    "len(precos_preditos)"
   ]
  },
  {
   "cell_type": "code",
   "execution_count": 52,
   "id": "10b06a12-d801-46eb-85df-f614cf22469d",
   "metadata": {
    "jupyter": {
     "outputs_hidden": false,
     "source_hidden": false
    },
    "microsoft": {
     "language": "python",
     "language_group": "synapse_pyspark"
    },
    "nteract": {
     "transient": {
      "deleting": false
     }
    }
   },
   "outputs": [
    {
     "data": {
      "application/vnd.livy.statement-meta+json": {
       "execution_finish_time": "2024-05-26T17:41:26.0836388Z",
       "execution_start_time": "2024-05-26T17:41:25.8299096Z",
       "livy_statement_state": "available",
       "parent_msg_id": "67fbac7b-e4ca-47d6-bfee-0085c1ea90ca",
       "queued_time": "2024-05-26T17:39:53.830752Z",
       "session_id": "7a5450d8-69d2-4a57-abca-aa777cd97915",
       "session_start_time": null,
       "spark_pool": null,
       "state": "finished",
       "statement_id": 57,
       "statement_ids": [
        57
       ]
      },
      "text/plain": [
       "StatementMeta(, 7a5450d8-69d2-4a57-abca-aa777cd97915, 57, Finished, Available)"
      ]
     },
     "metadata": {},
     "output_type": "display_data"
    },
    {
     "data": {
      "text/html": [
       "<div>\n",
       "<style scoped>\n",
       "    .dataframe tbody tr th:only-of-type {\n",
       "        vertical-align: middle;\n",
       "    }\n",
       "\n",
       "    .dataframe tbody tr th {\n",
       "        vertical-align: top;\n",
       "    }\n",
       "\n",
       "    .dataframe thead th {\n",
       "        text-align: right;\n",
       "    }\n",
       "</style>\n",
       "<table border=\"1\" class=\"dataframe\">\n",
       "  <thead>\n",
       "    <tr style=\"text-align: right;\">\n",
       "      <th></th>\n",
       "      <th>charges</th>\n",
       "    </tr>\n",
       "  </thead>\n",
       "  <tbody>\n",
       "    <tr>\n",
       "      <th>764</th>\n",
       "      <td>9095.07</td>\n",
       "    </tr>\n",
       "    <tr>\n",
       "      <th>887</th>\n",
       "      <td>5272.18</td>\n",
       "    </tr>\n",
       "    <tr>\n",
       "      <th>890</th>\n",
       "      <td>29330.98</td>\n",
       "    </tr>\n",
       "    <tr>\n",
       "      <th>1293</th>\n",
       "      <td>9301.89</td>\n",
       "    </tr>\n",
       "    <tr>\n",
       "      <th>259</th>\n",
       "      <td>33750.29</td>\n",
       "    </tr>\n",
       "  </tbody>\n",
       "</table>\n",
       "</div>"
      ],
      "text/plain": [
       "      charges\n",
       "764   9095.07\n",
       "887   5272.18\n",
       "890  29330.98\n",
       "1293  9301.89\n",
       "259  33750.29"
      ]
     },
     "execution_count": 170,
     "metadata": {},
     "output_type": "execute_result"
    }
   ],
   "source": [
    "#Valores Reais\n",
    "y_teste.head()"
   ]
  },
  {
   "cell_type": "code",
   "execution_count": 53,
   "id": "5255faff-d6d3-4416-971d-b4a587b45d40",
   "metadata": {
    "jupyter": {
     "outputs_hidden": false,
     "source_hidden": false
    },
    "microsoft": {
     "language": "python",
     "language_group": "synapse_pyspark"
    },
    "nteract": {
     "transient": {
      "deleting": false
     }
    }
   },
   "outputs": [
    {
     "data": {
      "application/vnd.livy.statement-meta+json": {
       "execution_finish_time": "2024-05-26T17:41:26.7987766Z",
       "execution_start_time": "2024-05-26T17:41:26.5446216Z",
       "livy_statement_state": "available",
       "parent_msg_id": "bac08b17-6ff9-41b6-813f-a6d87fb080dd",
       "queued_time": "2024-05-26T17:39:54.1007468Z",
       "session_id": "7a5450d8-69d2-4a57-abca-aa777cd97915",
       "session_start_time": null,
       "spark_pool": null,
       "state": "finished",
       "statement_id": 58,
       "statement_ids": [
        58
       ]
      },
      "text/plain": [
       "StatementMeta(, 7a5450d8-69d2-4a57-abca-aa777cd97915, 58, Finished, Available)"
      ]
     },
     "metadata": {},
     "output_type": "display_data"
    },
    {
     "data": {
      "text/html": [
       "<div>\n",
       "<style scoped>\n",
       "    .dataframe tbody tr th:only-of-type {\n",
       "        vertical-align: middle;\n",
       "    }\n",
       "\n",
       "    .dataframe tbody tr th {\n",
       "        vertical-align: top;\n",
       "    }\n",
       "\n",
       "    .dataframe thead th {\n",
       "        text-align: right;\n",
       "    }\n",
       "</style>\n",
       "<table border=\"1\" class=\"dataframe\">\n",
       "  <thead>\n",
       "    <tr style=\"text-align: right;\">\n",
       "      <th></th>\n",
       "      <th>predicao</th>\n",
       "      <th>real</th>\n",
       "      <th>diferenca_abs</th>\n",
       "    </tr>\n",
       "  </thead>\n",
       "  <tbody>\n",
       "    <tr>\n",
       "      <th>0</th>\n",
       "      <td>8554.82</td>\n",
       "      <td>9095.07</td>\n",
       "      <td>540.25</td>\n",
       "    </tr>\n",
       "    <tr>\n",
       "      <th>1</th>\n",
       "      <td>6973.59</td>\n",
       "      <td>5272.18</td>\n",
       "      <td>1701.41</td>\n",
       "    </tr>\n",
       "    <tr>\n",
       "      <th>2</th>\n",
       "      <td>36798.60</td>\n",
       "      <td>29330.98</td>\n",
       "      <td>7467.62</td>\n",
       "    </tr>\n",
       "    <tr>\n",
       "      <th>3</th>\n",
       "      <td>9417.88</td>\n",
       "      <td>9301.89</td>\n",
       "      <td>115.99</td>\n",
       "    </tr>\n",
       "    <tr>\n",
       "      <th>4</th>\n",
       "      <td>26871.68</td>\n",
       "      <td>33750.29</td>\n",
       "      <td>6878.61</td>\n",
       "    </tr>\n",
       "    <tr>\n",
       "      <th>5</th>\n",
       "      <td>11097.38</td>\n",
       "      <td>4536.26</td>\n",
       "      <td>6561.12</td>\n",
       "    </tr>\n",
       "    <tr>\n",
       "      <th>6</th>\n",
       "      <td>145.28</td>\n",
       "      <td>2117.34</td>\n",
       "      <td>1972.06</td>\n",
       "    </tr>\n",
       "    <tr>\n",
       "      <th>7</th>\n",
       "      <td>16746.17</td>\n",
       "      <td>14210.54</td>\n",
       "      <td>2535.63</td>\n",
       "    </tr>\n",
       "    <tr>\n",
       "      <th>8</th>\n",
       "      <td>747.53</td>\n",
       "      <td>3732.63</td>\n",
       "      <td>2985.09</td>\n",
       "    </tr>\n",
       "    <tr>\n",
       "      <th>9</th>\n",
       "      <td>11153.68</td>\n",
       "      <td>10264.44</td>\n",
       "      <td>889.23</td>\n",
       "    </tr>\n",
       "  </tbody>\n",
       "</table>\n",
       "</div>"
      ],
      "text/plain": [
       "   predicao     real  diferenca_abs\n",
       "0   8554.82  9095.07         540.25\n",
       "1   6973.59  5272.18        1701.41\n",
       "2  36798.60 29330.98        7467.62\n",
       "3   9417.88  9301.89         115.99\n",
       "4  26871.68 33750.29        6878.61\n",
       "5  11097.38  4536.26        6561.12\n",
       "6    145.28  2117.34        1972.06\n",
       "7  16746.17 14210.54        2535.63\n",
       "8    747.53  3732.63        2985.09\n",
       "9  11153.68 10264.44         889.23"
      ]
     },
     "execution_count": 173,
     "metadata": {},
     "output_type": "execute_result"
    }
   ],
   "source": [
    "predicoes_vs_real = pd.DataFrame({'predicao': precos_preditos.flatten(), 'real': y_teste.values.flatten()})\n",
    "predicoes_vs_real['diferenca_abs'] = abs(predicoes_vs_real['predicao'] - predicoes_vs_real['real'])\n",
    "predicoes_vs_real.head(10)"
   ]
  },
  {
   "cell_type": "markdown",
   "id": "4279000a-dc79-42f6-8704-e820df5f8851",
   "metadata": {
    "nteract": {
     "transient": {
      "deleting": false
     }
    }
   },
   "source": [
    "Avaliando o modelo em relação a média com r quadrado. "
   ]
  },
  {
   "cell_type": "code",
   "execution_count": 54,
   "id": "04aa712e-6934-4e34-8e4a-0305ff46abc6",
   "metadata": {
    "jupyter": {
     "outputs_hidden": false,
     "source_hidden": false
    },
    "microsoft": {
     "language": "python",
     "language_group": "synapse_pyspark"
    },
    "nteract": {
     "transient": {
      "deleting": false
     }
    }
   },
   "outputs": [
    {
     "data": {
      "application/vnd.livy.statement-meta+json": {
       "execution_finish_time": "2024-05-26T17:41:28.0631225Z",
       "execution_start_time": "2024-05-26T17:41:27.2622Z",
       "livy_statement_state": "available",
       "parent_msg_id": "0573521b-b855-4b70-aad1-aee321108b50",
       "queued_time": "2024-05-26T17:39:54.3525776Z",
       "session_id": "7a5450d8-69d2-4a57-abca-aa777cd97915",
       "session_start_time": null,
       "spark_pool": null,
       "state": "finished",
       "statement_id": 59,
       "statement_ids": [
        59
       ]
      },
      "text/plain": [
       "StatementMeta(, 7a5450d8-69d2-4a57-abca-aa777cd97915, 59, Finished, Available)"
      ]
     },
     "metadata": {},
     "output_type": "display_data"
    },
    {
     "data": {
      "text/plain": [
       "0.7811302113434095"
      ]
     },
     "execution_count": 176,
     "metadata": {},
     "output_type": "execute_result"
    }
   ],
   "source": [
    "from sklearn.metrics import r2_score\n",
    "\n",
    "r2_score(y_true = y_teste, y_pred = precos_preditos)"
   ]
  },
  {
   "cell_type": "markdown",
   "id": "617ebb45-2a66-433e-a772-e16a841dba6d",
   "metadata": {
    "nteract": {
     "transient": {
      "deleting": false
     }
    }
   },
   "source": [
    "0,78 não é tão ruim, o modelo explica bem a variável target."
   ]
  },
  {
   "cell_type": "markdown",
   "id": "f3125a04-0994-490e-8270-4b2dc26040ad",
   "metadata": {
    "nteract": {
     "transient": {
      "deleting": false
     }
    }
   },
   "source": [
    "#### Testando a predição com novos inputs"
   ]
  },
  {
   "cell_type": "code",
   "execution_count": 55,
   "id": "163e2691-3ba3-48ff-9338-9b5680a223ee",
   "metadata": {
    "jupyter": {
     "outputs_hidden": false,
     "source_hidden": false
    },
    "microsoft": {
     "language": "python",
     "language_group": "synapse_pyspark"
    },
    "nteract": {
     "transient": {
      "deleting": false
     }
    }
   },
   "outputs": [
    {
     "data": {
      "application/vnd.livy.statement-meta+json": {
       "execution_finish_time": "2024-05-26T17:41:28.7674636Z",
       "execution_start_time": "2024-05-26T17:41:28.5049191Z",
       "livy_statement_state": "available",
       "parent_msg_id": "4a1f3957-8919-4e88-b617-7dd6d8599b56",
       "queued_time": "2024-05-26T17:39:54.6057234Z",
       "session_id": "7a5450d8-69d2-4a57-abca-aa777cd97915",
       "session_start_time": null,
       "spark_pool": null,
       "state": "finished",
       "statement_id": 60,
       "statement_ids": [
        60
       ]
      },
      "text/plain": [
       "StatementMeta(, 7a5450d8-69d2-4a57-abca-aa777cd97915, 60, Finished, Available)"
      ]
     },
     "metadata": {},
     "output_type": "display_data"
    },
    {
     "data": {
      "text/plain": [
       "Index(['age', 'bmi', 'children', 'smoker', 'female'], dtype='object')"
      ]
     },
     "execution_count": 179,
     "metadata": {},
     "output_type": "execute_result"
    }
   ],
   "source": [
    "X_teste.drop(colunas_regiao, axis = 1).columns"
   ]
  },
  {
   "cell_type": "code",
   "execution_count": 56,
   "id": "71cc3fa4-e60d-4a31-a09b-cc861429eea1",
   "metadata": {
    "jupyter": {
     "outputs_hidden": false,
     "source_hidden": false
    },
    "microsoft": {
     "language": "python",
     "language_group": "synapse_pyspark"
    },
    "nteract": {
     "transient": {
      "deleting": false
     }
    }
   },
   "outputs": [
    {
     "data": {
      "application/vnd.livy.statement-meta+json": {
       "execution_finish_time": "2024-05-26T17:41:29.4638626Z",
       "execution_start_time": "2024-05-26T17:41:29.2183189Z",
       "livy_statement_state": "available",
       "parent_msg_id": "f398b4c5-be74-4666-b4c8-3b55131fb50e",
       "queued_time": "2024-05-26T17:39:54.8273051Z",
       "session_id": "7a5450d8-69d2-4a57-abca-aa777cd97915",
       "session_start_time": null,
       "spark_pool": null,
       "state": "finished",
       "statement_id": 61,
       "statement_ids": [
        61
       ]
      },
      "text/plain": [
       "StatementMeta(, 7a5450d8-69d2-4a57-abca-aa777cd97915, 61, Finished, Available)"
      ]
     },
     "metadata": {},
     "output_type": "display_data"
    }
   ],
   "source": [
    "idade = 20\n",
    "imc = 35\n",
    "criancas = 1\n",
    "fumante = 1\n",
    "sexo = 0"
   ]
  },
  {
   "cell_type": "code",
   "execution_count": 57,
   "id": "55ed11b0-d381-428b-b158-f3dbab81eb9d",
   "metadata": {
    "jupyter": {
     "outputs_hidden": false,
     "source_hidden": false
    },
    "microsoft": {
     "language": "python",
     "language_group": "synapse_pyspark"
    },
    "nteract": {
     "transient": {
      "deleting": false
     }
    }
   },
   "outputs": [
    {
     "data": {
      "application/vnd.livy.statement-meta+json": {
       "execution_finish_time": "2024-05-26T17:41:30.1424497Z",
       "execution_start_time": "2024-05-26T17:41:29.9018007Z",
       "livy_statement_state": "available",
       "parent_msg_id": "baf12df1-8154-4689-8332-3bfd18446d8e",
       "queued_time": "2024-05-26T17:39:55.1760296Z",
       "session_id": "7a5450d8-69d2-4a57-abca-aa777cd97915",
       "session_start_time": null,
       "spark_pool": null,
       "state": "finished",
       "statement_id": 62,
       "statement_ids": [
        62
       ]
      },
      "text/plain": [
       "StatementMeta(, 7a5450d8-69d2-4a57-abca-aa777cd97915, 62, Finished, Available)"
      ]
     },
     "metadata": {},
     "output_type": "display_data"
    },
    {
     "name": "stderr",
     "output_type": "stream",
     "text": [
      "/home/trusted-service-user/cluster-env/trident_env/lib/python3.10/site-packages/sklearn/base.py:464: UserWarning: X does not have valid feature names, but MinMaxScaler was fitted with feature names\n",
      "  warnings.warn(\n"
     ]
    },
    {
     "data": {
      "text/plain": [
       "array([[0.04347826, 0.51224105, 0.2       , 1.        , 0.        ,\n",
       "        1.        , 1.        , 1.        ]])"
      ]
     },
     "execution_count": 185,
     "metadata": {},
     "output_type": "execute_result"
    }
   ],
   "source": [
    "#Realizando o scaling das features\n",
    "# Completamos com 1,1,1 porque o x_treino origina tinha colunas de regiao\n",
    "features = [[idade, imc, criancas, fumante, sexo, 1, 1, 1]]\n",
    "\n",
    "# usando o scaler do treino (nada de fitar de novo)\n",
    "features = scaler.transform(features)\n",
    "features"
   ]
  },
  {
   "cell_type": "code",
   "execution_count": 58,
   "id": "ed0e9b8c-9fc8-4e36-91d1-d70aa2da548d",
   "metadata": {
    "jupyter": {
     "outputs_hidden": false,
     "source_hidden": false
    },
    "microsoft": {
     "language": "python",
     "language_group": "synapse_pyspark"
    },
    "nteract": {
     "transient": {
      "deleting": false
     }
    }
   },
   "outputs": [
    {
     "data": {
      "application/vnd.livy.statement-meta+json": {
       "execution_finish_time": "2024-05-26T17:41:30.841345Z",
       "execution_start_time": "2024-05-26T17:41:30.5795151Z",
       "livy_statement_state": "available",
       "parent_msg_id": "e8363058-590a-4be6-b757-fe2bfbc9eec4",
       "queued_time": "2024-05-26T17:39:55.55757Z",
       "session_id": "7a5450d8-69d2-4a57-abca-aa777cd97915",
       "session_start_time": null,
       "spark_pool": null,
       "state": "finished",
       "statement_id": 63,
       "statement_ids": [
        63
       ]
      },
      "text/plain": [
       "StatementMeta(, 7a5450d8-69d2-4a57-abca-aa777cd97915, 63, Finished, Available)"
      ]
     },
     "metadata": {},
     "output_type": "display_data"
    },
    {
     "data": {
      "text/plain": [
       "array([[0.04347826, 0.51224105, 0.2       , 1.        , 0.        ]])"
      ]
     },
     "execution_count": 188,
     "metadata": {},
     "output_type": "execute_result"
    }
   ],
   "source": [
    "# pegando somentes as 5 featurs, sem regiao\n",
    "features = features[:,:-3]\n",
    "features"
   ]
  },
  {
   "cell_type": "code",
   "execution_count": 59,
   "id": "2b243a6b-38cb-46a1-b9ad-3e2c1dcfe16e",
   "metadata": {
    "jupyter": {
     "outputs_hidden": false,
     "source_hidden": false
    },
    "microsoft": {
     "language": "python",
     "language_group": "synapse_pyspark"
    },
    "nteract": {
     "transient": {
      "deleting": false
     }
    }
   },
   "outputs": [
    {
     "data": {
      "application/vnd.livy.statement-meta+json": {
       "execution_finish_time": "2024-05-26T17:41:31.538073Z",
       "execution_start_time": "2024-05-26T17:41:31.2832825Z",
       "livy_statement_state": "available",
       "parent_msg_id": "f7905de9-a594-437b-b05b-fcb48a364353",
       "queued_time": "2024-05-26T17:39:56.2202458Z",
       "session_id": "7a5450d8-69d2-4a57-abca-aa777cd97915",
       "session_start_time": null,
       "spark_pool": null,
       "state": "finished",
       "statement_id": 64,
       "statement_ids": [
        64
       ]
      },
      "text/plain": [
       "StatementMeta(, 7a5450d8-69d2-4a57-abca-aa777cd97915, 64, Finished, Available)"
      ]
     },
     "metadata": {},
     "output_type": "display_data"
    },
    {
     "name": "stderr",
     "output_type": "stream",
     "text": [
      "/home/trusted-service-user/cluster-env/trident_env/lib/python3.10/site-packages/sklearn/base.py:464: UserWarning: X does not have valid feature names, but LinearRegression was fitted with feature names\n",
      "  warnings.warn(\n",
      "2024-05-26:17:41:31,227 WARNING  [tracking_store.py:153] log_inputs not supported\n"
     ]
    },
    {
     "data": {
      "text/plain": [
       "array([[28564.80692529]])"
      ]
     },
     "execution_count": 191,
     "metadata": {},
     "output_type": "execute_result"
    }
   ],
   "source": [
    "# resultado da predição\n",
    "regressao_linear.predict(features)"
   ]
  },
  {
   "cell_type": "markdown",
   "id": "d3b84fc7-ec74-4949-b307-7114cd981f89",
   "metadata": {
    "microsoft": {
     "language": "python",
     "language_group": "synapse_pyspark"
    },
    "nteract": {
     "transient": {
      "deleting": false
     }
    }
   },
   "source": [
    "### Salvando tabelas delta"
   ]
  },
  {
   "cell_type": "code",
   "execution_count": 65,
   "id": "d8d1bc6d-29e0-4bac-8bcb-3e6717621065",
   "metadata": {
    "jupyter": {
     "outputs_hidden": false,
     "source_hidden": false
    },
    "microsoft": {
     "language": "python",
     "language_group": "synapse_pyspark"
    },
    "nteract": {
     "transient": {
      "deleting": false
     }
    }
   },
   "outputs": [
    {
     "data": {
      "application/vnd.livy.statement-meta+json": {
       "execution_finish_time": "2024-05-26T17:53:17.5325322Z",
       "execution_start_time": "2024-05-26T17:53:12.5191099Z",
       "livy_statement_state": "available",
       "parent_msg_id": "633e464d-261d-4bfe-97be-ec65d81f6ca2",
       "queued_time": "2024-05-26T17:53:11.9562485Z",
       "session_id": "7a5450d8-69d2-4a57-abca-aa777cd97915",
       "session_start_time": null,
       "spark_pool": null,
       "state": "finished",
       "statement_id": 70,
       "statement_ids": [
        70
       ]
      },
      "text/plain": [
       "StatementMeta(, 7a5450d8-69d2-4a57-abca-aa777cd97915, 70, Finished, Available)"
      ]
     },
     "metadata": {},
     "output_type": "display_data"
    }
   ],
   "source": [
    "#dados originais\n",
    "from pyspark.sql import SparkSession\n",
    "\n",
    "# Inicializa uma SparkSession\n",
    "spark = SparkSession.builder.appName(\"SalvarDataFrameComoTabela\").enableHiveSupport().getOrCreate()\n",
    "\n",
    "# Cria um DataFrame\n",
    "df = spark.createDataFrame(df_seguro_pd)\n",
    "\n",
    "# Salva o DataFrame como uma tabela persistente\n",
    "path = f\"{camada_silver}/dados_seguro_completos\"\n",
    "df.write.format(\"delta\").mode(\"overwrite\").option(\"mergeSchema\", \"true\").saveAsTable(\"dados_seguro_completos\")"
   ]
  },
  {
   "cell_type": "code",
   "execution_count": 66,
   "id": "03f35c4a-53ad-4bc9-a072-a5c49ea48ac4",
   "metadata": {
    "jupyter": {
     "outputs_hidden": false,
     "source_hidden": false
    },
    "microsoft": {
     "language": "python",
     "language_group": "synapse_pyspark"
    },
    "nteract": {
     "transient": {
      "deleting": false
     }
    }
   },
   "outputs": [
    {
     "data": {
      "application/vnd.livy.statement-meta+json": {
       "execution_finish_time": "2024-05-26T17:53:23.0387491Z",
       "execution_start_time": "2024-05-26T17:53:18.0677657Z",
       "livy_statement_state": "available",
       "parent_msg_id": "567b79ce-f31a-4f1d-8d9c-74c54d6dde06",
       "queued_time": "2024-05-26T17:53:15.2966157Z",
       "session_id": "7a5450d8-69d2-4a57-abca-aa777cd97915",
       "session_start_time": null,
       "spark_pool": null,
       "state": "finished",
       "statement_id": 71,
       "statement_ids": [
        71
       ]
      },
      "text/plain": [
       "StatementMeta(, 7a5450d8-69d2-4a57-abca-aa777cd97915, 71, Finished, Available)"
      ]
     },
     "metadata": {},
     "output_type": "display_data"
    }
   ],
   "source": [
    "#dados teste\n",
    "from pyspark.sql import SparkSession\n",
    "\n",
    "# Inicializa uma SparkSession\n",
    "spark = SparkSession.builder.appName(\"SalvarDataFrameComoTabela\").enableHiveSupport().getOrCreate()\n",
    "\n",
    "# Cria um DataFrame\n",
    "df = spark.createDataFrame(X_teste)\n",
    "\n",
    "# Salva o DataFrame como uma tabela persistente\n",
    "path = f\"{camada_silver}/dados_seguro_teste\"\n",
    "df.write.format(\"delta\").mode(\"overwrite\").option(\"mergeSchema\", \"true\").saveAsTable(\"dados_seguro_teste\")"
   ]
  },
  {
   "cell_type": "code",
   "execution_count": 68,
   "id": "63cc8314-d7da-40eb-a957-3b00bea52d7f",
   "metadata": {
    "jupyter": {
     "outputs_hidden": false,
     "source_hidden": false
    },
    "microsoft": {
     "language": "python",
     "language_group": "synapse_pyspark"
    },
    "nteract": {
     "transient": {
      "deleting": false
     }
    }
   },
   "outputs": [
    {
     "data": {
      "application/vnd.livy.statement-meta+json": {
       "execution_finish_time": "2024-05-26T17:55:26.1492514Z",
       "execution_start_time": "2024-05-26T17:55:22.4505171Z",
       "livy_statement_state": "available",
       "parent_msg_id": "a1772db1-bf3d-4c88-9406-52a603dbf32d",
       "queued_time": "2024-05-26T17:55:21.9510854Z",
       "session_id": "7a5450d8-69d2-4a57-abca-aa777cd97915",
       "session_start_time": null,
       "spark_pool": null,
       "state": "finished",
       "statement_id": 73,
       "statement_ids": [
        73
       ]
      },
      "text/plain": [
       "StatementMeta(, 7a5450d8-69d2-4a57-abca-aa777cd97915, 73, Finished, Available)"
      ]
     },
     "metadata": {},
     "output_type": "display_data"
    }
   ],
   "source": [
    "#dados previstos\n",
    "from pyspark.sql import SparkSession\n",
    "\n",
    "# Inicializa uma SparkSession\n",
    "spark = SparkSession.builder.appName(\"SalvarDataFrameComoTabela\").enableHiveSupport().getOrCreate()\n",
    "\n",
    "# Cria um DataFrame\n",
    "df = spark.createDataFrame(predicoes_vs_real)\n",
    "\n",
    "# Salva o DataFrame como uma tabela persistente\n",
    "path = f\"{camada_silver}/dados_seguro_preditos\"\n",
    "df.write.format(\"delta\").mode(\"overwrite\").option(\"mergeSchema\", \"true\").saveAsTable(\"dados_seguro_preditos\")"
   ]
  }
 ],
 "metadata": {
  "dependencies": {
   "lakehouse": {
    "default_lakehouse": "8501efaa-d562-4a06-be28-483380a3147b",
    "default_lakehouse_name": "lh_xperium_regressao_scikitlearn",
    "default_lakehouse_workspace_id": "e5ceae3a-60a1-4152-a54a-aabdd8a401c9"
   }
  },
  "kernel_info": {
   "name": "synapse_pyspark"
  },
  "kernelspec": {
   "display_name": "Python 3 (ipykernel)",
   "language": "python",
   "name": "python3"
  },
  "language_info": {
   "codemirror_mode": {
    "name": "ipython",
    "version": 3
   },
   "file_extension": ".py",
   "mimetype": "text/x-python",
   "name": "python",
   "nbconvert_exporter": "python",
   "pygments_lexer": "ipython3",
   "version": "3.9.13"
  },
  "microsoft": {
   "language": "python",
   "language_group": "synapse_pyspark"
  },
  "nteract": {
   "version": "nteract-front-end@1.0.0"
  },
  "spark_compute": {
   "compute_id": "/trident/default"
  },
  "widgets": {}
 },
 "nbformat": 4,
 "nbformat_minor": 5
}
