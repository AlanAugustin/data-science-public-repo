{
 "cells": [
  {
   "cell_type": "markdown",
   "id": "baed196a",
   "metadata": {},
   "source": [
    "## Clusterização de clientes com kmeans\n",
    "\n",
    "Problema de Negócio:\n",
    "\n",
    "Considerando dados históricos de clientes que realizaram compras em nossa empresa, faça o agrupamento (segmentação) dos clientes por similaridade de características em 3 grupos e envie o relatório para a equipe de Marketing."
   ]
  },
  {
   "cell_type": "markdown",
   "id": "3391e81c-f556-43da-a1c4-6b776de4b1f6",
   "metadata": {
    "microsoft": {
     "language": "python",
     "language_group": "synapse_pyspark"
    },
    "nteract": {
     "transient": {
      "deleting": false
     }
    }
   },
   "source": [
    "## Importar Funções e Variáveis Globais"
   ]
  },
  {
   "cell_type": "code",
   "execution_count": 1,
   "id": "8fb189f9-849e-4767-b9dd-533cca392a44",
   "metadata": {
    "jupyter": {
     "outputs_hidden": false,
     "source_hidden": false
    },
    "microsoft": {
     "language": "python",
     "language_group": "synapse_pyspark"
    },
    "nteract": {
     "transient": {
      "deleting": false
     }
    }
   },
   "outputs": [
    {
     "data": {
      "application/vnd.livy.statement-meta+json": {
       "execution_finish_time": "2024-05-29T14:58:45.6871996Z",
       "execution_start_time": "2024-05-29T14:58:45.6870195Z",
       "livy_statement_state": "available",
       "parent_msg_id": "cff00bf3-96b3-4107-ae8a-fb442b2cf955",
       "queued_time": "2024-05-29T14:58:30.1777942Z",
       "session_id": "0f91b1ee-a533-4da5-b991-69d198a13d8a",
       "session_start_time": "2024-05-29T14:58:30.4333827Z",
       "spark_pool": null,
       "state": "finished",
       "statement_id": 4,
       "statement_ids": [
        3,
        4
       ]
      },
      "text/plain": [
       "StatementMeta(, 0f91b1ee-a533-4da5-b991-69d198a13d8a, 4, Finished, Available)"
      ]
     },
     "metadata": {},
     "output_type": "display_data"
    },
    {
     "name": "stdout",
     "output_type": "stream",
     "text": [
      "Variáveis globais importadas\n"
     ]
    }
   ],
   "source": [
    "%run Variaveis_dsa_lh"
   ]
  },
  {
   "cell_type": "code",
   "execution_count": 2,
   "id": "a1dfa0fa-3ddb-43fb-a8ed-dffdb0d008a6",
   "metadata": {
    "jupyter": {
     "outputs_hidden": false,
     "source_hidden": false
    },
    "microsoft": {
     "language": "python",
     "language_group": "synapse_pyspark"
    },
    "nteract": {
     "transient": {
      "deleting": false
     }
    }
   },
   "outputs": [
    {
     "data": {
      "application/vnd.livy.statement-meta+json": {
       "execution_finish_time": null,
       "execution_start_time": null,
       "livy_statement_state": null,
       "parent_msg_id": "9bd0a68d-8d7c-43a7-98db-f2b80534178a",
       "queued_time": "2024-05-29T14:58:28.9882087Z",
       "session_id": null,
       "session_start_time": null,
       "spark_pool": null,
       "state": "waiting",
       "statement_id": null,
       "statement_ids": null
      },
      "text/plain": [
       "StatementMeta(, , , Waiting, )"
      ]
     },
     "metadata": {},
     "output_type": "display_data"
    }
   ],
   "source": [
    "%run Funcoes"
   ]
  },
  {
   "cell_type": "code",
   "execution_count": null,
   "id": "64c49233",
   "metadata": {
    "microsoft": {
     "language": "python",
     "language_group": "synapse_pyspark"
    }
   },
   "outputs": [
    {
     "data": {
      "application/vnd.livy.statement-meta+json": {
       "execution_finish_time": null,
       "execution_start_time": null,
       "livy_statement_state": null,
       "parent_msg_id": "4e54a13d-f6c3-42c9-a090-5c6659de036e",
       "queued_time": "2024-05-29T14:58:28.9920947Z",
       "session_id": null,
       "session_start_time": null,
       "spark_pool": null,
       "state": "waiting",
       "statement_id": null,
       "statement_ids": null
      },
      "text/plain": [
       "StatementMeta(, , , Waiting, )"
      ]
     },
     "metadata": {},
     "output_type": "display_data"
    }
   ],
   "source": [
    "# Imports\n",
    "import pandas as pd\n",
    "from pandas import DataFrame\n",
    "import numpy as np\n",
    "from sklearn.cluster import KMeans\n",
    "from sklearn.preprocessing import StandardScaler"
   ]
  },
  {
   "cell_type": "markdown",
   "id": "400c15c4",
   "metadata": {},
   "source": [
    "## Carregando os Dados"
   ]
  },
  {
   "cell_type": "code",
   "execution_count": null,
   "id": "8cc1cb59",
   "metadata": {
    "microsoft": {
     "language": "python",
     "language_group": "synapse_pyspark"
    }
   },
   "outputs": [
    {
     "data": {
      "application/vnd.livy.statement-meta+json": {
       "execution_finish_time": null,
       "execution_start_time": null,
       "livy_statement_state": null,
       "parent_msg_id": "0b13933c-f02f-46d4-9d58-8f56f4450459",
       "queued_time": "2024-05-29T14:58:28.9968167Z",
       "session_id": null,
       "session_start_time": null,
       "spark_pool": null,
       "state": "waiting",
       "statement_id": null,
       "statement_ids": null
      },
      "text/plain": [
       "StatementMeta(, , , Waiting, )"
      ]
     },
     "metadata": {},
     "output_type": "display_data"
    }
   ],
   "source": [
    "# Carrega os dados\n",
    "df_dsa = pd.read_csv('abfss://e5ceae3a-60a1-4152-a54a-aabdd8a401c9@onelake.dfs.fabric.microsoft.com/3edcaed8-4b2c-4f3c-b624-b392562bbb5e/Files/1. Bronze/dados_clientes.csv')\n",
    "\n",
    "#path = f\"{camada_bronze}/dados_clientes.csv\"\n",
    "#df_dsa_base = spark.read.options(delimiter = \",\", header = True, enconding = \"UTF-8\", inferSchema = True).csv(path)\n",
    "#df_dsa = DataFrame(df_dsa_base)"
   ]
  },
  {
   "cell_type": "code",
   "execution_count": null,
   "id": "839e732b",
   "metadata": {
    "microsoft": {
     "language": "python",
     "language_group": "synapse_pyspark"
    }
   },
   "outputs": [
    {
     "data": {
      "application/vnd.livy.statement-meta+json": {
       "execution_finish_time": null,
       "execution_start_time": null,
       "livy_statement_state": null,
       "parent_msg_id": "c4f32550-c8e6-4897-a706-66e419ed768d",
       "queued_time": "2024-05-29T14:58:28.999965Z",
       "session_id": null,
       "session_start_time": null,
       "spark_pool": null,
       "state": "waiting",
       "statement_id": null,
       "statement_ids": null
      },
      "text/plain": [
       "StatementMeta(, , , Waiting, )"
      ]
     },
     "metadata": {},
     "output_type": "display_data"
    }
   ],
   "source": [
    "type(df_dsa)"
   ]
  },
  {
   "cell_type": "code",
   "execution_count": null,
   "id": "e9684733",
   "metadata": {
    "microsoft": {
     "language": "python",
     "language_group": "synapse_pyspark"
    }
   },
   "outputs": [
    {
     "data": {
      "application/vnd.livy.statement-meta+json": {
       "execution_finish_time": null,
       "execution_start_time": null,
       "livy_statement_state": null,
       "parent_msg_id": "49669698-5071-42d3-8bae-c8829beff72c",
       "queued_time": "2024-05-29T14:58:29.0004641Z",
       "session_id": null,
       "session_start_time": null,
       "spark_pool": null,
       "state": "waiting",
       "statement_id": null,
       "statement_ids": null
      },
      "text/plain": [
       "StatementMeta(, , , Waiting, )"
      ]
     },
     "metadata": {},
     "output_type": "display_data"
    }
   ],
   "source": [
    "# Visualiza as 10 primeiras linhas\n",
    "df_dsa.head(10)"
   ]
  },
  {
   "cell_type": "markdown",
   "id": "f4c4fddc",
   "metadata": {},
   "source": [
    "## Análise Exploratória"
   ]
  },
  {
   "cell_type": "code",
   "execution_count": null,
   "id": "854cd7a8",
   "metadata": {
    "microsoft": {
     "language": "python",
     "language_group": "synapse_pyspark"
    }
   },
   "outputs": [
    {
     "data": {
      "application/vnd.livy.statement-meta+json": {
       "execution_finish_time": null,
       "execution_start_time": null,
       "livy_statement_state": null,
       "parent_msg_id": "9632a6e4-40e9-42f1-be35-82684bf96482",
       "queued_time": "2024-05-29T14:58:29.0041547Z",
       "session_id": null,
       "session_start_time": null,
       "spark_pool": null,
       "state": "waiting",
       "statement_id": null,
       "statement_ids": null
      },
      "text/plain": [
       "StatementMeta(, , , Waiting, )"
      ]
     },
     "metadata": {},
     "output_type": "display_data"
    }
   ],
   "source": [
    "# Resumo estatístico\n",
    "df_dsa[['idade', 'renda_anual', 'pontuacao_gastos']].describe()"
   ]
  },
  {
   "cell_type": "markdown",
   "id": "0d3b7cf2",
   "metadata": {},
   "source": [
    "## Pré-Processamento dos Dados"
   ]
  },
  {
   "cell_type": "code",
   "execution_count": null,
   "id": "cf8afdf6",
   "metadata": {
    "microsoft": {
     "language": "python",
     "language_group": "synapse_pyspark"
    }
   },
   "outputs": [
    {
     "data": {
      "application/vnd.livy.statement-meta+json": {
       "execution_finish_time": null,
       "execution_start_time": null,
       "livy_statement_state": null,
       "parent_msg_id": "9662e89c-d7e5-4050-b547-30f2015af6c8",
       "queued_time": "2024-05-29T14:58:29.0074689Z",
       "session_id": null,
       "session_start_time": null,
       "spark_pool": null,
       "state": "waiting",
       "statement_id": null,
       "statement_ids": null
      },
      "text/plain": [
       "StatementMeta(, , , Waiting, )"
      ]
     },
     "metadata": {},
     "output_type": "display_data"
    }
   ],
   "source": [
    "# Cria o padronizador dos dados\n",
    "padronizador = StandardScaler()"
   ]
  },
  {
   "cell_type": "code",
   "execution_count": null,
   "id": "fd03d713",
   "metadata": {
    "microsoft": {
     "language": "python",
     "language_group": "synapse_pyspark"
    }
   },
   "outputs": [
    {
     "data": {
      "application/vnd.livy.statement-meta+json": {
       "execution_finish_time": null,
       "execution_start_time": null,
       "livy_statement_state": null,
       "parent_msg_id": "d83e4219-1528-43e5-9421-dc3eeeb50ac9",
       "queued_time": "2024-05-29T14:58:29.0104362Z",
       "session_id": null,
       "session_start_time": null,
       "spark_pool": null,
       "state": "waiting",
       "statement_id": null,
       "statement_ids": null
      },
      "text/plain": [
       "StatementMeta(, , , Waiting, )"
      ]
     },
     "metadata": {},
     "output_type": "display_data"
    }
   ],
   "source": [
    "# Aplica o padronizador somente nas colunas de interesse\n",
    "dados_padronizados = padronizador.fit_transform(df_dsa[['idade', 'renda_anual', 'pontuacao_gastos']])"
   ]
  },
  {
   "cell_type": "code",
   "execution_count": null,
   "id": "8d5e3ff4",
   "metadata": {
    "microsoft": {
     "language": "python",
     "language_group": "synapse_pyspark"
    }
   },
   "outputs": [
    {
     "data": {
      "application/vnd.livy.statement-meta+json": {
       "execution_finish_time": null,
       "execution_start_time": null,
       "livy_statement_state": null,
       "parent_msg_id": "99916fb3-47a9-49a2-bfbe-10ac3769a26c",
       "queued_time": "2024-05-29T14:58:29.0129167Z",
       "session_id": null,
       "session_start_time": null,
       "spark_pool": null,
       "state": "waiting",
       "statement_id": null,
       "statement_ids": null
      },
      "text/plain": [
       "StatementMeta(, , , Waiting, )"
      ]
     },
     "metadata": {},
     "output_type": "display_data"
    }
   ],
   "source": [
    "# Visualiza os dados\n",
    "print(dados_padronizados)"
   ]
  },
  {
   "cell_type": "markdown",
   "id": "b08df903",
   "metadata": {},
   "source": [
    "## Construção do Modelo de Machine Learning Para Segmentação de Clientes"
   ]
  },
  {
   "cell_type": "code",
   "execution_count": null,
   "id": "3f60c1b0",
   "metadata": {
    "microsoft": {
     "language": "python",
     "language_group": "synapse_pyspark"
    }
   },
   "outputs": [
    {
     "data": {
      "application/vnd.livy.statement-meta+json": {
       "execution_finish_time": null,
       "execution_start_time": null,
       "livy_statement_state": null,
       "parent_msg_id": "7108d407-1949-45b3-b8ee-23c12ce55e52",
       "queued_time": "2024-05-29T14:58:29.0167885Z",
       "session_id": null,
       "session_start_time": null,
       "spark_pool": null,
       "state": "waiting",
       "statement_id": null,
       "statement_ids": null
      },
      "text/plain": [
       "StatementMeta(, , , Waiting, )"
      ]
     },
     "metadata": {},
     "output_type": "display_data"
    }
   ],
   "source": [
    "# Definimos o número de clusters (k)\n",
    "k = 3"
   ]
  },
  {
   "cell_type": "code",
   "execution_count": null,
   "id": "7c1bf385",
   "metadata": {
    "microsoft": {
     "language": "python",
     "language_group": "synapse_pyspark"
    }
   },
   "outputs": [
    {
     "data": {
      "application/vnd.livy.statement-meta+json": {
       "execution_finish_time": null,
       "execution_start_time": null,
       "livy_statement_state": null,
       "parent_msg_id": "dd8fb536-3788-46f3-bb12-1fdbf3b2f7df",
       "queued_time": "2024-05-29T14:58:29.0199292Z",
       "session_id": null,
       "session_start_time": null,
       "spark_pool": null,
       "state": "waiting",
       "statement_id": null,
       "statement_ids": null
      },
      "text/plain": [
       "StatementMeta(, , , Waiting, )"
      ]
     },
     "metadata": {},
     "output_type": "display_data"
    }
   ],
   "source": [
    "# Criamos o modelo K-means\n",
    "kmeans = KMeans(n_clusters = k)"
   ]
  },
  {
   "cell_type": "code",
   "execution_count": null,
   "id": "2a2c2995",
   "metadata": {
    "microsoft": {
     "language": "python",
     "language_group": "synapse_pyspark"
    }
   },
   "outputs": [
    {
     "data": {
      "application/vnd.livy.statement-meta+json": {
       "execution_finish_time": null,
       "execution_start_time": null,
       "livy_statement_state": null,
       "parent_msg_id": "df457db2-9a57-4251-a51c-d9ebe060dcd9",
       "queued_time": "2024-05-29T14:58:29.0228659Z",
       "session_id": null,
       "session_start_time": null,
       "spark_pool": null,
       "state": "waiting",
       "statement_id": null,
       "statement_ids": null
      },
      "text/plain": [
       "StatementMeta(, , , Waiting, )"
      ]
     },
     "metadata": {},
     "output_type": "display_data"
    }
   ],
   "source": [
    "# Treinamento do modelo com os dados padronizados\n",
    "kmeans.fit(dados_padronizados)"
   ]
  },
  {
   "cell_type": "code",
   "execution_count": null,
   "id": "35e03206",
   "metadata": {
    "microsoft": {
     "language": "python",
     "language_group": "synapse_pyspark"
    }
   },
   "outputs": [
    {
     "data": {
      "application/vnd.livy.statement-meta+json": {
       "execution_finish_time": null,
       "execution_start_time": null,
       "livy_statement_state": null,
       "parent_msg_id": "edf440fe-456b-4924-b427-7150272b7287",
       "queued_time": "2024-05-29T14:58:29.0242231Z",
       "session_id": null,
       "session_start_time": null,
       "spark_pool": null,
       "state": "waiting",
       "statement_id": null,
       "statement_ids": null
      },
      "text/plain": [
       "StatementMeta(, , , Waiting, )"
      ]
     },
     "metadata": {},
     "output_type": "display_data"
    }
   ],
   "source": [
    "# Atribuímos os rótulos dos clusters aos clientes\n",
    "df_dsa['cluster'] = kmeans.labels_"
   ]
  },
  {
   "cell_type": "code",
   "execution_count": null,
   "id": "8cf7345e",
   "metadata": {
    "microsoft": {
     "language": "python",
     "language_group": "synapse_pyspark"
    }
   },
   "outputs": [
    {
     "data": {
      "application/vnd.livy.statement-meta+json": {
       "execution_finish_time": null,
       "execution_start_time": null,
       "livy_statement_state": null,
       "parent_msg_id": "e62044de-ab2d-4230-9ad9-96c72ba20234",
       "queued_time": "2024-05-29T14:58:29.0271148Z",
       "session_id": null,
       "session_start_time": null,
       "spark_pool": null,
       "state": "waiting",
       "statement_id": null,
       "statement_ids": null
      },
      "text/plain": [
       "StatementMeta(, , , Waiting, )"
      ]
     },
     "metadata": {},
     "output_type": "display_data"
    }
   ],
   "source": [
    "# Exibe o resultado (10 primeiras linhas)\n",
    "df_dsa.sample(10)"
   ]
  },
  {
   "cell_type": "markdown",
   "id": "c803aaf0-17ed-4f76-9a1c-f89dc32682d2",
   "metadata": {
    "microsoft": {
     "language": "python",
     "language_group": "synapse_pyspark"
    },
    "nteract": {
     "transient": {
      "deleting": false
     }
    }
   },
   "source": [
    "Salva tabela Delta:"
   ]
  },
  {
   "cell_type": "code",
   "execution_count": null,
   "id": "ac93830f-baee-4cd0-9a94-416a1ef3548d",
   "metadata": {
    "jupyter": {
     "outputs_hidden": false,
     "source_hidden": false
    },
    "microsoft": {
     "language": "python",
     "language_group": "synapse_pyspark"
    },
    "nteract": {
     "transient": {
      "deleting": false
     }
    }
   },
   "outputs": [
    {
     "data": {
      "application/vnd.livy.statement-meta+json": {
       "execution_finish_time": null,
       "execution_start_time": null,
       "livy_statement_state": null,
       "parent_msg_id": "77b40f23-9eeb-4043-99a8-eeb8459b5cea",
       "queued_time": "2024-05-29T14:58:29.027702Z",
       "session_id": null,
       "session_start_time": null,
       "spark_pool": null,
       "state": "waiting",
       "statement_id": null,
       "statement_ids": null
      },
      "text/plain": [
       "StatementMeta(, , , Waiting, )"
      ]
     },
     "metadata": {},
     "output_type": "display_data"
    }
   ],
   "source": [
    "type(df_dsa)"
   ]
  },
  {
   "cell_type": "code",
   "execution_count": null,
   "id": "4b0e91cb-ea3a-44dd-87a8-1484861d03fb",
   "metadata": {
    "jupyter": {
     "outputs_hidden": false,
     "source_hidden": false
    },
    "microsoft": {
     "language": "python",
     "language_group": "synapse_pyspark"
    },
    "nteract": {
     "transient": {
      "deleting": false
     }
    }
   },
   "outputs": [
    {
     "data": {
      "application/vnd.livy.statement-meta+json": {
       "execution_finish_time": null,
       "execution_start_time": null,
       "livy_statement_state": null,
       "parent_msg_id": "85ab7222-e765-4bb3-91f0-3b7b865dfbab",
       "queued_time": "2024-05-29T14:58:29.0284606Z",
       "session_id": null,
       "session_start_time": null,
       "spark_pool": null,
       "state": "waiting",
       "statement_id": null,
       "statement_ids": null
      },
      "text/plain": [
       "StatementMeta(, , , Waiting, )"
      ]
     },
     "metadata": {},
     "output_type": "display_data"
    }
   ],
   "source": [
    "from pyspark.sql import SparkSession\n",
    "\n",
    "# Inicializa uma SparkSession\n",
    "spark = SparkSession.builder.appName(\"SalvarDataFrameComoTabela\").enableHiveSupport().getOrCreate()\n",
    "\n",
    "# Cria um DataFrame de exemplo\n",
    "df = spark.createDataFrame(df_dsa)\n",
    "\n",
    "# Salva o DataFrame como uma tabela persistente\n",
    "path = f\"{camada_gold}/dados_clientes_clusters\"\n",
    "df.write.format(\"delta\").mode(\"overwrite\").option(\"mergeSchema\", \"true\").saveAsTable(\"dados_clientes_clusters\")"
   ]
  }
 ],
 "metadata": {
  "dependencies": {
   "lakehouse": {
    "default_lakehouse": "3edcaed8-4b2c-4f3c-b624-b392562bbb5e",
    "default_lakehouse_name": "lh_dsa_pbi",
    "default_lakehouse_workspace_id": "e5ceae3a-60a1-4152-a54a-aabdd8a401c9"
   }
  },
  "kernel_info": {
   "name": "synapse_pyspark"
  },
  "kernelspec": {
   "display_name": "Python 3 (ipykernel)",
   "language": "python",
   "name": "python3"
  },
  "language_info": {
   "codemirror_mode": {
    "name": "ipython",
    "version": 3
   },
   "file_extension": ".py",
   "mimetype": "text/x-python",
   "name": "python",
   "nbconvert_exporter": "python",
   "pygments_lexer": "ipython3",
   "version": "3.9.13"
  },
  "microsoft": {
   "language": "python",
   "language_group": "synapse_pyspark"
  },
  "nteract": {
   "version": "nteract-front-end@1.0.0"
  },
  "spark_compute": {
   "compute_id": "/trident/default"
  },
  "widgets": {}
 },
 "nbformat": 4,
 "nbformat_minor": 5
}
